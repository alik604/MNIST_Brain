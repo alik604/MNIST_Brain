{
  "nbformat": 4,
  "nbformat_minor": 0,
  "metadata": {
    "kernelspec": {
      "display_name": "Python 3",
      "language": "python",
      "name": "python3"
    },
    "language_info": {
      "codemirror_mode": {
        "name": "ipython",
        "version": 3
      },
      "file_extension": ".py",
      "mimetype": "text/x-python",
      "name": "python",
      "nbconvert_exporter": "python",
      "pygments_lexer": "ipython3",
      "version": "3.8.5-final"
    },
    "colab": {
      "name": "LSTM.ipynb",
      "provenance": [],
      "collapsed_sections": [],
      "include_colab_link": true
    },
    "accelerator": "GPU"
  },
  "cells": [
    {
      "cell_type": "markdown",
      "metadata": {
        "id": "view-in-github",
        "colab_type": "text"
      },
      "source": [
        "<a href=\"https://colab.research.google.com/github/alik604/MNIST_Brain/blob/master/BCI%202a/LSTM.ipynb\" target=\"_parent\"><img src=\"https://colab.research.google.com/assets/colab-badge.svg\" alt=\"Open In Colab\"/></a>"
      ]
    },
    {
      "cell_type": "markdown",
      "metadata": {
        "id": "v0U9enf4ckmL",
        "colab_type": "text"
      },
      "source": [
        "# Model for common spatial pattern (CSP) feature calculation and classification for EEG data\n",
        "\n",
        "> Adapted from https://github.com/MultiScale-BCI/IV-2a\n",
        "\n"
      ]
    },
    {
      "cell_type": "markdown",
      "metadata": {
        "id": "RuoVX2YfdmyQ",
        "colab_type": "text"
      },
      "source": [
        "### Get data"
      ]
    },
    {
      "cell_type": "code",
      "metadata": {
        "id": "PW1nWAzqcqI5",
        "colab_type": "code",
        "colab": {
          "base_uri": "https://localhost:8080/",
          "height": 68
        },
        "outputId": "deba6826-3d76-4ff3-cb77-cde01dad5ce8"
      },
      "source": [
        "# !pip install lightgbm scikit-plot xgboost catboost mlxtend xgboost scikit-plot pyriemann # eclf\n",
        "# !git clone https://github.com/alik604/MNIST_Brain.git\n",
        "\n",
        "!ls 'MNIST_Brain/BCI 2a/data_2a_mat'"
      ],
      "execution_count": 1,
      "outputs": [
        {
          "output_type": "stream",
          "text": [
            "A01E.mat  A02T.mat  A04E.mat  A05T.mat\tA07E.mat  A08T.mat\n",
            "A01T.mat  A03E.mat  A04T.mat  A06E.mat\tA07T.mat  A09E.mat\n",
            "A02E.mat  A03T.mat  A05E.mat  A06T.mat\tA08E.mat  A09T.mat\n"
          ],
          "name": "stdout"
        }
      ]
    },
    {
      "cell_type": "code",
      "metadata": {
        "id": "eroQOI71dU1_",
        "colab_type": "code",
        "colab": {
          "base_uri": "https://localhost:8080/",
          "height": 102
        },
        "outputId": "191ddc89-bb24-4994-ef3a-f6263bbaf8a8"
      },
      "source": [
        "DATA_PATH = 'MNIST_Brain/BCI 2a/data_2a_mat/'\n",
        "!ls 'MNIST_Brain/BCI 2a'"
      ],
      "execution_count": 2,
      "outputs": [
        {
          "output_type": "stream",
          "text": [
            " csp.py        LSTM.ipynb\t\t     readme.md\n",
            " data_2a_mat  'main_csp as notebook.ipynb'   riemannian_multiscale.py\n",
            " eig.py        main_csp.py\t\t    'sample code - FUBAR.txt'\n",
            " filters.py    main_riemannian.py\t     testing.ipynb\n",
            " get_data.py   __pycache__\n"
          ],
          "name": "stdout"
        }
      ]
    },
    {
      "cell_type": "code",
      "metadata": {
        "id": "eVf5VQyickmM",
        "colab_type": "code",
        "colab": {
          "base_uri": "https://localhost:8080/",
          "height": 51
        },
        "outputId": "2528bc9c-9a15-4e42-dda1-7b186253173f"
      },
      "source": [
        "import time\n",
        "\n",
        "import numpy as np\n",
        "import pandas as pd \n",
        "from sklearn.decomposition import * \n",
        "from sklearn.preprocessing import *\n",
        "from sklearn.tree import DecisionTreeClassifier\n",
        "from sklearn.ensemble import RandomForestClassifier, ExtraTreesClassifier, VotingClassifier\n",
        "from sklearn.svm import *\n",
        "\n",
        "import xgboost  # xgboost.readthedocs.io/en/latest/python/python_api.html#xgboost.XGBClassifier\n",
        "import lightgbm # lightgbm.readthedocs.io/en/latest/pythonapi/lightgbm.LGBMClassifier.html\n",
        "# import catboost # catboost.ai/docs/concepts/python-quickstart.html\n",
        "import scikitplot as skplt\n",
        "from mlxtend.classifier import EnsembleVoteClassifier\n",
        "\n",
        "# import self defined functions\n",
        "\n",
        "import sys\n",
        "sys.path.append('MNIST_Brain/BCI 2a')\n",
        "\n",
        "from csp import generate_projection, generate_eye, extract_feature\n",
        "from filters import load_filterbank\n",
        "from get_data import get_data\n",
        "\n",
        "import tensorflow as tf\n",
        "from tensorflow.keras import regularizers\n",
        "from tensorflow.keras.models import Model, load_model, Sequential\n",
        "from tensorflow.keras.layers import *\n",
        "from tensorflow.keras.callbacks import ModelCheckpoint, TensorBoard\n",
        "from tensorflow.keras.constraints import max_norm\n",
        "from tensorflow.keras.preprocessing import sequence\n",
        "from tensorflow.keras.utils import to_categorical\n",
        "\n",
        "# import matplotlib.pyplot as plt\n",
        "# %matplotlib inline\n",
        "\n",
        "from IPython.core.interactiveshell import InteractiveShell\n",
        "InteractiveShell.ast_node_interactivity = \"all\""
      ],
      "execution_count": 3,
      "outputs": [
        {
          "output_type": "stream",
          "text": [
            "/usr/local/lib/python3.6/dist-packages/sklearn/externals/six.py:31: FutureWarning: The module is deprecated in version 0.21 and will be removed in version 0.23 since we've dropped support for Python 2.7. Please rely on the official version of six (https://pypi.org/project/six/).\n",
            "  \"(https://pypi.org/project/six/).\", FutureWarning)\n"
          ],
          "name": "stderr"
        }
      ]
    },
    {
      "cell_type": "markdown",
      "metadata": {
        "id": "ibZ37Ao-ckmP",
        "colab_type": "text"
      },
      "source": [
        "## Init"
      ]
    },
    {
      "cell_type": "code",
      "metadata": {
        "id": "QU26uzF_ckmP",
        "colab_type": "code",
        "colab": {}
      },
      "source": [
        "crossvalidation = False\n",
        "\n",
        "# data_path = 'data_2a_mat/'\n",
        "data_path = DATA_PATH\n",
        "\n",
        "svm_kernel = 'linear'  # 'sigmoid'#'linear' # 'sigmoid', 'rbf', 'poly'\n",
        "svm_c = 0.1  # 0.05 for linear, 20 for rbf, poly: 0.1\n",
        "useCSP = True\n",
        "NO_splits = 5  # number of folds in cross validation\n",
        "fs = 250.  # sampling frequency\n",
        "NO_channels = 22  # number of EEG channels\n",
        "NO_subjects = 9\n",
        "NO_csp = 24  # Total number of CSP feature per band and timewindow\n",
        "bw = np.array([2, 4, 8, 16, 32])  # bandwidth of filtered signals\n",
        "ftype = 'butter'  # 'fir', 'butter'\n",
        "forder = 2  # 4\n",
        "filter_bank = load_filterbank(bw, fs, order=forder, max_freq=40,\n",
        "                                   ftype=ftype)  # get filterbank coeffs\n",
        "time_windows_flt = np.array([\n",
        "    [2.5, 3.5],\n",
        "    [3, 4],\n",
        "    [3.5, 4.5],\n",
        "    [4, 5],\n",
        "    [4.5, 5.5],\n",
        "    [5, 6],\n",
        "    [2.5, 4.5],\n",
        "    [3, 5],\n",
        "    [3.5, 5.5],\n",
        "    [4, 6],\n",
        "    [2.5, 6]]) * fs  # time windows in [s] x fs for using as a feature\n",
        "\n",
        "time_windows = time_windows_flt.astype(int)\n",
        "# restrict time windows and frequency bands\n",
        "# time_windows = time_windows[10] # use only largest timewindow\n",
        "# filter_bank = filter_bank[18:27] # use only 4Hz bands\n",
        "\n",
        "NO_bands = filter_bank.shape[0]\n",
        "NO_time_windows = int(time_windows.size / 2)\n",
        "NO_features = NO_csp * NO_bands * NO_time_windows\n",
        "global train_time\n",
        "train_time = 0\n",
        "train_trials = 0\n",
        "global eval_time\n",
        "eval_time = 0\n",
        "eval_trials = 0"
      ],
      "execution_count": 4,
      "outputs": []
    },
    {
      "cell_type": "code",
      "metadata": {
        "id": "Rfnwep3ackmR",
        "colab_type": "code",
        "colab": {}
      },
      "source": [
        "# 1. Get data\n",
        "subject = 1 # [1..10]\n",
        "train_data, train_label = get_data(subject, True, data_path)\n",
        "eval_data, eval_label = get_data(subject, False, data_path)\n",
        "\n",
        "# 2. Apply CSP to bands to get spatial filter\n",
        "if useCSP:\n",
        "    w = generate_projection(train_data, train_label, NO_csp, filter_bank, time_windows)\n",
        "else:\n",
        "    w = generate_eye(train_data, train_label, filter_bank, time_windows)\n",
        "\n",
        "# 3. Extract features for training and testing\n",
        "feature_mat = extract_feature(train_data, w, filter_bank, time_windows)\n",
        "eval_feature_mat = extract_feature(eval_data, w, filter_bank, time_windows)"
      ],
      "execution_count": 5,
      "outputs": []
    },
    {
      "cell_type": "code",
      "metadata": {
        "tags": [],
        "id": "QPpUYtvlckmT",
        "colab_type": "code",
        "colab": {
          "base_uri": "https://localhost:8080/",
          "height": 102
        },
        "outputId": "4bea0ce0-075f-4d2c-e484-6306925fb0fe"
      },
      "source": [
        "# 4. Train Model(s)\n",
        "start_train = time.time()\n",
        "\n",
        "clf = LinearSVC(C=svm_c, loss='hinge', random_state=1, tol=0.00001)   # 0.87\n",
        "# clf = SVC(svm_c, svm_kernel, degree=10, gamma='auto', coef0=0.0, tol=0.001, cache_size=10000, max_iter=-1, decision_function_shape='ovr')  # 0.85\n",
        "_ = clf.fit(feature_mat, train_label)\n",
        "\n",
        "success_rate = clf.score(eval_feature_mat, eval_label)\n",
        "print(f'Acc: {success_rate:.5f} Time taken: { time.time() - start_train:.3f}')"
      ],
      "execution_count": 6,
      "outputs": [
        {
          "output_type": "stream",
          "text": [
            "/usr/local/lib/python3.6/dist-packages/sklearn/svm/_base.py:947: ConvergenceWarning: Liblinear failed to converge, increase the number of iterations.\n",
            "  \"the number of iterations.\", ConvergenceWarning)\n"
          ],
          "name": "stderr"
        },
        {
          "output_type": "execute_result",
          "data": {
            "text/plain": [
              "LinearSVC(C=0.1, class_weight=None, dual=True, fit_intercept=True,\n",
              "          intercept_scaling=1, loss='hinge', max_iter=1000, multi_class='ovr',\n",
              "          penalty='l2', random_state=1, tol=1e-05, verbose=0)"
            ]
          },
          "metadata": {
            "tags": []
          },
          "execution_count": 6
        },
        {
          "output_type": "stream",
          "text": [
            "Acc: 0.86833 Time taken: 10.956\n"
          ],
          "name": "stdout"
        }
      ]
    },
    {
      "cell_type": "code",
      "metadata": {
        "tags": [],
        "id": "XTU1vzrMckmY",
        "colab_type": "code",
        "colab": {
          "base_uri": "https://localhost:8080/",
          "height": 470
        },
        "outputId": "a11684c5-d808-463a-888e-21dcacd87712"
      },
      "source": [
        "X_train = feature_mat.copy()\n",
        "X_test = eval_feature_mat.copy()\n",
        "\n",
        "print(f'Data is of shape {X_train.shape}')\n",
        "wanted_explained_variance_ratio = 0.95\n",
        "wanted_n_components = min(X_train.shape)\n",
        "steps_down =  5 # wanted_n_components // 80\n",
        "\n",
        "first_time = True\n",
        "\n",
        "for i in range(wanted_n_components-1, 1, -steps_down):\n",
        "  total_var_ratio = round(np.sum(PCA(n_components=i).fit(X_train).explained_variance_ratio_), 5)\n",
        "  print('i =', i, 'with a variance ratio of', total_var_ratio)\n",
        "  if total_var_ratio < wanted_explained_variance_ratio and first_time:\n",
        "    wanted_n_components = i + steps_down\n",
        "    first_time = False\n",
        "    break\n",
        "\n",
        "print(\"We should set n_components to: \", wanted_n_components)\n",
        "print(f'If we use PCA(n={wanted_n_components}), we can be left with only {100 * wanted_n_components/mim(X_train.shape):.2f}% of the original data')\n",
        "\n",
        "\n",
        "pca = PCA(n_components=wanted_n_components, copy=False)\n",
        "X_train = pca.fit_transform(X_train)\n",
        "X_test = pca.transform(X_test)\n",
        "y_train = train_label\n",
        "y_test = eval_label\n",
        "print(f'Data is now of shape :{X_train.shape})')"
      ],
      "execution_count": 19,
      "outputs": [
        {
          "output_type": "stream",
          "text": [
            "Data is of shape (273, 11352)\n",
            "i = 272 with a variance ratio of 1.0\n",
            "i = 267 with a variance ratio of 0.99589\n",
            "i = 262 with a variance ratio of 0.99156\n",
            "i = 257 with a variance ratio of 0.98706\n",
            "i = 252 with a variance ratio of 0.98241\n",
            "i = 247 with a variance ratio of 0.97761\n",
            "i = 242 with a variance ratio of 0.97268\n",
            "i = 237 with a variance ratio of 0.96763\n",
            "i = 232 with a variance ratio of 0.96243\n",
            "i = 227 with a variance ratio of 0.9571\n",
            "i = 222 with a variance ratio of 0.95163\n",
            "i = 217 with a variance ratio of 0.94347\n",
            "We should set n_components to:  222\n"
          ],
          "name": "stdout"
        },
        {
          "output_type": "error",
          "ename": "NameError",
          "evalue": "ignored",
          "traceback": [
            "\u001b[0;31m---------------------------------------------------------------------------\u001b[0m",
            "\u001b[0;31mNameError\u001b[0m                                 Traceback (most recent call last)",
            "\u001b[0;32m<ipython-input-19-6be7190ffc9d>\u001b[0m in \u001b[0;36m<module>\u001b[0;34m()\u001b[0m\n\u001b[1;32m     18\u001b[0m \u001b[0;34m\u001b[0m\u001b[0m\n\u001b[1;32m     19\u001b[0m \u001b[0mprint\u001b[0m\u001b[0;34m(\u001b[0m\u001b[0;34m\"We should set n_components to: \"\u001b[0m\u001b[0;34m,\u001b[0m \u001b[0mwanted_n_components\u001b[0m\u001b[0;34m)\u001b[0m\u001b[0;34m\u001b[0m\u001b[0;34m\u001b[0m\u001b[0m\n\u001b[0;32m---> 20\u001b[0;31m \u001b[0mprint\u001b[0m\u001b[0;34m(\u001b[0m\u001b[0;34mf'If we use PCA(n={wanted_n_components}), we can be left with only {100 * wanted_n_components/mim(X_train.shape):.2f}% of the original data'\u001b[0m\u001b[0;34m)\u001b[0m\u001b[0;34m\u001b[0m\u001b[0;34m\u001b[0m\u001b[0m\n\u001b[0m\u001b[1;32m     21\u001b[0m \u001b[0;34m\u001b[0m\u001b[0m\n\u001b[1;32m     22\u001b[0m \u001b[0;34m\u001b[0m\u001b[0m\n",
            "\u001b[0;31mNameError\u001b[0m: name 'mim' is not defined"
          ]
        }
      ]
    },
    {
      "cell_type": "code",
      "metadata": {
        "tags": [],
        "id": "vdCDgM92ckma",
        "colab_type": "code",
        "colab": {
          "base_uri": "https://localhost:8080/",
          "height": 102
        },
        "outputId": "591ae20a-2d17-4e27-c2c9-69cabb1d0d28"
      },
      "source": [
        "# Subject #1, 0.87900 for the EnsembleVoteClassifier\n",
        "# Subject #1, PCA(n=222), 0.74733 for the EnsembleVoteClassifier\n",
        "\n",
        "X_train = feature_mat\n",
        "X_test = eval_feature_mat\n",
        "\n",
        "SVM = SVC(C=1, cache_size=1000, probability=True, tol=0.00001) # DecisionTreeClassifier() # 0.85 with default C. \n",
        "RFC = RandomForestClassifier(n_estimators=250, random_state=42, n_jobs=-1)\n",
        "ETC = ExtraTreesClassifier(n_estimators=350, random_state=42, n_jobs=-1)\n",
        "# XGB = xgboost.XGBClassifier(n_estimators=150, n_jobs=-1)\n",
        "GBM = lightgbm.LGBMClassifier(n_estimators=500, objective='multiclass')\n",
        "\n",
        "list_of_CLFs_names = []\n",
        "list_of_CLFs = [SVM, RFC, ETC, GBM] # XGB\n",
        "ranking = []\n",
        "\n",
        "for clf in list_of_CLFs:\n",
        "    _ = clf.fit(X_train,y_train)\n",
        "    pred = clf.score(X_test,y_test)\n",
        "    name = str(type(clf)).split(\".\")[-1][:-2]\n",
        "    print(\"Acc: %0.5f for the %s\" % (pred, name))\n",
        "\n",
        "    ranking.append(pred)\n",
        "    list_of_CLFs_names.append(name)\n",
        "\n",
        "\n",
        "eclf = EnsembleVoteClassifier(clfs=list_of_CLFs, refit=False, voting='soft')\n",
        "_ = eclf.fit(X_train, y_train)\n",
        "pred = eclf.score(X_test, y_test)\n",
        "print(\"Acc: %0.5f for the %s\" % (pred, str(type(eclf)).split(\".\")[-1][:-2]))"
      ],
      "execution_count": 8,
      "outputs": [
        {
          "output_type": "stream",
          "text": [
            "Acc: 0.85053 for the SVC\n",
            "Acc: 0.87900 for the RandomForestClassifier\n",
            "Acc: 0.85765 for the ExtraTreesClassifier\n",
            "Acc: 0.86477 for the LGBMClassifier\n",
            "Acc: 0.86121 for the EnsembleVoteClassifier\n"
          ],
          "name": "stdout"
        }
      ]
    },
    {
      "cell_type": "code",
      "metadata": {
        "id": "0Q9UaXTTckmd",
        "colab_type": "code",
        "colab": {
          "base_uri": "https://localhost:8080/",
          "height": 329
        },
        "outputId": "a5fe986a-ddff-4f7b-b838-f8cd4544ed15"
      },
      "source": [
        "# X_train = feature_mat\n",
        "# X_test = eval_feature_mat\n",
        "\n",
        "# eclf = EnsembleVoteClassifier(clfs=list_of_CLFs, refit=False, voting='soft')\n",
        "# _ = eclf.fit(X_train, y_train)\n",
        "pred = eclf.score(X_train, y_train)\n",
        "print(\"Acc: %0.5f for the %s\" % (pred, str(type(eclf)).split(\".\")[-1][:-2]))\n",
        "\n",
        "pred = eclf.predict(X_test)\n",
        "probas = eclf.predict_proba(X_test)\n",
        "skplt.metrics.plot_roc(y_true=y_test, y_probas=probas)"
      ],
      "execution_count": 31,
      "outputs": [
        {
          "output_type": "stream",
          "text": [
            "Acc: 1.00000 for the EnsembleVoteClassifier\n"
          ],
          "name": "stdout"
        },
        {
          "output_type": "execute_result",
          "data": {
            "text/plain": [
              "<matplotlib.axes._subplots.AxesSubplot at 0x7f4724148470>"
            ]
          },
          "metadata": {
            "tags": []
          },
          "execution_count": 31
        },
        {
          "output_type": "display_data",
          "data": {
            "image/png": "[encoded data removed]",
            "text/plain": [
              "<Figure size 432x288 with 1 Axes>"
            ]
          },
          "metadata": {
            "tags": [],
            "needs_background": "light"
          }
        }
      ]
    },
    {
      "cell_type": "code",
      "metadata": {
        "id": "hPKgcQIxckmg",
        "colab_type": "code",
        "colab": {
          "base_uri": "https://localhost:8080/",
          "height": 34
        },
        "outputId": "01bde2f9-7490-498c-f444-e73d6bc40d4c"
      },
      "source": [
        "feature_mat.shape\n",
        "eval_feature_mat.shape"
      ],
      "execution_count": 10,
      "outputs": [
        {
          "output_type": "execute_result",
          "data": {
            "text/plain": [
              "(273, 11352)"
            ]
          },
          "metadata": {
            "tags": []
          },
          "execution_count": 10
        },
        {
          "output_type": "execute_result",
          "data": {
            "text/plain": [
              "(281, 11352)"
            ]
          },
          "metadata": {
            "tags": []
          },
          "execution_count": 10
        }
      ]
    },
    {
      "cell_type": "code",
      "metadata": {
        "id": "-ZqXJJorzlKj",
        "colab_type": "code",
        "colab": {}
      },
      "source": [
        "## Note toself consider this..\n",
        "\n",
        "# X_train = np.reshape(train_samples,[train_samples.shape[0],1,train_samples.shape[1],train_samples.shape[2]]).astype('float32')\n",
        "# y_train = np.reshape(train_labels,[train_labels.shape[0],1]).astype('float32')\n",
        "\n",
        "# X_val = np.reshape(val_samples,[val_samples.shape[0],1,val_samples.shape[1],val_samples.shape[2]]).astype('float32') \n",
        "# y_val = np.reshape(val_labels,[val_labels.shape[0],1]).astype('float32')"
      ],
      "execution_count": 11,
      "outputs": []
    },
    {
      "cell_type": "code",
      "metadata": {
        "scrolled": true,
        "id": "koB1IjJMckmi",
        "colab_type": "code",
        "colab": {
          "base_uri": "https://localhost:8080/",
          "height": 153
        },
        "outputId": "691a1bcf-264d-46c3-b999-104e945134d9"
      },
      "source": [
        "from keras.utils.np_utils import to_categorical\n",
        "import matplotlib.pyplot as plt\n",
        "\n",
        "seq_length = 0\n",
        "\n",
        "X_train = feature_mat\n",
        "X_test = eval_feature_mat\n",
        "y_train = train_label[seq_length:]\n",
        "y_test = eval_label[seq_length:]\n",
        "\n",
        "y_train = y_train-1\n",
        "y_test = y_test-1\n",
        "y_train_oneHot, y_test_oneHot = to_categorical(y_train), to_categorical(y_test)\n",
        "\n",
        "# seqLen=60\n",
        "# seq_train=sequence.pad_sequences(sequences=X_train, maxlen=seq_length, padding='post', dtype='float32', truncating='post')\n",
        "# seq_test=sequence.pad_sequences(sequences=X_test, maxlen=seq_length, padding='post', dtype='float32', truncating='post')\n",
        "\n",
        "## OR...\n",
        "\n",
        "# def build_dataset(time_series, seq_length = seq_length):\n",
        "#     dataX = []\n",
        "#     for i in range(0, len(time_series) - seq_length):\n",
        "#         _x = time_series[i:i + seq_length]\n",
        "# #         print(_x, \"->\", _y)\n",
        "#         dataX.append(_x)\n",
        "#     return np.array(dataX)\n",
        "\n",
        "# x_train = build_dataset(X_train)\n",
        "# x_test = build_dataset(X_test)\n",
        "\n",
        "x_train = X_train\n",
        "x_test = X_test\n",
        "\n",
        "print(x_train.shape)\n",
        "print(x_test.shape)\n",
        "\n",
        "print(\"Reshaping..\")\n",
        "# N_samples, time, features\n",
        "x_train = np.reshape(x_train, (x_train.shape[0], x_train.shape[1], 1))\n",
        "x_test  = np.reshape(x_test,  (x_test.shape[0], x_test.shape[1], 1))\n",
        "\n",
        "print(x_train.shape)\n",
        "print(x_test.shape)\n",
        "\n",
        "print(y_train_oneHot[0])\n",
        "\n",
        "print(y_train_oneHot.shape)\n",
        "print(y_test_oneHot.shape)"
      ],
      "execution_count": 12,
      "outputs": [
        {
          "output_type": "stream",
          "text": [
            "(273, 11352)\n",
            "(281, 11352)\n",
            "Reshaping..\n",
            "(273, 11352, 1)\n",
            "(281, 11352, 1)\n",
            "[0. 0. 0. 1.]\n",
            "(273, 4)\n",
            "(281, 4)\n"
          ],
          "name": "stdout"
        }
      ]
    },
    {
      "cell_type": "code",
      "metadata": {
        "id": "92qjZ44WvlAg",
        "colab_type": "code",
        "colab": {
          "base_uri": "https://localhost:8080/",
          "height": 439
        },
        "outputId": "fd9b26e5-81d6-4fca-af96-9ab89a3caef2"
      },
      "source": [
        "plt.figure(figsize=(12,3))\n",
        "plt.plot(x_train[0])\n",
        "plt.show()\n",
        "plt.figure(figsize=(12,3))\n",
        "plt.plot(x_train[80])"
      ],
      "execution_count": 13,
      "outputs": [
        {
          "output_type": "execute_result",
          "data": {
            "text/plain": [
              "<Figure size 864x216 with 0 Axes>"
            ]
          },
          "metadata": {
            "tags": []
          },
          "execution_count": 13
        },
        {
          "output_type": "execute_result",
          "data": {
            "text/plain": [
              "[<matplotlib.lines.Line2D at 0x7f47889fffd0>]"
            ]
          },
          "metadata": {
            "tags": []
          },
          "execution_count": 13
        },
        {
          "output_type": "display_data",
          "data": {
            "image/png": "[encoded data removed]",
            "text/plain": [
              "<Figure size 864x216 with 1 Axes>"
            ]
          },
          "metadata": {
            "tags": [],
            "needs_background": "light"
          }
        },
        {
          "output_type": "execute_result",
          "data": {
            "text/plain": [
              "<Figure size 864x216 with 0 Axes>"
            ]
          },
          "metadata": {
            "tags": []
          },
          "execution_count": 13
        },
        {
          "output_type": "execute_result",
          "data": {
            "text/plain": [
              "[<matplotlib.lines.Line2D at 0x7f478895f4e0>]"
            ]
          },
          "metadata": {
            "tags": []
          },
          "execution_count": 13
        },
        {
          "output_type": "display_data",
          "data": {
            "image/png": "[encoded data removed]",
            "text/plain": [
              "<Figure size 864x216 with 1 Axes>"
            ]
          },
          "metadata": {
            "tags": [],
            "needs_background": "light"
          }
        }
      ]
    },
    {
      "cell_type": "code",
      "metadata": {
        "id": "FFmh4mrrckmo",
        "colab_type": "code",
        "colab": {}
      },
      "source": [
        "model = Sequential()\n",
        "model.add(Bidirectional(LSTM(100, stateful=False, return_sequences=False))) # ,return_sequences=True is need for deep (\"stacked\") # stateful=False\n",
        "model.add(BatchNormalization())\n",
        "model.add(GaussianNoise(stddev=0.3))\n",
        "\n",
        "model.add(Dense(100, activation='relu'))\n",
        "model.add(Dropout(0.6))\n",
        "model.add(Dense(64, activation='relu'))\n",
        "\n",
        "model.add(Dense(4, activation='softmax'))\n",
        "\n",
        "opt = tf.optimizers.RMSprop(0.002)\n",
        "model.compile(loss='categorical_crossentropy', optimizer=opt, metrics=['accuracy'])\n",
        "\n",
        "# model.summary()"
      ],
      "execution_count": 20,
      "outputs": []
    },
    {
      "cell_type": "code",
      "metadata": {
        "tags": [],
        "id": "j3n_-aNRckmq",
        "colab_type": "code",
        "colab": {
          "base_uri": "https://localhost:8080/",
          "height": 1000
        },
        "outputId": "8782fd45-67bb-4a51-97ee-a8ec8cafcc5a"
      },
      "source": [
        "from tensorflow.keras.callbacks import EarlyStopping, ReduceLROnPlateau\n",
        "callbacks = [] \n",
        "callbacks.append(ReduceLROnPlateau(monitor='loss', patience=6, factor=0.5))\n",
        "callbacks.append(EarlyStopping(monitor='val_loss', patience=10, restore_best_weights=True))\n",
        "\n",
        "history = model.fit(x_train, y_train_oneHot, epochs=100, batch_size=32, validation_data=(x_test, y_test_oneHot), callbacks=callbacks).history"
      ],
      "execution_count": 21,
      "outputs": [
        {
          "output_type": "stream",
          "text": [
            "Epoch 1/100\n",
            "9/9 [==============================] - 9s 994ms/step - loss: 1.1936 - accuracy: 0.4689 - val_loss: 1.3849 - val_accuracy: 0.2491\n",
            "Epoch 2/100\n",
            "9/9 [==============================] - 8s 935ms/step - loss: 1.0150 - accuracy: 0.5165 - val_loss: 1.4815 - val_accuracy: 0.2491\n",
            "Epoch 3/100\n",
            "9/9 [==============================] - 8s 917ms/step - loss: 0.8835 - accuracy: 0.5971 - val_loss: 1.4670 - val_accuracy: 0.2491\n",
            "Epoch 4/100\n",
            "9/9 [==============================] - 8s 927ms/step - loss: 0.8143 - accuracy: 0.5824 - val_loss: 1.5776 - val_accuracy: 0.2491\n",
            "Epoch 5/100\n",
            "9/9 [==============================] - 8s 927ms/step - loss: 0.8528 - accuracy: 0.6007 - val_loss: 1.4366 - val_accuracy: 0.2491\n",
            "Epoch 6/100\n",
            "9/9 [==============================] - 8s 937ms/step - loss: 0.9002 - accuracy: 0.5897 - val_loss: 1.4542 - val_accuracy: 0.2527\n",
            "Epoch 7/100\n",
            "9/9 [==============================] - 8s 929ms/step - loss: 0.7857 - accuracy: 0.6300 - val_loss: 1.6135 - val_accuracy: 0.2491\n",
            "Epoch 8/100\n",
            "9/9 [==============================] - 8s 941ms/step - loss: 0.7650 - accuracy: 0.6667 - val_loss: 1.3830 - val_accuracy: 0.2491\n",
            "Epoch 9/100\n",
            "9/9 [==============================] - 8s 919ms/step - loss: 0.7952 - accuracy: 0.6520 - val_loss: 1.5018 - val_accuracy: 0.2491\n",
            "Epoch 10/100\n",
            "9/9 [==============================] - 8s 922ms/step - loss: 0.7695 - accuracy: 0.6813 - val_loss: 1.5361 - val_accuracy: 0.2491\n",
            "Epoch 11/100\n",
            "9/9 [==============================] - 9s 949ms/step - loss: 0.8237 - accuracy: 0.6630 - val_loss: 1.2570 - val_accuracy: 0.4947\n",
            "Epoch 12/100\n",
            "9/9 [==============================] - 8s 937ms/step - loss: 0.7365 - accuracy: 0.7143 - val_loss: 1.6805 - val_accuracy: 0.2491\n",
            "Epoch 13/100\n",
            "9/9 [==============================] - 9s 948ms/step - loss: 0.6832 - accuracy: 0.6813 - val_loss: 1.2358 - val_accuracy: 0.5196\n",
            "Epoch 14/100\n",
            "9/9 [==============================] - 8s 916ms/step - loss: 0.6670 - accuracy: 0.7143 - val_loss: 1.3257 - val_accuracy: 0.2954\n",
            "Epoch 15/100\n",
            "9/9 [==============================] - 8s 930ms/step - loss: 0.6913 - accuracy: 0.6960 - val_loss: 1.2538 - val_accuracy: 0.4484\n",
            "Epoch 16/100\n",
            "9/9 [==============================] - 8s 928ms/step - loss: 0.7628 - accuracy: 0.7179 - val_loss: 1.2868 - val_accuracy: 0.3772\n",
            "Epoch 17/100\n",
            "9/9 [==============================] - 8s 927ms/step - loss: 0.6040 - accuracy: 0.7363 - val_loss: 1.1765 - val_accuracy: 0.5231\n",
            "Epoch 18/100\n",
            "9/9 [==============================] - 8s 929ms/step - loss: 0.5201 - accuracy: 0.7949 - val_loss: 1.1274 - val_accuracy: 0.5231\n",
            "Epoch 19/100\n",
            "9/9 [==============================] - 8s 930ms/step - loss: 0.6390 - accuracy: 0.7656 - val_loss: 1.4019 - val_accuracy: 0.4235\n",
            "Epoch 20/100\n",
            "9/9 [==============================] - 8s 918ms/step - loss: 0.6603 - accuracy: 0.7399 - val_loss: 1.5296 - val_accuracy: 0.2491\n",
            "Epoch 21/100\n",
            "9/9 [==============================] - 8s 922ms/step - loss: 0.6008 - accuracy: 0.7766 - val_loss: 1.2234 - val_accuracy: 0.3167\n",
            "Epoch 22/100\n",
            "9/9 [==============================] - 8s 939ms/step - loss: 0.5836 - accuracy: 0.7729 - val_loss: 1.3555 - val_accuracy: 0.4840\n",
            "Epoch 23/100\n",
            "9/9 [==============================] - 8s 928ms/step - loss: 0.6267 - accuracy: 0.7326 - val_loss: 1.1219 - val_accuracy: 0.4342\n",
            "Epoch 24/100\n",
            "9/9 [==============================] - 8s 933ms/step - loss: 0.5682 - accuracy: 0.7582 - val_loss: 1.3542 - val_accuracy: 0.4235\n",
            "Epoch 25/100\n",
            "9/9 [==============================] - 8s 934ms/step - loss: 0.4920 - accuracy: 0.8059 - val_loss: 1.1595 - val_accuracy: 0.5872\n",
            "Epoch 26/100\n",
            "9/9 [==============================] - 8s 923ms/step - loss: 0.5656 - accuracy: 0.7875 - val_loss: 1.1439 - val_accuracy: 0.5125\n",
            "Epoch 27/100\n",
            "9/9 [==============================] - 8s 929ms/step - loss: 0.4903 - accuracy: 0.8095 - val_loss: 1.0661 - val_accuracy: 0.4698\n",
            "Epoch 28/100\n",
            "9/9 [==============================] - 8s 918ms/step - loss: 0.4528 - accuracy: 0.8132 - val_loss: 1.1131 - val_accuracy: 0.5125\n",
            "Epoch 29/100\n",
            "9/9 [==============================] - 8s 923ms/step - loss: 0.4703 - accuracy: 0.8022 - val_loss: 1.0085 - val_accuracy: 0.5943\n",
            "Epoch 30/100\n",
            "9/9 [==============================] - 8s 934ms/step - loss: 0.5467 - accuracy: 0.7875 - val_loss: 1.0706 - val_accuracy: 0.5552\n",
            "Epoch 31/100\n",
            "9/9 [==============================] - 8s 931ms/step - loss: 0.4596 - accuracy: 0.8059 - val_loss: 0.9778 - val_accuracy: 0.6050\n",
            "Epoch 32/100\n",
            "9/9 [==============================] - 9s 947ms/step - loss: 0.4684 - accuracy: 0.7985 - val_loss: 1.2666 - val_accuracy: 0.6085\n",
            "Epoch 33/100\n",
            "9/9 [==============================] - 8s 937ms/step - loss: 0.5194 - accuracy: 0.7949 - val_loss: 1.3312 - val_accuracy: 0.5623\n",
            "Epoch 34/100\n",
            "9/9 [==============================] - 8s 933ms/step - loss: 0.4479 - accuracy: 0.8242 - val_loss: 0.9572 - val_accuracy: 0.5089\n",
            "Epoch 35/100\n",
            "9/9 [==============================] - 8s 921ms/step - loss: 0.4352 - accuracy: 0.8205 - val_loss: 0.8930 - val_accuracy: 0.5872\n",
            "Epoch 36/100\n",
            "9/9 [==============================] - 9s 948ms/step - loss: 0.5587 - accuracy: 0.7802 - val_loss: 0.9932 - val_accuracy: 0.5480\n",
            "Epoch 37/100\n",
            "9/9 [==============================] - 8s 916ms/step - loss: 0.4739 - accuracy: 0.8205 - val_loss: 0.9445 - val_accuracy: 0.6121\n",
            "Epoch 38/100\n",
            "9/9 [==============================] - 8s 920ms/step - loss: 0.4135 - accuracy: 0.8242 - val_loss: 0.9860 - val_accuracy: 0.5160\n",
            "Epoch 39/100\n",
            "9/9 [==============================] - 8s 934ms/step - loss: 0.4910 - accuracy: 0.7802 - val_loss: 0.8592 - val_accuracy: 0.5836\n",
            "Epoch 40/100\n",
            "9/9 [==============================] - 8s 937ms/step - loss: 0.4997 - accuracy: 0.7875 - val_loss: 1.3889 - val_accuracy: 0.5196\n",
            "Epoch 41/100\n",
            "9/9 [==============================] - 8s 922ms/step - loss: 0.4708 - accuracy: 0.8132 - val_loss: 0.8706 - val_accuracy: 0.6121\n",
            "Epoch 42/100\n",
            "9/9 [==============================] - 8s 916ms/step - loss: 0.4156 - accuracy: 0.8132 - val_loss: 0.9731 - val_accuracy: 0.4947\n",
            "Epoch 43/100\n",
            "9/9 [==============================] - 8s 919ms/step - loss: 0.4221 - accuracy: 0.8205 - val_loss: 0.8990 - val_accuracy: 0.5231\n",
            "Epoch 44/100\n",
            "9/9 [==============================] - 8s 942ms/step - loss: 0.4986 - accuracy: 0.8022 - val_loss: 1.0472 - val_accuracy: 0.4875\n",
            "Epoch 45/100\n",
            "9/9 [==============================] - 8s 923ms/step - loss: 0.4142 - accuracy: 0.8352 - val_loss: 0.9740 - val_accuracy: 0.5160\n",
            "Epoch 46/100\n",
            "9/9 [==============================] - 8s 926ms/step - loss: 0.4060 - accuracy: 0.8388 - val_loss: 1.1003 - val_accuracy: 0.5801\n",
            "Epoch 47/100\n",
            "9/9 [==============================] - 8s 929ms/step - loss: 0.3989 - accuracy: 0.8315 - val_loss: 0.8860 - val_accuracy: 0.5801\n",
            "Epoch 48/100\n",
            "9/9 [==============================] - 8s 920ms/step - loss: 0.3854 - accuracy: 0.8498 - val_loss: 0.8285 - val_accuracy: 0.6299\n",
            "Epoch 49/100\n",
            "9/9 [==============================] - 8s 928ms/step - loss: 0.4166 - accuracy: 0.8205 - val_loss: 1.0721 - val_accuracy: 0.6085\n",
            "Epoch 50/100\n",
            "9/9 [==============================] - 8s 930ms/step - loss: 0.4510 - accuracy: 0.8278 - val_loss: 0.8394 - val_accuracy: 0.6228\n",
            "Epoch 51/100\n",
            "9/9 [==============================] - 8s 930ms/step - loss: 0.4127 - accuracy: 0.8205 - val_loss: 0.7681 - val_accuracy: 0.6512\n",
            "Epoch 52/100\n",
            "9/9 [==============================] - 8s 918ms/step - loss: 0.3720 - accuracy: 0.8388 - val_loss: 0.7010 - val_accuracy: 0.6584\n",
            "Epoch 53/100\n",
            "9/9 [==============================] - 8s 936ms/step - loss: 0.3613 - accuracy: 0.8315 - val_loss: 0.7374 - val_accuracy: 0.6690\n",
            "Epoch 54/100\n",
            "9/9 [==============================] - 8s 928ms/step - loss: 0.3825 - accuracy: 0.8462 - val_loss: 1.0592 - val_accuracy: 0.5658\n",
            "Epoch 55/100\n",
            "9/9 [==============================] - 8s 926ms/step - loss: 0.3808 - accuracy: 0.8425 - val_loss: 1.0379 - val_accuracy: 0.6157\n",
            "Epoch 56/100\n",
            "9/9 [==============================] - 8s 933ms/step - loss: 0.3889 - accuracy: 0.8388 - val_loss: 0.6253 - val_accuracy: 0.7509\n",
            "Epoch 57/100\n",
            "9/9 [==============================] - 8s 915ms/step - loss: 0.4326 - accuracy: 0.8352 - val_loss: 0.6470 - val_accuracy: 0.7260\n",
            "Epoch 58/100\n",
            "9/9 [==============================] - 8s 917ms/step - loss: 0.3965 - accuracy: 0.8278 - val_loss: 0.6789 - val_accuracy: 0.7011\n",
            "Epoch 59/100\n",
            "9/9 [==============================] - 8s 923ms/step - loss: 0.4248 - accuracy: 0.8425 - val_loss: 0.6266 - val_accuracy: 0.7367\n",
            "Epoch 60/100\n",
            "9/9 [==============================] - 8s 920ms/step - loss: 0.3969 - accuracy: 0.8388 - val_loss: 0.6192 - val_accuracy: 0.7367\n",
            "Epoch 61/100\n",
            "9/9 [==============================] - 8s 925ms/step - loss: 0.4389 - accuracy: 0.8168 - val_loss: 0.6614 - val_accuracy: 0.7153\n",
            "Epoch 62/100\n",
            "9/9 [==============================] - 8s 929ms/step - loss: 0.3776 - accuracy: 0.8498 - val_loss: 0.6630 - val_accuracy: 0.7260\n",
            "Epoch 63/100\n",
            "9/9 [==============================] - 8s 915ms/step - loss: 0.3448 - accuracy: 0.8755 - val_loss: 0.6383 - val_accuracy: 0.7580\n",
            "Epoch 64/100\n",
            "9/9 [==============================] - 8s 928ms/step - loss: 0.3731 - accuracy: 0.8388 - val_loss: 0.6166 - val_accuracy: 0.7651\n",
            "Epoch 65/100\n",
            "9/9 [==============================] - 8s 918ms/step - loss: 0.3698 - accuracy: 0.8352 - val_loss: 0.6269 - val_accuracy: 0.7438\n",
            "Epoch 66/100\n",
            "9/9 [==============================] - 9s 949ms/step - loss: 0.3817 - accuracy: 0.8352 - val_loss: 0.7116 - val_accuracy: 0.6868\n",
            "Epoch 67/100\n",
            "9/9 [==============================] - 8s 917ms/step - loss: 0.3536 - accuracy: 0.8462 - val_loss: 0.6223 - val_accuracy: 0.7473\n",
            "Epoch 68/100\n",
            "9/9 [==============================] - 8s 924ms/step - loss: 0.3130 - accuracy: 0.8681 - val_loss: 0.6943 - val_accuracy: 0.7402\n",
            "Epoch 69/100\n",
            "9/9 [==============================] - 8s 921ms/step - loss: 0.3270 - accuracy: 0.8901 - val_loss: 0.7174 - val_accuracy: 0.7153\n",
            "Epoch 70/100\n",
            "9/9 [==============================] - 8s 911ms/step - loss: 0.3325 - accuracy: 0.8645 - val_loss: 0.7388 - val_accuracy: 0.7153\n",
            "Epoch 71/100\n",
            "9/9 [==============================] - 9s 948ms/step - loss: 0.3674 - accuracy: 0.8718 - val_loss: 0.8787 - val_accuracy: 0.6690\n",
            "Epoch 72/100\n",
            "9/9 [==============================] - 8s 926ms/step - loss: 0.3641 - accuracy: 0.8608 - val_loss: 0.8581 - val_accuracy: 0.6690\n",
            "Epoch 73/100\n",
            "9/9 [==============================] - 8s 923ms/step - loss: 0.3881 - accuracy: 0.8425 - val_loss: 0.7362 - val_accuracy: 0.6975\n",
            "Epoch 74/100\n",
            "9/9 [==============================] - 8s 932ms/step - loss: 0.3279 - accuracy: 0.8645 - val_loss: 0.6710 - val_accuracy: 0.7509\n"
          ],
          "name": "stdout"
        }
      ]
    },
    {
      "cell_type": "markdown",
      "metadata": {
        "id": "rDNGC5W52apL",
        "colab_type": "text"
      },
      "source": [
        "LAST: 90th epoch: 9/9 [==============================] - 4s 495ms/step - loss: 0.4764 accuracy: 0.8168 - val_loss: 0.5437 - val_accuracy: 0.7794"
      ]
    },
    {
      "cell_type": "code",
      "metadata": {
        "id": "s6UzaZe9rdbi",
        "colab_type": "code",
        "colab": {
          "base_uri": "https://localhost:8080/",
          "height": 282
        },
        "outputId": "45e9a6c8-0e63-454a-8740-b86c3a5e1f1a"
      },
      "source": [
        "plt.plot(history['loss'])\n",
        "plt.plot(history['val_loss'])"
      ],
      "execution_count": 22,
      "outputs": [
        {
          "output_type": "execute_result",
          "data": {
            "text/plain": [
              "[<matplotlib.lines.Line2D at 0x7f471c604978>]"
            ]
          },
          "metadata": {
            "tags": []
          },
          "execution_count": 22
        },
        {
          "output_type": "execute_result",
          "data": {
            "text/plain": [
              "[<matplotlib.lines.Line2D at 0x7f4724577b00>]"
            ]
          },
          "metadata": {
            "tags": []
          },
          "execution_count": 22
        },
        {
          "output_type": "display_data",
          "data": {
            "image/png": "[encoded data removed]",
            "text/plain": [
              "<Figure size 432x288 with 1 Axes>"
            ]
          },
          "metadata": {
            "tags": [],
            "needs_background": "light"
          }
        }
      ]
    },
    {
      "cell_type": "code",
      "metadata": {
        "id": "BcD2AtXBDofx",
        "colab_type": "code",
        "colab": {
          "base_uri": "https://localhost:8080/",
          "height": 357
        },
        "outputId": "de1ee6d4-b50a-40ed-d26a-5adffb0aa6aa"
      },
      "source": [
        "history = model.fit(x_train, y_train_oneHot, epochs=10, batch_size=16, validation_data=(x_test, y_test_oneHot)).history"
      ],
      "execution_count": 25,
      "outputs": [
        {
          "output_type": "stream",
          "text": [
            "Epoch 1/10\n",
            "18/18 [==============================] - 14s 799ms/step - loss: 0.3609 - accuracy: 0.8462 - val_loss: 0.7466 - val_accuracy: 0.7295\n",
            "Epoch 2/10\n",
            "18/18 [==============================] - 14s 804ms/step - loss: 0.3748 - accuracy: 0.8095 - val_loss: 0.7544 - val_accuracy: 0.7367\n",
            "Epoch 3/10\n",
            "18/18 [==============================] - 15s 808ms/step - loss: 0.3653 - accuracy: 0.8315 - val_loss: 0.7098 - val_accuracy: 0.7687\n",
            "Epoch 4/10\n",
            "18/18 [==============================] - 15s 808ms/step - loss: 0.3995 - accuracy: 0.8462 - val_loss: 0.7965 - val_accuracy: 0.7224\n",
            "Epoch 5/10\n",
            "18/18 [==============================] - 14s 799ms/step - loss: 0.2891 - accuracy: 0.8938 - val_loss: 0.7572 - val_accuracy: 0.7438\n",
            "Epoch 6/10\n",
            "18/18 [==============================] - 15s 818ms/step - loss: 0.4717 - accuracy: 0.8571 - val_loss: 0.7013 - val_accuracy: 0.7580\n",
            "Epoch 7/10\n",
            "18/18 [==============================] - 14s 803ms/step - loss: 0.3608 - accuracy: 0.8425 - val_loss: 0.7105 - val_accuracy: 0.7651\n",
            "Epoch 8/10\n",
            "18/18 [==============================] - 14s 801ms/step - loss: 0.4354 - accuracy: 0.8498 - val_loss: 0.7442 - val_accuracy: 0.7687\n",
            "Epoch 9/10\n",
            "18/18 [==============================] - 15s 817ms/step - loss: 0.3996 - accuracy: 0.8315 - val_loss: 0.8381 - val_accuracy: 0.7295\n",
            "Epoch 10/10\n",
            "18/18 [==============================] - 14s 800ms/step - loss: 0.4145 - accuracy: 0.8352 - val_loss: 0.8279 - val_accuracy: 0.7295\n"
          ],
          "name": "stdout"
        }
      ]
    },
    {
      "cell_type": "code",
      "metadata": {
        "id": "p-FPBqbHJOG3",
        "colab_type": "code",
        "colab": {}
      },
      "source": [
        ""
      ],
      "execution_count": 28,
      "outputs": []
    },
    {
      "cell_type": "code",
      "metadata": {
        "id": "wjRJ1k63ckmr",
        "colab_type": "code",
        "colab": {}
      },
      "source": [
        "# model = Sequential()\n",
        "# model.add(Conv2D(128, (1,24), kernel_regularizer=regularizers.l2(0.01))) # ,return_sequences=True is need for deep (\"stacked\") # stateful=False\n",
        "# model.add(BatchNormalization())\n",
        "# model.add(GaussianNoise(stddev=0.3))\n",
        "\n",
        " \n",
        "# model.add(Dense(128, activation='relu'))\n",
        "# model.add(Dropout(0.6))\n",
        "# model.add(Dense(64, activation='relu'))\n",
        "\n",
        "# model.add(Dense(4, activation='softmax'))\n",
        "\n",
        "# opt = tf.optimizers.RMSprop(0.002)\n",
        "# model.compile(loss='categorical_crossentropy', optimizer=opt, metrics=['accuracy'])"
      ],
      "execution_count": 17,
      "outputs": []
    },
    {
      "cell_type": "code",
      "metadata": {
        "id": "OKzIMdP2ckmt",
        "colab_type": "code",
        "colab": {}
      },
      "source": [
        "# from tensorflow.keras.callbacks import EarlyStopping, ReduceLROnPlateau\n",
        "# callbacks = [] \n",
        "# callbacks.append(ReduceLROnPlateau(patience=4, factor=0.5))\n",
        "# callbacks.append(EarlyStopping(patience=7, restore_best_weights=True))\n",
        "\n",
        "# history = model.fit(x_train, y_train_oneHot, epochs=100, batch_size=32, validation_data=(x_test, y_test_oneHot), callbacks=callbacks).history"
      ],
      "execution_count": 18,
      "outputs": []
    },
    {
      "cell_type": "code",
      "metadata": {
        "tags": [],
        "id": "pMayz8k3ckmv",
        "colab_type": "code",
        "colab": {}
      },
      "source": [
        ""
      ],
      "execution_count": 18,
      "outputs": []
    },
    {
      "cell_type": "code",
      "metadata": {
        "tags": [],
        "id": "iIt3x62Uckmx",
        "colab_type": "code",
        "colab": {}
      },
      "source": [
        ""
      ],
      "execution_count": 18,
      "outputs": []
    },
    {
      "cell_type": "code",
      "metadata": {
        "id": "nl-X_CZCckmz",
        "colab_type": "code",
        "colab": {}
      },
      "source": [
        ""
      ],
      "execution_count": 18,
      "outputs": []
    },
    {
      "cell_type": "code",
      "metadata": {
        "tags": [],
        "id": "0cQSsUXBckm0",
        "colab_type": "code",
        "colab": {}
      },
      "source": [
        ""
      ],
      "execution_count": 18,
      "outputs": []
    },
    {
      "cell_type": "code",
      "metadata": {
        "id": "bdAq_hmtckm2",
        "colab_type": "code",
        "colab": {}
      },
      "source": [
        ""
      ],
      "execution_count": 18,
      "outputs": []
    },
    {
      "cell_type": "code",
      "metadata": {
        "id": "777b4mHfckm5",
        "colab_type": "code",
        "colab": {}
      },
      "source": [
        ""
      ],
      "execution_count": 18,
      "outputs": []
    },
    {
      "cell_type": "code",
      "metadata": {
        "id": "XyjD0rvxckm7",
        "colab_type": "code",
        "colab": {}
      },
      "source": [
        ""
      ],
      "execution_count": 18,
      "outputs": []
    },
    {
      "cell_type": "code",
      "metadata": {
        "id": "CWD5JMcRckm9",
        "colab_type": "code",
        "colab": {}
      },
      "source": [
        ""
      ],
      "execution_count": 18,
      "outputs": []
    },
    {
      "cell_type": "code",
      "metadata": {
        "id": "xpqTuqRlckm_",
        "colab_type": "code",
        "colab": {}
      },
      "source": [
        ""
      ],
      "execution_count": 18,
      "outputs": []
    },
    {
      "cell_type": "code",
      "metadata": {
        "id": "qkKcwToCcknB",
        "colab_type": "code",
        "colab": {}
      },
      "source": [
        ""
      ],
      "execution_count": 18,
      "outputs": []
    },
    {
      "cell_type": "code",
      "metadata": {
        "id": "46YMXFe3cknD",
        "colab_type": "code",
        "colab": {}
      },
      "source": [
        ""
      ],
      "execution_count": 18,
      "outputs": []
    },
    {
      "cell_type": "code",
      "metadata": {
        "id": "u8-pptiZcknE",
        "colab_type": "code",
        "colab": {}
      },
      "source": [
        ""
      ],
      "execution_count": 18,
      "outputs": []
    },
    {
      "cell_type": "code",
      "metadata": {
        "id": "C2w5VKAecknG",
        "colab_type": "code",
        "colab": {}
      },
      "source": [
        ""
      ],
      "execution_count": 18,
      "outputs": []
    },
    {
      "cell_type": "code",
      "metadata": {
        "id": "wwmLqiPbcknI",
        "colab_type": "code",
        "colab": {}
      },
      "source": [
        ""
      ],
      "execution_count": 18,
      "outputs": []
    }
  ]
}