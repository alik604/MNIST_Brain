{
 "cells": [
  {
   "cell_type": "markdown",
   "metadata": {},
   "source": [
    "# Model for common spatial pattern (CSP) feature calculation and classification for EEG data\n",
    "\n",
    "> Adapted from https://github.com/MultiScale-BCI/IV-2a\n",
    "\n"
   ]
  },
  {
   "cell_type": "code",
   "execution_count": 2,
   "metadata": {},
   "outputs": [],
   "source": [
    "# !pip install lightgbm scikit-plot xgboost catboost mlxtend eclf xgboost\n",
    "\n",
    "import time\n",
    "\n",
    "import numpy as np\n",
    "import pandas as pd \n",
    "from sklearn.decomposition import * \n",
    "from sklearn.preprocessing import *\n",
    "from sklearn.tree import DecisionTreeClassifier\n",
    "from sklearn.ensemble import RandomForestClassifier, ExtraTreesClassifier, VotingClassifier\n",
    "from sklearn.svm import *\n",
    "\n",
    "import xgboost  # xgboost.readthedocs.io/en/latest/python/python_api.html#xgboost.XGBClassifier\n",
    "import lightgbm # lightgbm.readthedocs.io/en/latest/pythonapi/lightgbm.LGBMClassifier.html\n",
    "import catboost # catboost.ai/docs/concepts/python-quickstart.html\n",
    "import scikitplot as skplt\n",
    "from mlxtend.classifier import EnsembleVoteClassifier\n",
    "\n",
    "# import self defined functions\n",
    "from csp import generate_projection, generate_eye, extract_feature\n",
    "from filters import load_filterbank\n",
    "from get_data import get_data\n",
    "\n",
    "import tensorflow as tf\n",
    "from tensorflow.keras import regularizers\n",
    "from tensorflow.keras.models import Model, load_model, Sequential\n",
    "from tensorflow.keras.layers import *\n",
    "from tensorflow.keras.callbacks import ModelCheckpoint, TensorBoard\n",
    "from tensorflow.keras.constraints import max_norm\n",
    "from tensorflow.keras.preprocessing import sequence\n",
    "from tensorflow.keras.utils import to_categorical\n",
    "\n",
    "\n",
    "# import matplotlib.pyplot as plt\n",
    "# %matplotlib inline\n",
    "\n",
    "from IPython.core.interactiveshell import InteractiveShell\n",
    "InteractiveShell.ast_node_interactivity = \"all\""
   ]
  },
  {
   "cell_type": "markdown",
   "metadata": {},
   "source": [
    "## Init"
   ]
  },
  {
   "cell_type": "code",
   "execution_count": 3,
   "metadata": {},
   "outputs": [],
   "source": [
    "crossvalidation = False\n",
    "\n",
    "data_path = 'data_2a_mat/'\n",
    "svm_kernel = 'linear'  # 'sigmoid'#'linear' # 'sigmoid', 'rbf', 'poly'\n",
    "svm_c = 0.1  # 0.05 for linear, 20 for rbf, poly: 0.1\n",
    "useCSP = True\n",
    "NO_splits = 5  # number of folds in cross validation\n",
    "fs = 250.  # sampling frequency\n",
    "NO_channels = 22  # number of EEG channels\n",
    "NO_subjects = 9\n",
    "NO_csp = 24  # Total number of CSP feature per band and timewindow\n",
    "bw = np.array([2, 4, 8, 16, 32])  # bandwidth of filtered signals\n",
    "ftype = 'butter'  # 'fir', 'butter'\n",
    "forder = 2  # 4\n",
    "filter_bank = load_filterbank(bw, fs, order=forder, max_freq=40,\n",
    "                                   ftype=ftype)  # get filterbank coeffs\n",
    "time_windows_flt = np.array([\n",
    "    [2.5, 3.5],\n",
    "    [3, 4],\n",
    "    [3.5, 4.5],\n",
    "    [4, 5],\n",
    "    [4.5, 5.5],\n",
    "    [5, 6],\n",
    "    [2.5, 4.5],\n",
    "    [3, 5],\n",
    "    [3.5, 5.5],\n",
    "    [4, 6],\n",
    "    [2.5, 6]]) * fs  # time windows in [s] x fs for using as a feature\n",
    "\n",
    "time_windows = time_windows_flt.astype(int)\n",
    "# restrict time windows and frequency bands\n",
    "# time_windows = time_windows[10] # use only largest timewindow\n",
    "# filter_bank = filter_bank[18:27] # use only 4Hz bands\n",
    "\n",
    "NO_bands = filter_bank.shape[0]\n",
    "NO_time_windows = int(time_windows.size / 2)\n",
    "NO_features = NO_csp * NO_bands * NO_time_windows\n",
    "global train_time\n",
    "train_time = 0\n",
    "train_trials = 0\n",
    "global eval_time\n",
    "eval_time = 0\n",
    "eval_trials = 0"
   ]
  },
  {
   "cell_type": "code",
   "execution_count": 4,
   "metadata": {},
   "outputs": [],
   "source": [
    "# 1. Get data\n",
    "subject = 1 # [1..10]\n",
    "train_data, train_label = get_data(subject, True, data_path)\n",
    "eval_data, eval_label = get_data(subject, False, data_path)\n",
    "\n",
    "# 2. Apply CSP to bands to get spatial filter\n",
    "if useCSP:\n",
    "    w = generate_projection(train_data, train_label, NO_csp, filter_bank, time_windows)\n",
    "else:\n",
    "    w = generate_eye(train_data, train_label, filter_bank, time_windows)\n",
    "\n",
    "# 3. Extract features for training and testing\n",
    "feature_mat = extract_feature(train_data, w, filter_bank, time_windows)\n",
    "eval_feature_mat = extract_feature(eval_data, w, filter_bank, time_windows)"
   ]
  },
  {
   "cell_type": "code",
   "execution_count": 5,
   "metadata": {
    "tags": []
   },
   "outputs": [
    {
     "output_type": "execute_result",
     "data": {
      "text/plain": "LinearSVC(C=0.1, loss='hinge', random_state=1, tol=1e-05)"
     },
     "metadata": {},
     "execution_count": 5
    },
    {
     "output_type": "stream",
     "name": "stdout",
     "text": "Acc: 0.86833 Time taken: 8.636\n"
    }
   ],
   "source": [
    "start_train = time.time()\n",
    "\n",
    "# 4. Train Model(s)\n",
    "clf = LinearSVC(C=svm_c, loss='hinge', random_state=1, tol=0.00001)   # 0.87\n",
    "# clf = SVC(svm_c, svm_kernel, degree=10, gamma='auto', coef0=0.0, tol=0.001, cache_size=10000, max_iter=-1, decision_function_shape='ovr')  # 0.85\n",
    "\n",
    "clf.fit(feature_mat, train_label)\n",
    "success_rate = clf.score(eval_feature_mat, eval_label)\n",
    "print(f'Acc: {success_rate:.5f} Time taken: { time.time() - start_train:.3f}')"
   ]
  },
  {
   "cell_type": "code",
   "execution_count": null,
   "metadata": {},
   "outputs": [],
   "source": []
  },
  {
   "cell_type": "code",
   "execution_count": 6,
   "metadata": {
    "tags": []
   },
   "outputs": [
    {
     "output_type": "stream",
     "name": "stdout",
     "text": "Data is now of shape :(273, 11352))\n"
    }
   ],
   "source": [
    "X_train = feature_mat.copy()\n",
    "X_test = eval_feature_mat.copy()\n",
    "\n",
    "print(f'Data is of shape {X_train.shape}')\n",
    "wanted_explained_variance_ratio = 0.95\n",
    "wanted_n_components = min(X_train.shape)\n",
    "steps_down =  5 # wanted_n_components // 80\n",
    "\n",
    "first_time = True\n",
    "\n",
    "for i in range(wanted_n_components-1, 1, -steps_down):\n",
    "  total_var_ratio = round(np.sum(PCA(n_components=i).fit(X_train).explained_variance_ratio_), 5)\n",
    "  print('i =', i, 'with a variance ratio of', total_var_ratio)\n",
    "  if total_var_ratio < wanted_explained_variance_ratio and first_time:\n",
    "    wanted_n_components = i + steps_down\n",
    "    first_time = False\n",
    "    break\n",
    "\n",
    "print(\"We should set n_components to: \", wanted_n_components)\n",
    "print(f'If we use PCA(n={wanted_n_components}), we can be left with only {100 * wanted_n_components/X_train.shape[1]:.2f}% of the original data')\n",
    "\n",
    "\n",
    "pca = PCA(n_components=wanted_n_components, copy=False)\n",
    "X_train = pca.fit_transform(X_train)\n",
    "X_test = pca.transform(X_test)\n",
    "y_train = train_label\n",
    "y_test = eval_label\n",
    "print(f'Data is now of shape :{X_train.shape})')"
   ]
  },
  {
   "cell_type": "code",
   "execution_count": 6,
   "metadata": {
    "tags": []
   },
   "outputs": [
    {
     "output_type": "stream",
     "name": "stdout",
     "text": "Acc: 0.85053 for the SVC\nAcc: 0.87900 for the RandomForestClassifier\nAcc: 0.85765 for the ExtraTreesClassifier\nAcc: 0.87544 for the LGBMClassifier\n['SVC', 'RandomForestClassifier', 'ExtraTreesClassifier', 'LGBMClassifier']\nNegatives will be removed: \n [-0.0, 0.03, 0.01, 0.02]\nAcc: 0.87900 for the EnsembleVoteClassifier\n"
    }
   ],
   "source": [
    "# Subject #1, PCA(n=222), 0.87900 for the EnsembleVoteClassifier\n",
    "# Subject #1, PCA(n=222), 0.74733 for the EnsembleVoteClassifier\n",
    "\n",
    "X_train = feature_mat\n",
    "X_test = eval_feature_mat\n",
    "\n",
    "SVM = SVC(C=1, cache_size=1000, probability=True, tol=0.00001) # DecisionTreeClassifier() # 0.85 with default C. \n",
    "RFC = RandomForestClassifier(n_estimators=250, random_state=42, n_jobs=-1)\n",
    "ETC = ExtraTreesClassifier(n_estimators=350, random_state=42, n_jobs=-1)\n",
    "# XGB = xgboost.XGBClassifier(n_estimators=150, n_jobs=-1)\n",
    "GBM = lightgbm.LGBMClassifier(n_estimators=500, objective='multiclass')\n",
    "\n",
    "list_of_CLFs_names = []\n",
    "list_of_CLFs = [SVM, RFC, ETC, GBM] # XGB\n",
    "ranking = []\n",
    "\n",
    "for clf in list_of_CLFs:\n",
    "    _ = clf.fit(X_train,y_train)\n",
    "    pred = clf.score(X_test,y_test)\n",
    "    name = str(type(clf)).split(\".\")[-1][:-2]\n",
    "    print(\"Acc: %0.5f for the %s\" % (pred, name))\n",
    "\n",
    "    ranking.append(pred)\n",
    "    list_of_CLFs_names.append(name)\n",
    "\n",
    "best = max(ranking)\n",
    "avg = sum(ranking)/len(ranking)\n",
    "variance = avg - best\n",
    "to_remove = ranking - avg - variance\n",
    "to_remove_alt = ranking - best - variance\n",
    "print(list_of_CLFs_names)\n",
    "print('Negatives will be removed: \\n', [round(elm,2) for elm in to_remove])\n",
    "# print(to_remove_alt)\n",
    "ranking = (np.array(ranking)[to_remove > 0]).tolist()\n",
    "list_of_CLFs = (np.array(list_of_CLFs)[to_remove > 0]).tolist()\n",
    "\n",
    "eclf = EnsembleVoteClassifier(clfs=list_of_CLFs, fit_base_estimators=False, voting='soft')\n",
    "_ = eclf.fit(X_train, y_train)\n",
    "pred = eclf.score(X_test, y_test)\n",
    "print(\"Acc: %0.5f for the %s\" % (pred, str(type(eclf)).split(\".\")[-1][:-2]))"
   ]
  },
  {
   "cell_type": "code",
   "execution_count": 7,
   "metadata": {},
   "outputs": [
    {
     "output_type": "execute_result",
     "data": {
      "text/plain": "<AxesSubplot:title={'center':'ROC Curves'}, xlabel='False Positive Rate', ylabel='True Positive Rate'>"
     },
     "metadata": {},
     "execution_count": 7
    },
    {
     "output_type": "display_data",
     "data": {
      "text/plain": "<Figure size 432x288 with 1 Axes>",
      "image/svg+xml": "<?xml version=\"1.0\" encoding=\"utf-8\" standalone=\"no\"?>\r\n<!DOCTYPE svg PUBLIC \"-//W3C//DTD SVG 1.1//EN\"\r\n  \"http://www.w3.org/Graphics/SVG/1.1/DTD/svg11.dtd\">\r\n<!-- Created with matplotlib (https://matplotlib.org/) -->\r\n<svg height=\"277.314375pt\" version=\"1.1\" viewBox=\"0 0 393.732813 277.314375\" width=\"393.732813pt\" xmlns=\"http://www.w3.org/2000/svg\" xmlns:xlink=\"http://www.w3.org/1999/xlink\">\r\n <metadata>\r\n  <rdf:RDF xmlns:cc=\"http://creativecommons.org/ns#\" xmlns:dc=\"http://purl.org/dc/elements/1.1/\" xmlns:rdf=\"http://www.w3.org/1999/02/22-rdf-syntax-ns#\">\r\n   <cc:Work>\r\n    <dc:type rdf:resource=\"http://purl.org/dc/dcmitype/StillImage\"/>\r\n    <dc:date>2020-09-20T11:17:22.567867</dc:date>\r\n    <dc:format>image/svg+xml</dc:format>\r\n    <dc:creator>\r\n     <cc:Agent>\r\n      <dc:title>Matplotlib v3.3.1, https://matplotlib.org/</dc:title>\r\n     </cc:Agent>\r\n    </dc:creator>\r\n   </cc:Work>\r\n  </rdf:RDF>\r\n </metadata>\r\n <defs>\r\n  <style type=\"text/css\">*{stroke-linecap:butt;stroke-linejoin:round;}</style>\r\n </defs>\r\n <g id=\"figure_1\">\r\n  <g id=\"patch_1\">\r\n   <path d=\"M 0 277.314375 \r\nL 393.732813 277.314375 \r\nL 393.732813 0 \r\nL 0 0 \r\nz\r\n\" style=\"fill:none;\"/>\r\n  </g>\r\n  <g id=\"axes_1\">\r\n   <g id=\"patch_2\">\r\n    <path d=\"M 43.78125 239.758125 \r\nL 378.58125 239.758125 \r\nL 378.58125 22.318125 \r\nL 43.78125 22.318125 \r\nz\r\n\" style=\"fill:#ffffff;\"/>\r\n   </g>\r\n   <g id=\"matplotlib.axis_1\">\r\n    <g id=\"xtick_1\">\r\n     <g id=\"line2d_1\">\r\n      <defs>\r\n       <path d=\"M 0 0 \r\nL 0 3.5 \r\n\" id=\"mcd8d9a494f\" style=\"stroke:#000000;stroke-width:0.8;\"/>\r\n      </defs>\r\n      <g>\r\n       <use style=\"stroke:#000000;stroke-width:0.8;\" x=\"43.78125\" xlink:href=\"#mcd8d9a494f\" y=\"239.758125\"/>\r\n      </g>\r\n     </g>\r\n     <g id=\"text_1\">\r\n      <!-- 0.0 -->\r\n      <g transform=\"translate(35.829688 254.356562)scale(0.1 -0.1)\">\r\n       <defs>\r\n        <path d=\"M 31.78125 66.40625 \r\nQ 24.171875 66.40625 20.328125 58.90625 \r\nQ 16.5 51.421875 16.5 36.375 \r\nQ 16.5 21.390625 20.328125 13.890625 \r\nQ 24.171875 6.390625 31.78125 6.390625 \r\nQ 39.453125 6.390625 43.28125 13.890625 \r\nQ 47.125 21.390625 47.125 36.375 \r\nQ 47.125 51.421875 43.28125 58.90625 \r\nQ 39.453125 66.40625 31.78125 66.40625 \r\nz\r\nM 31.78125 74.21875 \r\nQ 44.046875 74.21875 50.515625 64.515625 \r\nQ 56.984375 54.828125 56.984375 36.375 \r\nQ 56.984375 17.96875 50.515625 8.265625 \r\nQ 44.046875 -1.421875 31.78125 -1.421875 \r\nQ 19.53125 -1.421875 13.0625 8.265625 \r\nQ 6.59375 17.96875 6.59375 36.375 \r\nQ 6.59375 54.828125 13.0625 64.515625 \r\nQ 19.53125 74.21875 31.78125 74.21875 \r\nz\r\n\" id=\"DejaVuSans-48\"/>\r\n        <path d=\"M 10.6875 12.40625 \r\nL 21 12.40625 \r\nL 21 0 \r\nL 10.6875 0 \r\nz\r\n\" id=\"DejaVuSans-46\"/>\r\n       </defs>\r\n       <use xlink:href=\"#DejaVuSans-48\"/>\r\n       <use x=\"63.623047\" xlink:href=\"#DejaVuSans-46\"/>\r\n       <use x=\"95.410156\" xlink:href=\"#DejaVuSans-48\"/>\r\n      </g>\r\n     </g>\r\n    </g>\r\n    <g id=\"xtick_2\">\r\n     <g id=\"line2d_2\">\r\n      <g>\r\n       <use style=\"stroke:#000000;stroke-width:0.8;\" x=\"110.74125\" xlink:href=\"#mcd8d9a494f\" y=\"239.758125\"/>\r\n      </g>\r\n     </g>\r\n     <g id=\"text_2\">\r\n      <!-- 0.2 -->\r\n      <g transform=\"translate(102.789688 254.356562)scale(0.1 -0.1)\">\r\n       <defs>\r\n        <path d=\"M 19.1875 8.296875 \r\nL 53.609375 8.296875 \r\nL 53.609375 0 \r\nL 7.328125 0 \r\nL 7.328125 8.296875 \r\nQ 12.9375 14.109375 22.625 23.890625 \r\nQ 32.328125 33.6875 34.8125 36.53125 \r\nQ 39.546875 41.84375 41.421875 45.53125 \r\nQ 43.3125 49.21875 43.3125 52.78125 \r\nQ 43.3125 58.59375 39.234375 62.25 \r\nQ 35.15625 65.921875 28.609375 65.921875 \r\nQ 23.96875 65.921875 18.8125 64.3125 \r\nQ 13.671875 62.703125 7.8125 59.421875 \r\nL 7.8125 69.390625 \r\nQ 13.765625 71.78125 18.9375 73 \r\nQ 24.125 74.21875 28.421875 74.21875 \r\nQ 39.75 74.21875 46.484375 68.546875 \r\nQ 53.21875 62.890625 53.21875 53.421875 \r\nQ 53.21875 48.921875 51.53125 44.890625 \r\nQ 49.859375 40.875 45.40625 35.40625 \r\nQ 44.1875 33.984375 37.640625 27.21875 \r\nQ 31.109375 20.453125 19.1875 8.296875 \r\nz\r\n\" id=\"DejaVuSans-50\"/>\r\n       </defs>\r\n       <use xlink:href=\"#DejaVuSans-48\"/>\r\n       <use x=\"63.623047\" xlink:href=\"#DejaVuSans-46\"/>\r\n       <use x=\"95.410156\" xlink:href=\"#DejaVuSans-50\"/>\r\n      </g>\r\n     </g>\r\n    </g>\r\n    <g id=\"xtick_3\">\r\n     <g id=\"line2d_3\">\r\n      <g>\r\n       <use style=\"stroke:#000000;stroke-width:0.8;\" x=\"177.70125\" xlink:href=\"#mcd8d9a494f\" y=\"239.758125\"/>\r\n      </g>\r\n     </g>\r\n     <g id=\"text_3\">\r\n      <!-- 0.4 -->\r\n      <g transform=\"translate(169.749688 254.356562)scale(0.1 -0.1)\">\r\n       <defs>\r\n        <path d=\"M 37.796875 64.3125 \r\nL 12.890625 25.390625 \r\nL 37.796875 25.390625 \r\nz\r\nM 35.203125 72.90625 \r\nL 47.609375 72.90625 \r\nL 47.609375 25.390625 \r\nL 58.015625 25.390625 \r\nL 58.015625 17.1875 \r\nL 47.609375 17.1875 \r\nL 47.609375 0 \r\nL 37.796875 0 \r\nL 37.796875 17.1875 \r\nL 4.890625 17.1875 \r\nL 4.890625 26.703125 \r\nz\r\n\" id=\"DejaVuSans-52\"/>\r\n       </defs>\r\n       <use xlink:href=\"#DejaVuSans-48\"/>\r\n       <use x=\"63.623047\" xlink:href=\"#DejaVuSans-46\"/>\r\n       <use x=\"95.410156\" xlink:href=\"#DejaVuSans-52\"/>\r\n      </g>\r\n     </g>\r\n    </g>\r\n    <g id=\"xtick_4\">\r\n     <g id=\"line2d_4\">\r\n      <g>\r\n       <use style=\"stroke:#000000;stroke-width:0.8;\" x=\"244.66125\" xlink:href=\"#mcd8d9a494f\" y=\"239.758125\"/>\r\n      </g>\r\n     </g>\r\n     <g id=\"text_4\">\r\n      <!-- 0.6 -->\r\n      <g transform=\"translate(236.709688 254.356562)scale(0.1 -0.1)\">\r\n       <defs>\r\n        <path d=\"M 33.015625 40.375 \r\nQ 26.375 40.375 22.484375 35.828125 \r\nQ 18.609375 31.296875 18.609375 23.390625 \r\nQ 18.609375 15.53125 22.484375 10.953125 \r\nQ 26.375 6.390625 33.015625 6.390625 \r\nQ 39.65625 6.390625 43.53125 10.953125 \r\nQ 47.40625 15.53125 47.40625 23.390625 \r\nQ 47.40625 31.296875 43.53125 35.828125 \r\nQ 39.65625 40.375 33.015625 40.375 \r\nz\r\nM 52.59375 71.296875 \r\nL 52.59375 62.3125 \r\nQ 48.875 64.0625 45.09375 64.984375 \r\nQ 41.3125 65.921875 37.59375 65.921875 \r\nQ 27.828125 65.921875 22.671875 59.328125 \r\nQ 17.53125 52.734375 16.796875 39.40625 \r\nQ 19.671875 43.65625 24.015625 45.921875 \r\nQ 28.375 48.1875 33.59375 48.1875 \r\nQ 44.578125 48.1875 50.953125 41.515625 \r\nQ 57.328125 34.859375 57.328125 23.390625 \r\nQ 57.328125 12.15625 50.6875 5.359375 \r\nQ 44.046875 -1.421875 33.015625 -1.421875 \r\nQ 20.359375 -1.421875 13.671875 8.265625 \r\nQ 6.984375 17.96875 6.984375 36.375 \r\nQ 6.984375 53.65625 15.1875 63.9375 \r\nQ 23.390625 74.21875 37.203125 74.21875 \r\nQ 40.921875 74.21875 44.703125 73.484375 \r\nQ 48.484375 72.75 52.59375 71.296875 \r\nz\r\n\" id=\"DejaVuSans-54\"/>\r\n       </defs>\r\n       <use xlink:href=\"#DejaVuSans-48\"/>\r\n       <use x=\"63.623047\" xlink:href=\"#DejaVuSans-46\"/>\r\n       <use x=\"95.410156\" xlink:href=\"#DejaVuSans-54\"/>\r\n      </g>\r\n     </g>\r\n    </g>\r\n    <g id=\"xtick_5\">\r\n     <g id=\"line2d_5\">\r\n      <g>\r\n       <use style=\"stroke:#000000;stroke-width:0.8;\" x=\"311.62125\" xlink:href=\"#mcd8d9a494f\" y=\"239.758125\"/>\r\n      </g>\r\n     </g>\r\n     <g id=\"text_5\">\r\n      <!-- 0.8 -->\r\n      <g transform=\"translate(303.669688 254.356562)scale(0.1 -0.1)\">\r\n       <defs>\r\n        <path d=\"M 31.78125 34.625 \r\nQ 24.75 34.625 20.71875 30.859375 \r\nQ 16.703125 27.09375 16.703125 20.515625 \r\nQ 16.703125 13.921875 20.71875 10.15625 \r\nQ 24.75 6.390625 31.78125 6.390625 \r\nQ 38.8125 6.390625 42.859375 10.171875 \r\nQ 46.921875 13.96875 46.921875 20.515625 \r\nQ 46.921875 27.09375 42.890625 30.859375 \r\nQ 38.875 34.625 31.78125 34.625 \r\nz\r\nM 21.921875 38.8125 \r\nQ 15.578125 40.375 12.03125 44.71875 \r\nQ 8.5 49.078125 8.5 55.328125 \r\nQ 8.5 64.0625 14.71875 69.140625 \r\nQ 20.953125 74.21875 31.78125 74.21875 \r\nQ 42.671875 74.21875 48.875 69.140625 \r\nQ 55.078125 64.0625 55.078125 55.328125 \r\nQ 55.078125 49.078125 51.53125 44.71875 \r\nQ 48 40.375 41.703125 38.8125 \r\nQ 48.828125 37.15625 52.796875 32.3125 \r\nQ 56.78125 27.484375 56.78125 20.515625 \r\nQ 56.78125 9.90625 50.3125 4.234375 \r\nQ 43.84375 -1.421875 31.78125 -1.421875 \r\nQ 19.734375 -1.421875 13.25 4.234375 \r\nQ 6.78125 9.90625 6.78125 20.515625 \r\nQ 6.78125 27.484375 10.78125 32.3125 \r\nQ 14.796875 37.15625 21.921875 38.8125 \r\nz\r\nM 18.3125 54.390625 \r\nQ 18.3125 48.734375 21.84375 45.5625 \r\nQ 25.390625 42.390625 31.78125 42.390625 \r\nQ 38.140625 42.390625 41.71875 45.5625 \r\nQ 45.3125 48.734375 45.3125 54.390625 \r\nQ 45.3125 60.0625 41.71875 63.234375 \r\nQ 38.140625 66.40625 31.78125 66.40625 \r\nQ 25.390625 66.40625 21.84375 63.234375 \r\nQ 18.3125 60.0625 18.3125 54.390625 \r\nz\r\n\" id=\"DejaVuSans-56\"/>\r\n       </defs>\r\n       <use xlink:href=\"#DejaVuSans-48\"/>\r\n       <use x=\"63.623047\" xlink:href=\"#DejaVuSans-46\"/>\r\n       <use x=\"95.410156\" xlink:href=\"#DejaVuSans-56\"/>\r\n      </g>\r\n     </g>\r\n    </g>\r\n    <g id=\"xtick_6\">\r\n     <g id=\"line2d_6\">\r\n      <g>\r\n       <use style=\"stroke:#000000;stroke-width:0.8;\" x=\"378.58125\" xlink:href=\"#mcd8d9a494f\" y=\"239.758125\"/>\r\n      </g>\r\n     </g>\r\n     <g id=\"text_6\">\r\n      <!-- 1.0 -->\r\n      <g transform=\"translate(370.629687 254.356562)scale(0.1 -0.1)\">\r\n       <defs>\r\n        <path d=\"M 12.40625 8.296875 \r\nL 28.515625 8.296875 \r\nL 28.515625 63.921875 \r\nL 10.984375 60.40625 \r\nL 10.984375 69.390625 \r\nL 28.421875 72.90625 \r\nL 38.28125 72.90625 \r\nL 38.28125 8.296875 \r\nL 54.390625 8.296875 \r\nL 54.390625 0 \r\nL 12.40625 0 \r\nz\r\n\" id=\"DejaVuSans-49\"/>\r\n       </defs>\r\n       <use xlink:href=\"#DejaVuSans-49\"/>\r\n       <use x=\"63.623047\" xlink:href=\"#DejaVuSans-46\"/>\r\n       <use x=\"95.410156\" xlink:href=\"#DejaVuSans-48\"/>\r\n      </g>\r\n     </g>\r\n    </g>\r\n    <g id=\"text_7\">\r\n     <!-- False Positive Rate -->\r\n     <g transform=\"translate(164.714844 268.034687)scale(0.1 -0.1)\">\r\n      <defs>\r\n       <path d=\"M 9.8125 72.90625 \r\nL 51.703125 72.90625 \r\nL 51.703125 64.59375 \r\nL 19.671875 64.59375 \r\nL 19.671875 43.109375 \r\nL 48.578125 43.109375 \r\nL 48.578125 34.8125 \r\nL 19.671875 34.8125 \r\nL 19.671875 0 \r\nL 9.8125 0 \r\nz\r\n\" id=\"DejaVuSans-70\"/>\r\n       <path d=\"M 34.28125 27.484375 \r\nQ 23.390625 27.484375 19.1875 25 \r\nQ 14.984375 22.515625 14.984375 16.5 \r\nQ 14.984375 11.71875 18.140625 8.90625 \r\nQ 21.296875 6.109375 26.703125 6.109375 \r\nQ 34.1875 6.109375 38.703125 11.40625 \r\nQ 43.21875 16.703125 43.21875 25.484375 \r\nL 43.21875 27.484375 \r\nz\r\nM 52.203125 31.203125 \r\nL 52.203125 0 \r\nL 43.21875 0 \r\nL 43.21875 8.296875 \r\nQ 40.140625 3.328125 35.546875 0.953125 \r\nQ 30.953125 -1.421875 24.3125 -1.421875 \r\nQ 15.921875 -1.421875 10.953125 3.296875 \r\nQ 6 8.015625 6 15.921875 \r\nQ 6 25.140625 12.171875 29.828125 \r\nQ 18.359375 34.515625 30.609375 34.515625 \r\nL 43.21875 34.515625 \r\nL 43.21875 35.40625 \r\nQ 43.21875 41.609375 39.140625 45 \r\nQ 35.0625 48.390625 27.6875 48.390625 \r\nQ 23 48.390625 18.546875 47.265625 \r\nQ 14.109375 46.140625 10.015625 43.890625 \r\nL 10.015625 52.203125 \r\nQ 14.9375 54.109375 19.578125 55.046875 \r\nQ 24.21875 56 28.609375 56 \r\nQ 40.484375 56 46.34375 49.84375 \r\nQ 52.203125 43.703125 52.203125 31.203125 \r\nz\r\n\" id=\"DejaVuSans-97\"/>\r\n       <path d=\"M 9.421875 75.984375 \r\nL 18.40625 75.984375 \r\nL 18.40625 0 \r\nL 9.421875 0 \r\nz\r\n\" id=\"DejaVuSans-108\"/>\r\n       <path d=\"M 44.28125 53.078125 \r\nL 44.28125 44.578125 \r\nQ 40.484375 46.53125 36.375 47.5 \r\nQ 32.28125 48.484375 27.875 48.484375 \r\nQ 21.1875 48.484375 17.84375 46.4375 \r\nQ 14.5 44.390625 14.5 40.28125 \r\nQ 14.5 37.15625 16.890625 35.375 \r\nQ 19.28125 33.59375 26.515625 31.984375 \r\nL 29.59375 31.296875 \r\nQ 39.15625 29.25 43.1875 25.515625 \r\nQ 47.21875 21.78125 47.21875 15.09375 \r\nQ 47.21875 7.46875 41.1875 3.015625 \r\nQ 35.15625 -1.421875 24.609375 -1.421875 \r\nQ 20.21875 -1.421875 15.453125 -0.5625 \r\nQ 10.6875 0.296875 5.421875 2 \r\nL 5.421875 11.28125 \r\nQ 10.40625 8.6875 15.234375 7.390625 \r\nQ 20.0625 6.109375 24.8125 6.109375 \r\nQ 31.15625 6.109375 34.5625 8.28125 \r\nQ 37.984375 10.453125 37.984375 14.40625 \r\nQ 37.984375 18.0625 35.515625 20.015625 \r\nQ 33.0625 21.96875 24.703125 23.78125 \r\nL 21.578125 24.515625 \r\nQ 13.234375 26.265625 9.515625 29.90625 \r\nQ 5.8125 33.546875 5.8125 39.890625 \r\nQ 5.8125 47.609375 11.28125 51.796875 \r\nQ 16.75 56 26.8125 56 \r\nQ 31.78125 56 36.171875 55.265625 \r\nQ 40.578125 54.546875 44.28125 53.078125 \r\nz\r\n\" id=\"DejaVuSans-115\"/>\r\n       <path d=\"M 56.203125 29.59375 \r\nL 56.203125 25.203125 \r\nL 14.890625 25.203125 \r\nQ 15.484375 15.921875 20.484375 11.0625 \r\nQ 25.484375 6.203125 34.421875 6.203125 \r\nQ 39.59375 6.203125 44.453125 7.46875 \r\nQ 49.3125 8.734375 54.109375 11.28125 \r\nL 54.109375 2.78125 \r\nQ 49.265625 0.734375 44.1875 -0.34375 \r\nQ 39.109375 -1.421875 33.890625 -1.421875 \r\nQ 20.796875 -1.421875 13.15625 6.1875 \r\nQ 5.515625 13.8125 5.515625 26.8125 \r\nQ 5.515625 40.234375 12.765625 48.109375 \r\nQ 20.015625 56 32.328125 56 \r\nQ 43.359375 56 49.78125 48.890625 \r\nQ 56.203125 41.796875 56.203125 29.59375 \r\nz\r\nM 47.21875 32.234375 \r\nQ 47.125 39.59375 43.09375 43.984375 \r\nQ 39.0625 48.390625 32.421875 48.390625 \r\nQ 24.90625 48.390625 20.390625 44.140625 \r\nQ 15.875 39.890625 15.1875 32.171875 \r\nz\r\n\" id=\"DejaVuSans-101\"/>\r\n       <path id=\"DejaVuSans-32\"/>\r\n       <path d=\"M 19.671875 64.796875 \r\nL 19.671875 37.40625 \r\nL 32.078125 37.40625 \r\nQ 38.96875 37.40625 42.71875 40.96875 \r\nQ 46.484375 44.53125 46.484375 51.125 \r\nQ 46.484375 57.671875 42.71875 61.234375 \r\nQ 38.96875 64.796875 32.078125 64.796875 \r\nz\r\nM 9.8125 72.90625 \r\nL 32.078125 72.90625 \r\nQ 44.34375 72.90625 50.609375 67.359375 \r\nQ 56.890625 61.8125 56.890625 51.125 \r\nQ 56.890625 40.328125 50.609375 34.8125 \r\nQ 44.34375 29.296875 32.078125 29.296875 \r\nL 19.671875 29.296875 \r\nL 19.671875 0 \r\nL 9.8125 0 \r\nz\r\n\" id=\"DejaVuSans-80\"/>\r\n       <path d=\"M 30.609375 48.390625 \r\nQ 23.390625 48.390625 19.1875 42.75 \r\nQ 14.984375 37.109375 14.984375 27.296875 \r\nQ 14.984375 17.484375 19.15625 11.84375 \r\nQ 23.34375 6.203125 30.609375 6.203125 \r\nQ 37.796875 6.203125 41.984375 11.859375 \r\nQ 46.1875 17.53125 46.1875 27.296875 \r\nQ 46.1875 37.015625 41.984375 42.703125 \r\nQ 37.796875 48.390625 30.609375 48.390625 \r\nz\r\nM 30.609375 56 \r\nQ 42.328125 56 49.015625 48.375 \r\nQ 55.71875 40.765625 55.71875 27.296875 \r\nQ 55.71875 13.875 49.015625 6.21875 \r\nQ 42.328125 -1.421875 30.609375 -1.421875 \r\nQ 18.84375 -1.421875 12.171875 6.21875 \r\nQ 5.515625 13.875 5.515625 27.296875 \r\nQ 5.515625 40.765625 12.171875 48.375 \r\nQ 18.84375 56 30.609375 56 \r\nz\r\n\" id=\"DejaVuSans-111\"/>\r\n       <path d=\"M 9.421875 54.6875 \r\nL 18.40625 54.6875 \r\nL 18.40625 0 \r\nL 9.421875 0 \r\nz\r\nM 9.421875 75.984375 \r\nL 18.40625 75.984375 \r\nL 18.40625 64.59375 \r\nL 9.421875 64.59375 \r\nz\r\n\" id=\"DejaVuSans-105\"/>\r\n       <path d=\"M 18.3125 70.21875 \r\nL 18.3125 54.6875 \r\nL 36.8125 54.6875 \r\nL 36.8125 47.703125 \r\nL 18.3125 47.703125 \r\nL 18.3125 18.015625 \r\nQ 18.3125 11.328125 20.140625 9.421875 \r\nQ 21.96875 7.515625 27.59375 7.515625 \r\nL 36.8125 7.515625 \r\nL 36.8125 0 \r\nL 27.59375 0 \r\nQ 17.1875 0 13.234375 3.875 \r\nQ 9.28125 7.765625 9.28125 18.015625 \r\nL 9.28125 47.703125 \r\nL 2.6875 47.703125 \r\nL 2.6875 54.6875 \r\nL 9.28125 54.6875 \r\nL 9.28125 70.21875 \r\nz\r\n\" id=\"DejaVuSans-116\"/>\r\n       <path d=\"M 2.984375 54.6875 \r\nL 12.5 54.6875 \r\nL 29.59375 8.796875 \r\nL 46.6875 54.6875 \r\nL 56.203125 54.6875 \r\nL 35.6875 0 \r\nL 23.484375 0 \r\nz\r\n\" id=\"DejaVuSans-118\"/>\r\n       <path d=\"M 44.390625 34.1875 \r\nQ 47.5625 33.109375 50.5625 29.59375 \r\nQ 53.5625 26.078125 56.59375 19.921875 \r\nL 66.609375 0 \r\nL 56 0 \r\nL 46.6875 18.703125 \r\nQ 43.0625 26.03125 39.671875 28.421875 \r\nQ 36.28125 30.8125 30.421875 30.8125 \r\nL 19.671875 30.8125 \r\nL 19.671875 0 \r\nL 9.8125 0 \r\nL 9.8125 72.90625 \r\nL 32.078125 72.90625 \r\nQ 44.578125 72.90625 50.734375 67.671875 \r\nQ 56.890625 62.453125 56.890625 51.90625 \r\nQ 56.890625 45.015625 53.6875 40.46875 \r\nQ 50.484375 35.9375 44.390625 34.1875 \r\nz\r\nM 19.671875 64.796875 \r\nL 19.671875 38.921875 \r\nL 32.078125 38.921875 \r\nQ 39.203125 38.921875 42.84375 42.21875 \r\nQ 46.484375 45.515625 46.484375 51.90625 \r\nQ 46.484375 58.296875 42.84375 61.546875 \r\nQ 39.203125 64.796875 32.078125 64.796875 \r\nz\r\n\" id=\"DejaVuSans-82\"/>\r\n      </defs>\r\n      <use xlink:href=\"#DejaVuSans-70\"/>\r\n      <use x=\"48.394531\" xlink:href=\"#DejaVuSans-97\"/>\r\n      <use x=\"109.673828\" xlink:href=\"#DejaVuSans-108\"/>\r\n      <use x=\"137.457031\" xlink:href=\"#DejaVuSans-115\"/>\r\n      <use x=\"189.556641\" xlink:href=\"#DejaVuSans-101\"/>\r\n      <use x=\"251.080078\" xlink:href=\"#DejaVuSans-32\"/>\r\n      <use x=\"282.867188\" xlink:href=\"#DejaVuSans-80\"/>\r\n      <use x=\"339.544922\" xlink:href=\"#DejaVuSans-111\"/>\r\n      <use x=\"400.726562\" xlink:href=\"#DejaVuSans-115\"/>\r\n      <use x=\"452.826172\" xlink:href=\"#DejaVuSans-105\"/>\r\n      <use x=\"480.609375\" xlink:href=\"#DejaVuSans-116\"/>\r\n      <use x=\"519.818359\" xlink:href=\"#DejaVuSans-105\"/>\r\n      <use x=\"547.601562\" xlink:href=\"#DejaVuSans-118\"/>\r\n      <use x=\"606.78125\" xlink:href=\"#DejaVuSans-101\"/>\r\n      <use x=\"668.304688\" xlink:href=\"#DejaVuSans-32\"/>\r\n      <use x=\"700.091797\" xlink:href=\"#DejaVuSans-82\"/>\r\n      <use x=\"767.324219\" xlink:href=\"#DejaVuSans-97\"/>\r\n      <use x=\"828.603516\" xlink:href=\"#DejaVuSans-116\"/>\r\n      <use x=\"867.8125\" xlink:href=\"#DejaVuSans-101\"/>\r\n     </g>\r\n    </g>\r\n   </g>\r\n   <g id=\"matplotlib.axis_2\">\r\n    <g id=\"ytick_1\">\r\n     <g id=\"line2d_7\">\r\n      <defs>\r\n       <path d=\"M 0 0 \r\nL -3.5 0 \r\n\" id=\"m96b1a9059b\" style=\"stroke:#000000;stroke-width:0.8;\"/>\r\n      </defs>\r\n      <g>\r\n       <use style=\"stroke:#000000;stroke-width:0.8;\" x=\"43.78125\" xlink:href=\"#m96b1a9059b\" y=\"239.758125\"/>\r\n      </g>\r\n     </g>\r\n     <g id=\"text_8\">\r\n      <!-- 0.0 -->\r\n      <g transform=\"translate(20.878125 243.557344)scale(0.1 -0.1)\">\r\n       <use xlink:href=\"#DejaVuSans-48\"/>\r\n       <use x=\"63.623047\" xlink:href=\"#DejaVuSans-46\"/>\r\n       <use x=\"95.410156\" xlink:href=\"#DejaVuSans-48\"/>\r\n      </g>\r\n     </g>\r\n    </g>\r\n    <g id=\"ytick_2\">\r\n     <g id=\"line2d_8\">\r\n      <g>\r\n       <use style=\"stroke:#000000;stroke-width:0.8;\" x=\"43.78125\" xlink:href=\"#m96b1a9059b\" y=\"198.340982\"/>\r\n      </g>\r\n     </g>\r\n     <g id=\"text_9\">\r\n      <!-- 0.2 -->\r\n      <g transform=\"translate(20.878125 202.140201)scale(0.1 -0.1)\">\r\n       <use xlink:href=\"#DejaVuSans-48\"/>\r\n       <use x=\"63.623047\" xlink:href=\"#DejaVuSans-46\"/>\r\n       <use x=\"95.410156\" xlink:href=\"#DejaVuSans-50\"/>\r\n      </g>\r\n     </g>\r\n    </g>\r\n    <g id=\"ytick_3\">\r\n     <g id=\"line2d_9\">\r\n      <g>\r\n       <use style=\"stroke:#000000;stroke-width:0.8;\" x=\"43.78125\" xlink:href=\"#m96b1a9059b\" y=\"156.923839\"/>\r\n      </g>\r\n     </g>\r\n     <g id=\"text_10\">\r\n      <!-- 0.4 -->\r\n      <g transform=\"translate(20.878125 160.723058)scale(0.1 -0.1)\">\r\n       <use xlink:href=\"#DejaVuSans-48\"/>\r\n       <use x=\"63.623047\" xlink:href=\"#DejaVuSans-46\"/>\r\n       <use x=\"95.410156\" xlink:href=\"#DejaVuSans-52\"/>\r\n      </g>\r\n     </g>\r\n    </g>\r\n    <g id=\"ytick_4\">\r\n     <g id=\"line2d_10\">\r\n      <g>\r\n       <use style=\"stroke:#000000;stroke-width:0.8;\" x=\"43.78125\" xlink:href=\"#m96b1a9059b\" y=\"115.506696\"/>\r\n      </g>\r\n     </g>\r\n     <g id=\"text_11\">\r\n      <!-- 0.6 -->\r\n      <g transform=\"translate(20.878125 119.305915)scale(0.1 -0.1)\">\r\n       <use xlink:href=\"#DejaVuSans-48\"/>\r\n       <use x=\"63.623047\" xlink:href=\"#DejaVuSans-46\"/>\r\n       <use x=\"95.410156\" xlink:href=\"#DejaVuSans-54\"/>\r\n      </g>\r\n     </g>\r\n    </g>\r\n    <g id=\"ytick_5\">\r\n     <g id=\"line2d_11\">\r\n      <g>\r\n       <use style=\"stroke:#000000;stroke-width:0.8;\" x=\"43.78125\" xlink:href=\"#m96b1a9059b\" y=\"74.089554\"/>\r\n      </g>\r\n     </g>\r\n     <g id=\"text_12\">\r\n      <!-- 0.8 -->\r\n      <g transform=\"translate(20.878125 77.888772)scale(0.1 -0.1)\">\r\n       <use xlink:href=\"#DejaVuSans-48\"/>\r\n       <use x=\"63.623047\" xlink:href=\"#DejaVuSans-46\"/>\r\n       <use x=\"95.410156\" xlink:href=\"#DejaVuSans-56\"/>\r\n      </g>\r\n     </g>\r\n    </g>\r\n    <g id=\"ytick_6\">\r\n     <g id=\"line2d_12\">\r\n      <g>\r\n       <use style=\"stroke:#000000;stroke-width:0.8;\" x=\"43.78125\" xlink:href=\"#m96b1a9059b\" y=\"32.672411\"/>\r\n      </g>\r\n     </g>\r\n     <g id=\"text_13\">\r\n      <!-- 1.0 -->\r\n      <g transform=\"translate(20.878125 36.471629)scale(0.1 -0.1)\">\r\n       <use xlink:href=\"#DejaVuSans-49\"/>\r\n       <use x=\"63.623047\" xlink:href=\"#DejaVuSans-46\"/>\r\n       <use x=\"95.410156\" xlink:href=\"#DejaVuSans-48\"/>\r\n      </g>\r\n     </g>\r\n    </g>\r\n    <g id=\"text_14\">\r\n     <!-- True Positive Rate -->\r\n     <g transform=\"translate(14.798438 175.567812)rotate(-90)scale(0.1 -0.1)\">\r\n      <defs>\r\n       <path d=\"M -0.296875 72.90625 \r\nL 61.375 72.90625 \r\nL 61.375 64.59375 \r\nL 35.5 64.59375 \r\nL 35.5 0 \r\nL 25.59375 0 \r\nL 25.59375 64.59375 \r\nL -0.296875 64.59375 \r\nz\r\n\" id=\"DejaVuSans-84\"/>\r\n       <path d=\"M 41.109375 46.296875 \r\nQ 39.59375 47.171875 37.8125 47.578125 \r\nQ 36.03125 48 33.890625 48 \r\nQ 26.265625 48 22.1875 43.046875 \r\nQ 18.109375 38.09375 18.109375 28.8125 \r\nL 18.109375 0 \r\nL 9.078125 0 \r\nL 9.078125 54.6875 \r\nL 18.109375 54.6875 \r\nL 18.109375 46.1875 \r\nQ 20.953125 51.171875 25.484375 53.578125 \r\nQ 30.03125 56 36.53125 56 \r\nQ 37.453125 56 38.578125 55.875 \r\nQ 39.703125 55.765625 41.0625 55.515625 \r\nz\r\n\" id=\"DejaVuSans-114\"/>\r\n       <path d=\"M 8.5 21.578125 \r\nL 8.5 54.6875 \r\nL 17.484375 54.6875 \r\nL 17.484375 21.921875 \r\nQ 17.484375 14.15625 20.5 10.265625 \r\nQ 23.53125 6.390625 29.59375 6.390625 \r\nQ 36.859375 6.390625 41.078125 11.03125 \r\nQ 45.3125 15.671875 45.3125 23.6875 \r\nL 45.3125 54.6875 \r\nL 54.296875 54.6875 \r\nL 54.296875 0 \r\nL 45.3125 0 \r\nL 45.3125 8.40625 \r\nQ 42.046875 3.421875 37.71875 1 \r\nQ 33.40625 -1.421875 27.6875 -1.421875 \r\nQ 18.265625 -1.421875 13.375 4.4375 \r\nQ 8.5 10.296875 8.5 21.578125 \r\nz\r\nM 31.109375 56 \r\nz\r\n\" id=\"DejaVuSans-117\"/>\r\n      </defs>\r\n      <use xlink:href=\"#DejaVuSans-84\"/>\r\n      <use x=\"46.333984\" xlink:href=\"#DejaVuSans-114\"/>\r\n      <use x=\"87.447266\" xlink:href=\"#DejaVuSans-117\"/>\r\n      <use x=\"150.826172\" xlink:href=\"#DejaVuSans-101\"/>\r\n      <use x=\"212.349609\" xlink:href=\"#DejaVuSans-32\"/>\r\n      <use x=\"244.136719\" xlink:href=\"#DejaVuSans-80\"/>\r\n      <use x=\"300.814453\" xlink:href=\"#DejaVuSans-111\"/>\r\n      <use x=\"361.996094\" xlink:href=\"#DejaVuSans-115\"/>\r\n      <use x=\"414.095703\" xlink:href=\"#DejaVuSans-105\"/>\r\n      <use x=\"441.878906\" xlink:href=\"#DejaVuSans-116\"/>\r\n      <use x=\"481.087891\" xlink:href=\"#DejaVuSans-105\"/>\r\n      <use x=\"508.871094\" xlink:href=\"#DejaVuSans-118\"/>\r\n      <use x=\"568.050781\" xlink:href=\"#DejaVuSans-101\"/>\r\n      <use x=\"629.574219\" xlink:href=\"#DejaVuSans-32\"/>\r\n      <use x=\"661.361328\" xlink:href=\"#DejaVuSans-82\"/>\r\n      <use x=\"728.59375\" xlink:href=\"#DejaVuSans-97\"/>\r\n      <use x=\"789.873047\" xlink:href=\"#DejaVuSans-116\"/>\r\n      <use x=\"829.082031\" xlink:href=\"#DejaVuSans-101\"/>\r\n     </g>\r\n    </g>\r\n   </g>\r\n   <g id=\"line2d_13\">\r\n    <path clip-path=\"url(#p78c648ae2e)\" d=\"M 43.78125 239.758125 \r\nL 43.78125 236.841425 \r\nL 43.78125 93.923115 \r\nL 45.375536 93.923115 \r\nL 45.375536 88.089715 \r\nL 48.564107 88.089715 \r\nL 48.564107 82.256314 \r\nL 50.158393 82.256314 \r\nL 50.158393 56.006012 \r\nL 51.752679 56.006012 \r\nL 51.752679 47.255912 \r\nL 54.94125 47.255912 \r\nL 54.94125 44.339212 \r\nL 62.912679 44.339212 \r\nL 62.912679 41.422511 \r\nL 64.506964 41.422511 \r\nL 64.506964 38.505811 \r\nL 75.666964 38.505811 \r\nL 75.666964 35.589111 \r\nL 118.712679 35.589111 \r\nL 118.712679 32.672411 \r\nL 378.58125 32.672411 \r\n\" style=\"fill:none;stroke:#000000;stroke-linecap:square;stroke-width:2;\"/>\r\n   </g>\r\n   <g id=\"line2d_14\">\r\n    <path clip-path=\"url(#p78c648ae2e)\" d=\"M 43.78125 239.758125 \r\nL 43.78125 236.799758 \r\nL 43.78125 56.339349 \r\nL 46.95471 56.339349 \r\nL 46.95471 47.464247 \r\nL 48.54144 47.464247 \r\nL 48.54144 41.547513 \r\nL 50.128169 41.547513 \r\nL 50.128169 35.630778 \r\nL 58.061819 35.630778 \r\nL 58.061819 32.672411 \r\nL 378.58125 32.672411 \r\n\" style=\"fill:none;stroke:#0078dd;stroke-linecap:square;stroke-width:2;\"/>\r\n   </g>\r\n   <g id=\"line2d_15\">\r\n    <path clip-path=\"url(#p78c648ae2e)\" d=\"M 43.78125 239.758125 \r\nL 43.78125 236.756883 \r\nL 43.78125 158.724585 \r\nL 45.360495 158.724585 \r\nL 45.360495 107.703467 \r\nL 46.939741 107.703467 \r\nL 46.939741 104.702224 \r\nL 48.518986 104.702224 \r\nL 48.518986 92.697255 \r\nL 50.098231 92.697255 \r\nL 50.098231 74.689802 \r\nL 53.256722 74.689802 \r\nL 53.256722 71.68856 \r\nL 64.311439 71.68856 \r\nL 64.311439 68.687318 \r\nL 65.890684 68.687318 \r\nL 65.890684 62.684833 \r\nL 69.049175 62.684833 \r\nL 69.049175 59.683591 \r\nL 70.62842 59.683591 \r\nL 70.62842 56.682349 \r\nL 72.207665 56.682349 \r\nL 72.207665 50.679864 \r\nL 75.366156 50.679864 \r\nL 75.366156 47.678622 \r\nL 76.945401 47.678622 \r\nL 76.945401 44.67738 \r\nL 80.103892 44.67738 \r\nL 80.103892 41.676137 \r\nL 95.896344 41.676137 \r\nL 95.896344 38.674895 \r\nL 110.109552 38.674895 \r\nL 110.109552 35.673653 \r\nL 132.218986 35.673653 \r\nL 132.218986 32.672411 \r\nL 378.58125 32.672411 \r\n\" style=\"fill:none;stroke:#00bc00;stroke-linecap:square;stroke-width:2;\"/>\r\n   </g>\r\n   <g id=\"line2d_16\">\r\n    <path clip-path=\"url(#p78c648ae2e)\" d=\"M 43.78125 239.758125 \r\nL 43.78125 236.841425 \r\nL 43.78125 175.590721 \r\nL 45.375536 175.590721 \r\nL 45.375536 137.673618 \r\nL 46.969821 137.673618 \r\nL 46.969821 123.090117 \r\nL 48.564107 123.090117 \r\nL 48.564107 102.673216 \r\nL 50.158393 102.673216 \r\nL 50.158393 88.089715 \r\nL 53.346964 88.089715 \r\nL 53.346964 76.422914 \r\nL 54.94125 76.422914 \r\nL 54.94125 73.506214 \r\nL 58.129821 73.506214 \r\nL 58.129821 70.589513 \r\nL 62.912679 70.589513 \r\nL 62.912679 67.672813 \r\nL 64.506964 67.672813 \r\nL 64.506964 64.756113 \r\nL 66.10125 64.756113 \r\nL 66.10125 58.922713 \r\nL 67.695536 58.922713 \r\nL 67.695536 47.255912 \r\nL 70.884107 47.255912 \r\nL 70.884107 44.339212 \r\nL 77.26125 44.339212 \r\nL 77.26125 41.422511 \r\nL 82.044107 41.422511 \r\nL 82.044107 38.505811 \r\nL 107.552679 38.505811 \r\nL 107.552679 35.589111 \r\nL 115.524107 35.589111 \r\nL 115.524107 32.672411 \r\nL 378.58125 32.672411 \r\n\" style=\"fill:none;stroke:#ffc900;stroke-linecap:square;stroke-width:2;\"/>\r\n   </g>\r\n   <g id=\"line2d_17\">\r\n    <path clip-path=\"url(#p78c648ae2e)\" d=\"M 43.78125 239.758125 \r\nL 43.78125 239.021165 \r\nL 43.78125 183.012218 \r\nL 44.178403 183.012218 \r\nL 44.178403 147.638145 \r\nL 44.575556 147.638145 \r\nL 44.575556 141.005507 \r\nL 44.972709 141.005507 \r\nL 44.972709 127.74023 \r\nL 45.369862 127.74023 \r\nL 45.369862 116.685832 \r\nL 45.767015 116.685832 \r\nL 45.767015 115.948872 \r\nL 46.164168 115.948872 \r\nL 46.164168 115.211912 \r\nL 46.561321 115.211912 \r\nL 46.561321 110.790153 \r\nL 46.958474 110.790153 \r\nL 46.958474 99.735756 \r\nL 47.355627 99.735756 \r\nL 47.355627 96.787917 \r\nL 47.75278 96.787917 \r\nL 47.75278 96.050957 \r\nL 48.149933 96.050957 \r\nL 48.149933 82.78568 \r\nL 48.547086 82.78568 \r\nL 48.547086 81.31176 \r\nL 48.944239 81.31176 \r\nL 48.944239 79.10088 \r\nL 49.341392 79.10088 \r\nL 49.341392 76.890001 \r\nL 49.738545 76.890001 \r\nL 49.738545 73.942162 \r\nL 50.135698 73.942162 \r\nL 50.135698 73.205202 \r\nL 50.532851 73.205202 \r\nL 50.532851 72.468242 \r\nL 50.930004 72.468242 \r\nL 50.930004 68.046483 \r\nL 51.327157 68.046483 \r\nL 51.327157 67.309523 \r\nL 53.312923 67.309523 \r\nL 53.312923 66.572563 \r\nL 53.710076 66.572563 \r\nL 53.710076 65.098644 \r\nL 54.107229 65.098644 \r\nL 54.107229 63.624724 \r\nL 54.504382 63.624724 \r\nL 54.504382 62.150804 \r\nL 56.490147 62.150804 \r\nL 56.490147 56.992085 \r\nL 58.475912 56.992085 \r\nL 58.475912 56.255126 \r\nL 58.873065 56.255126 \r\nL 58.873065 55.518166 \r\nL 59.270218 55.518166 \r\nL 59.270218 53.307286 \r\nL 59.667371 53.307286 \r\nL 59.667371 52.570326 \r\nL 60.461677 52.570326 \r\nL 60.461677 51.833366 \r\nL 60.85883 51.833366 \r\nL 60.85883 51.096407 \r\nL 62.050289 51.096407 \r\nL 62.050289 50.359447 \r\nL 63.241748 50.359447 \r\nL 63.241748 49.622487 \r\nL 64.83036 49.622487 \r\nL 64.83036 48.885527 \r\nL 65.227513 48.885527 \r\nL 65.227513 48.148567 \r\nL 68.404738 48.148567 \r\nL 68.404738 47.411607 \r\nL 69.199044 47.411607 \r\nL 69.199044 45.200728 \r\nL 70.390503 45.200728 \r\nL 70.390503 44.463768 \r\nL 70.787656 44.463768 \r\nL 70.787656 43.726808 \r\nL 71.979115 43.726808 \r\nL 71.979115 42.989848 \r\nL 72.376268 42.989848 \r\nL 72.376268 42.252889 \r\nL 72.773421 42.252889 \r\nL 72.773421 41.515929 \r\nL 75.950645 41.515929 \r\nL 75.950645 40.778969 \r\nL 76.744951 40.778969 \r\nL 76.744951 40.042009 \r\nL 77.142104 40.042009 \r\nL 77.142104 39.305049 \r\nL 79.922175 39.305049 \r\nL 79.922175 38.568089 \r\nL 81.113634 38.568089 \r\nL 81.113634 37.09417 \r\nL 86.276624 37.09417 \r\nL 86.276624 36.35721 \r\nL 87.865236 36.35721 \r\nL 87.865236 35.62025 \r\nL 97.396908 35.62025 \r\nL 97.396908 34.88329 \r\nL 106.134275 34.88329 \r\nL 106.134275 34.14633 \r\nL 112.885876 34.14633 \r\nL 112.885876 33.409371 \r\nL 133.140681 33.409371 \r\nL 133.140681 32.672411 \r\nL 378.58125 32.672411 \r\n\" style=\"fill:none;stroke:#ff1493;stroke-dasharray:4,6.6;stroke-dashoffset:0;stroke-width:4;\"/>\r\n   </g>\r\n   <g id=\"line2d_18\">\r\n    <path clip-path=\"url(#p78c648ae2e)\" d=\"M 43.78125 121.144442 \r\nL 45.360495 108.389163 \r\nL 45.375536 97.451537 \r\nL 46.939741 96.701227 \r\nL 46.95471 94.482451 \r\nL 46.969821 90.836576 \r\nL 48.518986 87.835334 \r\nL 48.54144 86.35615 \r\nL 48.564107 79.793574 \r\nL 50.098231 75.291711 \r\nL 50.128169 73.812527 \r\nL 50.158393 63.604077 \r\nL 51.752679 61.416552 \r\nL 53.256722 60.666241 \r\nL 53.346964 57.749541 \r\nL 54.94125 56.291191 \r\nL 58.061819 55.551599 \r\nL 58.129821 54.822424 \r\nL 62.912679 53.364074 \r\nL 64.311439 52.613763 \r\nL 64.506964 51.155413 \r\nL 65.890684 49.654792 \r\nL 66.10125 48.196442 \r\nL 67.695536 45.279742 \r\nL 69.049175 44.529431 \r\nL 70.62842 43.779121 \r\nL 70.884107 43.049945 \r\nL 72.207665 41.549324 \r\nL 75.366156 40.799014 \r\nL 75.666964 40.069839 \r\nL 76.945401 39.319528 \r\nL 77.26125 38.590353 \r\nL 80.103892 37.840043 \r\nL 82.044107 37.110868 \r\nL 95.896344 36.360557 \r\nL 107.552679 35.631382 \r\nL 110.109552 34.881071 \r\nL 115.524107 34.151896 \r\nL 118.712679 33.422721 \r\nL 132.218986 32.672411 \r\nL 378.58125 32.672411 \r\n\" style=\"fill:none;stroke:#000080;stroke-dasharray:4,6.6;stroke-dashoffset:0;stroke-width:4;\"/>\r\n   </g>\r\n   <g id=\"line2d_19\">\r\n    <path clip-path=\"url(#p78c648ae2e)\" d=\"M 43.78125 239.758125 \r\nL 378.58125 32.672411 \r\n\" style=\"fill:none;stroke:#000000;stroke-dasharray:7.4,3.2;stroke-dashoffset:0;stroke-width:2;\"/>\r\n   </g>\r\n   <g id=\"patch_3\">\r\n    <path d=\"M 43.78125 239.758125 \r\nL 43.78125 22.318125 \r\n\" style=\"fill:none;stroke:#000000;stroke-linecap:square;stroke-linejoin:miter;stroke-width:0.8;\"/>\r\n   </g>\r\n   <g id=\"patch_4\">\r\n    <path d=\"M 378.58125 239.758125 \r\nL 378.58125 22.318125 \r\n\" style=\"fill:none;stroke:#000000;stroke-linecap:square;stroke-linejoin:miter;stroke-width:0.8;\"/>\r\n   </g>\r\n   <g id=\"patch_5\">\r\n    <path d=\"M 43.78125 239.758125 \r\nL 378.58125 239.758125 \r\n\" style=\"fill:none;stroke:#000000;stroke-linecap:square;stroke-linejoin:miter;stroke-width:0.8;\"/>\r\n   </g>\r\n   <g id=\"patch_6\">\r\n    <path d=\"M 43.78125 22.318125 \r\nL 378.58125 22.318125 \r\n\" style=\"fill:none;stroke:#000000;stroke-linecap:square;stroke-linejoin:miter;stroke-width:0.8;\"/>\r\n   </g>\r\n   <g id=\"text_15\">\r\n    <!-- ROC Curves -->\r\n    <g transform=\"translate(175.365 16.318125)scale(0.12 -0.12)\">\r\n     <defs>\r\n      <path d=\"M 39.40625 66.21875 \r\nQ 28.65625 66.21875 22.328125 58.203125 \r\nQ 16.015625 50.203125 16.015625 36.375 \r\nQ 16.015625 22.609375 22.328125 14.59375 \r\nQ 28.65625 6.59375 39.40625 6.59375 \r\nQ 50.140625 6.59375 56.421875 14.59375 \r\nQ 62.703125 22.609375 62.703125 36.375 \r\nQ 62.703125 50.203125 56.421875 58.203125 \r\nQ 50.140625 66.21875 39.40625 66.21875 \r\nz\r\nM 39.40625 74.21875 \r\nQ 54.734375 74.21875 63.90625 63.9375 \r\nQ 73.09375 53.65625 73.09375 36.375 \r\nQ 73.09375 19.140625 63.90625 8.859375 \r\nQ 54.734375 -1.421875 39.40625 -1.421875 \r\nQ 24.03125 -1.421875 14.8125 8.828125 \r\nQ 5.609375 19.09375 5.609375 36.375 \r\nQ 5.609375 53.65625 14.8125 63.9375 \r\nQ 24.03125 74.21875 39.40625 74.21875 \r\nz\r\n\" id=\"DejaVuSans-79\"/>\r\n      <path d=\"M 64.40625 67.28125 \r\nL 64.40625 56.890625 \r\nQ 59.421875 61.53125 53.78125 63.8125 \r\nQ 48.140625 66.109375 41.796875 66.109375 \r\nQ 29.296875 66.109375 22.65625 58.46875 \r\nQ 16.015625 50.828125 16.015625 36.375 \r\nQ 16.015625 21.96875 22.65625 14.328125 \r\nQ 29.296875 6.6875 41.796875 6.6875 \r\nQ 48.140625 6.6875 53.78125 8.984375 \r\nQ 59.421875 11.28125 64.40625 15.921875 \r\nL 64.40625 5.609375 \r\nQ 59.234375 2.09375 53.4375 0.328125 \r\nQ 47.65625 -1.421875 41.21875 -1.421875 \r\nQ 24.65625 -1.421875 15.125 8.703125 \r\nQ 5.609375 18.84375 5.609375 36.375 \r\nQ 5.609375 53.953125 15.125 64.078125 \r\nQ 24.65625 74.21875 41.21875 74.21875 \r\nQ 47.75 74.21875 53.53125 72.484375 \r\nQ 59.328125 70.75 64.40625 67.28125 \r\nz\r\n\" id=\"DejaVuSans-67\"/>\r\n     </defs>\r\n     <use xlink:href=\"#DejaVuSans-82\"/>\r\n     <use x=\"69.482422\" xlink:href=\"#DejaVuSans-79\"/>\r\n     <use x=\"148.193359\" xlink:href=\"#DejaVuSans-67\"/>\r\n     <use x=\"218.017578\" xlink:href=\"#DejaVuSans-32\"/>\r\n     <use x=\"249.804688\" xlink:href=\"#DejaVuSans-67\"/>\r\n     <use x=\"319.628906\" xlink:href=\"#DejaVuSans-117\"/>\r\n     <use x=\"383.007812\" xlink:href=\"#DejaVuSans-114\"/>\r\n     <use x=\"424.121094\" xlink:href=\"#DejaVuSans-118\"/>\r\n     <use x=\"483.300781\" xlink:href=\"#DejaVuSans-101\"/>\r\n     <use x=\"544.824219\" xlink:href=\"#DejaVuSans-115\"/>\r\n    </g>\r\n   </g>\r\n   <g id=\"legend_1\">\r\n    <g id=\"patch_7\">\r\n     <path d=\"M 137.017188 234.758125 \r\nL 371.58125 234.758125 \r\nQ 373.58125 234.758125 373.58125 232.758125 \r\nL 373.58125 145.689375 \r\nQ 373.58125 143.689375 371.58125 143.689375 \r\nL 137.017188 143.689375 \r\nQ 135.017188 143.689375 135.017188 145.689375 \r\nL 135.017188 232.758125 \r\nQ 135.017188 234.758125 137.017188 234.758125 \r\nz\r\n\" style=\"fill:#ffffff;opacity:0.8;stroke:#cccccc;stroke-linejoin:miter;\"/>\r\n    </g>\r\n    <g id=\"line2d_20\">\r\n     <path d=\"M 139.017188 151.787812 \r\nL 159.017188 151.787812 \r\n\" style=\"fill:none;stroke:#000000;stroke-linecap:square;stroke-width:2;\"/>\r\n    </g>\r\n    <g id=\"line2d_21\"/>\r\n    <g id=\"text_16\">\r\n     <!-- ROC curve of class 1.0 (area = 0.99) -->\r\n     <g transform=\"translate(167.017188 155.287812)scale(0.1 -0.1)\">\r\n      <defs>\r\n       <path d=\"M 48.78125 52.59375 \r\nL 48.78125 44.1875 \r\nQ 44.96875 46.296875 41.140625 47.34375 \r\nQ 37.3125 48.390625 33.40625 48.390625 \r\nQ 24.65625 48.390625 19.8125 42.84375 \r\nQ 14.984375 37.3125 14.984375 27.296875 \r\nQ 14.984375 17.28125 19.8125 11.734375 \r\nQ 24.65625 6.203125 33.40625 6.203125 \r\nQ 37.3125 6.203125 41.140625 7.25 \r\nQ 44.96875 8.296875 48.78125 10.40625 \r\nL 48.78125 2.09375 \r\nQ 45.015625 0.34375 40.984375 -0.53125 \r\nQ 36.96875 -1.421875 32.421875 -1.421875 \r\nQ 20.0625 -1.421875 12.78125 6.34375 \r\nQ 5.515625 14.109375 5.515625 27.296875 \r\nQ 5.515625 40.671875 12.859375 48.328125 \r\nQ 20.21875 56 33.015625 56 \r\nQ 37.15625 56 41.109375 55.140625 \r\nQ 45.0625 54.296875 48.78125 52.59375 \r\nz\r\n\" id=\"DejaVuSans-99\"/>\r\n       <path d=\"M 37.109375 75.984375 \r\nL 37.109375 68.5 \r\nL 28.515625 68.5 \r\nQ 23.6875 68.5 21.796875 66.546875 \r\nQ 19.921875 64.59375 19.921875 59.515625 \r\nL 19.921875 54.6875 \r\nL 34.71875 54.6875 \r\nL 34.71875 47.703125 \r\nL 19.921875 47.703125 \r\nL 19.921875 0 \r\nL 10.890625 0 \r\nL 10.890625 47.703125 \r\nL 2.296875 47.703125 \r\nL 2.296875 54.6875 \r\nL 10.890625 54.6875 \r\nL 10.890625 58.5 \r\nQ 10.890625 67.625 15.140625 71.796875 \r\nQ 19.390625 75.984375 28.609375 75.984375 \r\nz\r\n\" id=\"DejaVuSans-102\"/>\r\n       <path d=\"M 31 75.875 \r\nQ 24.46875 64.65625 21.28125 53.65625 \r\nQ 18.109375 42.671875 18.109375 31.390625 \r\nQ 18.109375 20.125 21.3125 9.0625 \r\nQ 24.515625 -2 31 -13.1875 \r\nL 23.1875 -13.1875 \r\nQ 15.875 -1.703125 12.234375 9.375 \r\nQ 8.59375 20.453125 8.59375 31.390625 \r\nQ 8.59375 42.28125 12.203125 53.3125 \r\nQ 15.828125 64.359375 23.1875 75.875 \r\nz\r\n\" id=\"DejaVuSans-40\"/>\r\n       <path d=\"M 10.59375 45.40625 \r\nL 73.1875 45.40625 \r\nL 73.1875 37.203125 \r\nL 10.59375 37.203125 \r\nz\r\nM 10.59375 25.484375 \r\nL 73.1875 25.484375 \r\nL 73.1875 17.1875 \r\nL 10.59375 17.1875 \r\nz\r\n\" id=\"DejaVuSans-61\"/>\r\n       <path d=\"M 10.984375 1.515625 \r\nL 10.984375 10.5 \r\nQ 14.703125 8.734375 18.5 7.8125 \r\nQ 22.3125 6.890625 25.984375 6.890625 \r\nQ 35.75 6.890625 40.890625 13.453125 \r\nQ 46.046875 20.015625 46.78125 33.40625 \r\nQ 43.953125 29.203125 39.59375 26.953125 \r\nQ 35.25 24.703125 29.984375 24.703125 \r\nQ 19.046875 24.703125 12.671875 31.3125 \r\nQ 6.296875 37.9375 6.296875 49.421875 \r\nQ 6.296875 60.640625 12.9375 67.421875 \r\nQ 19.578125 74.21875 30.609375 74.21875 \r\nQ 43.265625 74.21875 49.921875 64.515625 \r\nQ 56.59375 54.828125 56.59375 36.375 \r\nQ 56.59375 19.140625 48.40625 8.859375 \r\nQ 40.234375 -1.421875 26.421875 -1.421875 \r\nQ 22.703125 -1.421875 18.890625 -0.6875 \r\nQ 15.09375 0.046875 10.984375 1.515625 \r\nz\r\nM 30.609375 32.421875 \r\nQ 37.25 32.421875 41.125 36.953125 \r\nQ 45.015625 41.5 45.015625 49.421875 \r\nQ 45.015625 57.28125 41.125 61.84375 \r\nQ 37.25 66.40625 30.609375 66.40625 \r\nQ 23.96875 66.40625 20.09375 61.84375 \r\nQ 16.21875 57.28125 16.21875 49.421875 \r\nQ 16.21875 41.5 20.09375 36.953125 \r\nQ 23.96875 32.421875 30.609375 32.421875 \r\nz\r\n\" id=\"DejaVuSans-57\"/>\r\n       <path d=\"M 8.015625 75.875 \r\nL 15.828125 75.875 \r\nQ 23.140625 64.359375 26.78125 53.3125 \r\nQ 30.421875 42.28125 30.421875 31.390625 \r\nQ 30.421875 20.453125 26.78125 9.375 \r\nQ 23.140625 -1.703125 15.828125 -13.1875 \r\nL 8.015625 -13.1875 \r\nQ 14.5 -2 17.703125 9.0625 \r\nQ 20.90625 20.125 20.90625 31.390625 \r\nQ 20.90625 42.671875 17.703125 53.65625 \r\nQ 14.5 64.65625 8.015625 75.875 \r\nz\r\n\" id=\"DejaVuSans-41\"/>\r\n      </defs>\r\n      <use xlink:href=\"#DejaVuSans-82\"/>\r\n      <use x=\"69.482422\" xlink:href=\"#DejaVuSans-79\"/>\r\n      <use x=\"148.193359\" xlink:href=\"#DejaVuSans-67\"/>\r\n      <use x=\"218.017578\" xlink:href=\"#DejaVuSans-32\"/>\r\n      <use x=\"249.804688\" xlink:href=\"#DejaVuSans-99\"/>\r\n      <use x=\"304.785156\" xlink:href=\"#DejaVuSans-117\"/>\r\n      <use x=\"368.164062\" xlink:href=\"#DejaVuSans-114\"/>\r\n      <use x=\"409.277344\" xlink:href=\"#DejaVuSans-118\"/>\r\n      <use x=\"468.457031\" xlink:href=\"#DejaVuSans-101\"/>\r\n      <use x=\"529.980469\" xlink:href=\"#DejaVuSans-32\"/>\r\n      <use x=\"561.767578\" xlink:href=\"#DejaVuSans-111\"/>\r\n      <use x=\"622.949219\" xlink:href=\"#DejaVuSans-102\"/>\r\n      <use x=\"658.154297\" xlink:href=\"#DejaVuSans-32\"/>\r\n      <use x=\"689.941406\" xlink:href=\"#DejaVuSans-99\"/>\r\n      <use x=\"744.921875\" xlink:href=\"#DejaVuSans-108\"/>\r\n      <use x=\"772.705078\" xlink:href=\"#DejaVuSans-97\"/>\r\n      <use x=\"833.984375\" xlink:href=\"#DejaVuSans-115\"/>\r\n      <use x=\"886.083984\" xlink:href=\"#DejaVuSans-115\"/>\r\n      <use x=\"938.183594\" xlink:href=\"#DejaVuSans-32\"/>\r\n      <use x=\"969.970703\" xlink:href=\"#DejaVuSans-49\"/>\r\n      <use x=\"1033.59375\" xlink:href=\"#DejaVuSans-46\"/>\r\n      <use x=\"1065.380859\" xlink:href=\"#DejaVuSans-48\"/>\r\n      <use x=\"1129.003906\" xlink:href=\"#DejaVuSans-32\"/>\r\n      <use x=\"1160.791016\" xlink:href=\"#DejaVuSans-40\"/>\r\n      <use x=\"1199.804688\" xlink:href=\"#DejaVuSans-97\"/>\r\n      <use x=\"1261.083984\" xlink:href=\"#DejaVuSans-114\"/>\r\n      <use x=\"1299.947266\" xlink:href=\"#DejaVuSans-101\"/>\r\n      <use x=\"1361.470703\" xlink:href=\"#DejaVuSans-97\"/>\r\n      <use x=\"1422.75\" xlink:href=\"#DejaVuSans-32\"/>\r\n      <use x=\"1454.537109\" xlink:href=\"#DejaVuSans-61\"/>\r\n      <use x=\"1538.326172\" xlink:href=\"#DejaVuSans-32\"/>\r\n      <use x=\"1570.113281\" xlink:href=\"#DejaVuSans-48\"/>\r\n      <use x=\"1633.736328\" xlink:href=\"#DejaVuSans-46\"/>\r\n      <use x=\"1665.523438\" xlink:href=\"#DejaVuSans-57\"/>\r\n      <use x=\"1729.146484\" xlink:href=\"#DejaVuSans-57\"/>\r\n      <use x=\"1792.769531\" xlink:href=\"#DejaVuSans-41\"/>\r\n     </g>\r\n    </g>\r\n    <g id=\"line2d_22\">\r\n     <path d=\"M 139.017188 166.465937 \r\nL 159.017188 166.465937 \r\n\" style=\"fill:none;stroke:#0078dd;stroke-linecap:square;stroke-width:2;\"/>\r\n    </g>\r\n    <g id=\"line2d_23\"/>\r\n    <g id=\"text_17\">\r\n     <!-- ROC curve of class 2.0 (area = 1.00) -->\r\n     <g transform=\"translate(167.017188 169.965937)scale(0.1 -0.1)\">\r\n      <use xlink:href=\"#DejaVuSans-82\"/>\r\n      <use x=\"69.482422\" xlink:href=\"#DejaVuSans-79\"/>\r\n      <use x=\"148.193359\" xlink:href=\"#DejaVuSans-67\"/>\r\n      <use x=\"218.017578\" xlink:href=\"#DejaVuSans-32\"/>\r\n      <use x=\"249.804688\" xlink:href=\"#DejaVuSans-99\"/>\r\n      <use x=\"304.785156\" xlink:href=\"#DejaVuSans-117\"/>\r\n      <use x=\"368.164062\" xlink:href=\"#DejaVuSans-114\"/>\r\n      <use x=\"409.277344\" xlink:href=\"#DejaVuSans-118\"/>\r\n      <use x=\"468.457031\" xlink:href=\"#DejaVuSans-101\"/>\r\n      <use x=\"529.980469\" xlink:href=\"#DejaVuSans-32\"/>\r\n      <use x=\"561.767578\" xlink:href=\"#DejaVuSans-111\"/>\r\n      <use x=\"622.949219\" xlink:href=\"#DejaVuSans-102\"/>\r\n      <use x=\"658.154297\" xlink:href=\"#DejaVuSans-32\"/>\r\n      <use x=\"689.941406\" xlink:href=\"#DejaVuSans-99\"/>\r\n      <use x=\"744.921875\" xlink:href=\"#DejaVuSans-108\"/>\r\n      <use x=\"772.705078\" xlink:href=\"#DejaVuSans-97\"/>\r\n      <use x=\"833.984375\" xlink:href=\"#DejaVuSans-115\"/>\r\n      <use x=\"886.083984\" xlink:href=\"#DejaVuSans-115\"/>\r\n      <use x=\"938.183594\" xlink:href=\"#DejaVuSans-32\"/>\r\n      <use x=\"969.970703\" xlink:href=\"#DejaVuSans-50\"/>\r\n      <use x=\"1033.59375\" xlink:href=\"#DejaVuSans-46\"/>\r\n      <use x=\"1065.380859\" xlink:href=\"#DejaVuSans-48\"/>\r\n      <use x=\"1129.003906\" xlink:href=\"#DejaVuSans-32\"/>\r\n      <use x=\"1160.791016\" xlink:href=\"#DejaVuSans-40\"/>\r\n      <use x=\"1199.804688\" xlink:href=\"#DejaVuSans-97\"/>\r\n      <use x=\"1261.083984\" xlink:href=\"#DejaVuSans-114\"/>\r\n      <use x=\"1299.947266\" xlink:href=\"#DejaVuSans-101\"/>\r\n      <use x=\"1361.470703\" xlink:href=\"#DejaVuSans-97\"/>\r\n      <use x=\"1422.75\" xlink:href=\"#DejaVuSans-32\"/>\r\n      <use x=\"1454.537109\" xlink:href=\"#DejaVuSans-61\"/>\r\n      <use x=\"1538.326172\" xlink:href=\"#DejaVuSans-32\"/>\r\n      <use x=\"1570.113281\" xlink:href=\"#DejaVuSans-49\"/>\r\n      <use x=\"1633.736328\" xlink:href=\"#DejaVuSans-46\"/>\r\n      <use x=\"1665.523438\" xlink:href=\"#DejaVuSans-48\"/>\r\n      <use x=\"1729.146484\" xlink:href=\"#DejaVuSans-48\"/>\r\n      <use x=\"1792.769531\" xlink:href=\"#DejaVuSans-41\"/>\r\n     </g>\r\n    </g>\r\n    <g id=\"line2d_24\">\r\n     <path d=\"M 139.017188 181.144062 \r\nL 159.017188 181.144062 \r\n\" style=\"fill:none;stroke:#00bc00;stroke-linecap:square;stroke-width:2;\"/>\r\n    </g>\r\n    <g id=\"line2d_25\"/>\r\n    <g id=\"text_18\">\r\n     <!-- ROC curve of class 3.0 (area = 0.97) -->\r\n     <g transform=\"translate(167.017188 184.644062)scale(0.1 -0.1)\">\r\n      <defs>\r\n       <path d=\"M 40.578125 39.3125 \r\nQ 47.65625 37.796875 51.625 33 \r\nQ 55.609375 28.21875 55.609375 21.1875 \r\nQ 55.609375 10.40625 48.1875 4.484375 \r\nQ 40.765625 -1.421875 27.09375 -1.421875 \r\nQ 22.515625 -1.421875 17.65625 -0.515625 \r\nQ 12.796875 0.390625 7.625 2.203125 \r\nL 7.625 11.71875 \r\nQ 11.71875 9.328125 16.59375 8.109375 \r\nQ 21.484375 6.890625 26.8125 6.890625 \r\nQ 36.078125 6.890625 40.9375 10.546875 \r\nQ 45.796875 14.203125 45.796875 21.1875 \r\nQ 45.796875 27.640625 41.28125 31.265625 \r\nQ 36.765625 34.90625 28.71875 34.90625 \r\nL 20.21875 34.90625 \r\nL 20.21875 43.015625 \r\nL 29.109375 43.015625 \r\nQ 36.375 43.015625 40.234375 45.921875 \r\nQ 44.09375 48.828125 44.09375 54.296875 \r\nQ 44.09375 59.90625 40.109375 62.90625 \r\nQ 36.140625 65.921875 28.71875 65.921875 \r\nQ 24.65625 65.921875 20.015625 65.03125 \r\nQ 15.375 64.15625 9.8125 62.3125 \r\nL 9.8125 71.09375 \r\nQ 15.4375 72.65625 20.34375 73.4375 \r\nQ 25.25 74.21875 29.59375 74.21875 \r\nQ 40.828125 74.21875 47.359375 69.109375 \r\nQ 53.90625 64.015625 53.90625 55.328125 \r\nQ 53.90625 49.265625 50.4375 45.09375 \r\nQ 46.96875 40.921875 40.578125 39.3125 \r\nz\r\n\" id=\"DejaVuSans-51\"/>\r\n       <path d=\"M 8.203125 72.90625 \r\nL 55.078125 72.90625 \r\nL 55.078125 68.703125 \r\nL 28.609375 0 \r\nL 18.3125 0 \r\nL 43.21875 64.59375 \r\nL 8.203125 64.59375 \r\nz\r\n\" id=\"DejaVuSans-55\"/>\r\n      </defs>\r\n      <use xlink:href=\"#DejaVuSans-82\"/>\r\n      <use x=\"69.482422\" xlink:href=\"#DejaVuSans-79\"/>\r\n      <use x=\"148.193359\" xlink:href=\"#DejaVuSans-67\"/>\r\n      <use x=\"218.017578\" xlink:href=\"#DejaVuSans-32\"/>\r\n      <use x=\"249.804688\" xlink:href=\"#DejaVuSans-99\"/>\r\n      <use x=\"304.785156\" xlink:href=\"#DejaVuSans-117\"/>\r\n      <use x=\"368.164062\" xlink:href=\"#DejaVuSans-114\"/>\r\n      <use x=\"409.277344\" xlink:href=\"#DejaVuSans-118\"/>\r\n      <use x=\"468.457031\" xlink:href=\"#DejaVuSans-101\"/>\r\n      <use x=\"529.980469\" xlink:href=\"#DejaVuSans-32\"/>\r\n      <use x=\"561.767578\" xlink:href=\"#DejaVuSans-111\"/>\r\n      <use x=\"622.949219\" xlink:href=\"#DejaVuSans-102\"/>\r\n      <use x=\"658.154297\" xlink:href=\"#DejaVuSans-32\"/>\r\n      <use x=\"689.941406\" xlink:href=\"#DejaVuSans-99\"/>\r\n      <use x=\"744.921875\" xlink:href=\"#DejaVuSans-108\"/>\r\n      <use x=\"772.705078\" xlink:href=\"#DejaVuSans-97\"/>\r\n      <use x=\"833.984375\" xlink:href=\"#DejaVuSans-115\"/>\r\n      <use x=\"886.083984\" xlink:href=\"#DejaVuSans-115\"/>\r\n      <use x=\"938.183594\" xlink:href=\"#DejaVuSans-32\"/>\r\n      <use x=\"969.970703\" xlink:href=\"#DejaVuSans-51\"/>\r\n      <use x=\"1033.59375\" xlink:href=\"#DejaVuSans-46\"/>\r\n      <use x=\"1065.380859\" xlink:href=\"#DejaVuSans-48\"/>\r\n      <use x=\"1129.003906\" xlink:href=\"#DejaVuSans-32\"/>\r\n      <use x=\"1160.791016\" xlink:href=\"#DejaVuSans-40\"/>\r\n      <use x=\"1199.804688\" xlink:href=\"#DejaVuSans-97\"/>\r\n      <use x=\"1261.083984\" xlink:href=\"#DejaVuSans-114\"/>\r\n      <use x=\"1299.947266\" xlink:href=\"#DejaVuSans-101\"/>\r\n      <use x=\"1361.470703\" xlink:href=\"#DejaVuSans-97\"/>\r\n      <use x=\"1422.75\" xlink:href=\"#DejaVuSans-32\"/>\r\n      <use x=\"1454.537109\" xlink:href=\"#DejaVuSans-61\"/>\r\n      <use x=\"1538.326172\" xlink:href=\"#DejaVuSans-32\"/>\r\n      <use x=\"1570.113281\" xlink:href=\"#DejaVuSans-48\"/>\r\n      <use x=\"1633.736328\" xlink:href=\"#DejaVuSans-46\"/>\r\n      <use x=\"1665.523438\" xlink:href=\"#DejaVuSans-57\"/>\r\n      <use x=\"1729.146484\" xlink:href=\"#DejaVuSans-55\"/>\r\n      <use x=\"1792.769531\" xlink:href=\"#DejaVuSans-41\"/>\r\n     </g>\r\n    </g>\r\n    <g id=\"line2d_26\">\r\n     <path d=\"M 139.017188 195.822187 \r\nL 159.017188 195.822187 \r\n\" style=\"fill:none;stroke:#ffc900;stroke-linecap:square;stroke-width:2;\"/>\r\n    </g>\r\n    <g id=\"line2d_27\"/>\r\n    <g id=\"text_19\">\r\n     <!-- ROC curve of class 4.0 (area = 0.98) -->\r\n     <g transform=\"translate(167.017188 199.322187)scale(0.1 -0.1)\">\r\n      <use xlink:href=\"#DejaVuSans-82\"/>\r\n      <use x=\"69.482422\" xlink:href=\"#DejaVuSans-79\"/>\r\n      <use x=\"148.193359\" xlink:href=\"#DejaVuSans-67\"/>\r\n      <use x=\"218.017578\" xlink:href=\"#DejaVuSans-32\"/>\r\n      <use x=\"249.804688\" xlink:href=\"#DejaVuSans-99\"/>\r\n      <use x=\"304.785156\" xlink:href=\"#DejaVuSans-117\"/>\r\n      <use x=\"368.164062\" xlink:href=\"#DejaVuSans-114\"/>\r\n      <use x=\"409.277344\" xlink:href=\"#DejaVuSans-118\"/>\r\n      <use x=\"468.457031\" xlink:href=\"#DejaVuSans-101\"/>\r\n      <use x=\"529.980469\" xlink:href=\"#DejaVuSans-32\"/>\r\n      <use x=\"561.767578\" xlink:href=\"#DejaVuSans-111\"/>\r\n      <use x=\"622.949219\" xlink:href=\"#DejaVuSans-102\"/>\r\n      <use x=\"658.154297\" xlink:href=\"#DejaVuSans-32\"/>\r\n      <use x=\"689.941406\" xlink:href=\"#DejaVuSans-99\"/>\r\n      <use x=\"744.921875\" xlink:href=\"#DejaVuSans-108\"/>\r\n      <use x=\"772.705078\" xlink:href=\"#DejaVuSans-97\"/>\r\n      <use x=\"833.984375\" xlink:href=\"#DejaVuSans-115\"/>\r\n      <use x=\"886.083984\" xlink:href=\"#DejaVuSans-115\"/>\r\n      <use x=\"938.183594\" xlink:href=\"#DejaVuSans-32\"/>\r\n      <use x=\"969.970703\" xlink:href=\"#DejaVuSans-52\"/>\r\n      <use x=\"1033.59375\" xlink:href=\"#DejaVuSans-46\"/>\r\n      <use x=\"1065.380859\" xlink:href=\"#DejaVuSans-48\"/>\r\n      <use x=\"1129.003906\" xlink:href=\"#DejaVuSans-32\"/>\r\n      <use x=\"1160.791016\" xlink:href=\"#DejaVuSans-40\"/>\r\n      <use x=\"1199.804688\" xlink:href=\"#DejaVuSans-97\"/>\r\n      <use x=\"1261.083984\" xlink:href=\"#DejaVuSans-114\"/>\r\n      <use x=\"1299.947266\" xlink:href=\"#DejaVuSans-101\"/>\r\n      <use x=\"1361.470703\" xlink:href=\"#DejaVuSans-97\"/>\r\n      <use x=\"1422.75\" xlink:href=\"#DejaVuSans-32\"/>\r\n      <use x=\"1454.537109\" xlink:href=\"#DejaVuSans-61\"/>\r\n      <use x=\"1538.326172\" xlink:href=\"#DejaVuSans-32\"/>\r\n      <use x=\"1570.113281\" xlink:href=\"#DejaVuSans-48\"/>\r\n      <use x=\"1633.736328\" xlink:href=\"#DejaVuSans-46\"/>\r\n      <use x=\"1665.523438\" xlink:href=\"#DejaVuSans-57\"/>\r\n      <use x=\"1729.146484\" xlink:href=\"#DejaVuSans-56\"/>\r\n      <use x=\"1792.769531\" xlink:href=\"#DejaVuSans-41\"/>\r\n     </g>\r\n    </g>\r\n    <g id=\"line2d_28\">\r\n     <path d=\"M 139.017188 210.500313 \r\nL 159.017188 210.500313 \r\n\" style=\"fill:none;stroke:#ff1493;stroke-dasharray:4,6.6;stroke-dashoffset:0;stroke-width:4;\"/>\r\n    </g>\r\n    <g id=\"line2d_29\"/>\r\n    <g id=\"text_20\">\r\n     <!-- micro-average ROC curve (area = 0.98) -->\r\n     <g transform=\"translate(167.017188 214.000313)scale(0.1 -0.1)\">\r\n      <defs>\r\n       <path d=\"M 52 44.1875 \r\nQ 55.375 50.25 60.0625 53.125 \r\nQ 64.75 56 71.09375 56 \r\nQ 79.640625 56 84.28125 50.015625 \r\nQ 88.921875 44.046875 88.921875 33.015625 \r\nL 88.921875 0 \r\nL 79.890625 0 \r\nL 79.890625 32.71875 \r\nQ 79.890625 40.578125 77.09375 44.375 \r\nQ 74.3125 48.1875 68.609375 48.1875 \r\nQ 61.625 48.1875 57.5625 43.546875 \r\nQ 53.515625 38.921875 53.515625 30.90625 \r\nL 53.515625 0 \r\nL 44.484375 0 \r\nL 44.484375 32.71875 \r\nQ 44.484375 40.625 41.703125 44.40625 \r\nQ 38.921875 48.1875 33.109375 48.1875 \r\nQ 26.21875 48.1875 22.15625 43.53125 \r\nQ 18.109375 38.875 18.109375 30.90625 \r\nL 18.109375 0 \r\nL 9.078125 0 \r\nL 9.078125 54.6875 \r\nL 18.109375 54.6875 \r\nL 18.109375 46.1875 \r\nQ 21.1875 51.21875 25.484375 53.609375 \r\nQ 29.78125 56 35.6875 56 \r\nQ 41.65625 56 45.828125 52.96875 \r\nQ 50 49.953125 52 44.1875 \r\nz\r\n\" id=\"DejaVuSans-109\"/>\r\n       <path d=\"M 4.890625 31.390625 \r\nL 31.203125 31.390625 \r\nL 31.203125 23.390625 \r\nL 4.890625 23.390625 \r\nz\r\n\" id=\"DejaVuSans-45\"/>\r\n       <path d=\"M 45.40625 27.984375 \r\nQ 45.40625 37.75 41.375 43.109375 \r\nQ 37.359375 48.484375 30.078125 48.484375 \r\nQ 22.859375 48.484375 18.828125 43.109375 \r\nQ 14.796875 37.75 14.796875 27.984375 \r\nQ 14.796875 18.265625 18.828125 12.890625 \r\nQ 22.859375 7.515625 30.078125 7.515625 \r\nQ 37.359375 7.515625 41.375 12.890625 \r\nQ 45.40625 18.265625 45.40625 27.984375 \r\nz\r\nM 54.390625 6.78125 \r\nQ 54.390625 -7.171875 48.1875 -13.984375 \r\nQ 42 -20.796875 29.203125 -20.796875 \r\nQ 24.46875 -20.796875 20.265625 -20.09375 \r\nQ 16.0625 -19.390625 12.109375 -17.921875 \r\nL 12.109375 -9.1875 \r\nQ 16.0625 -11.328125 19.921875 -12.34375 \r\nQ 23.78125 -13.375 27.78125 -13.375 \r\nQ 36.625 -13.375 41.015625 -8.765625 \r\nQ 45.40625 -4.15625 45.40625 5.171875 \r\nL 45.40625 9.625 \r\nQ 42.625 4.78125 38.28125 2.390625 \r\nQ 33.9375 0 27.875 0 \r\nQ 17.828125 0 11.671875 7.65625 \r\nQ 5.515625 15.328125 5.515625 27.984375 \r\nQ 5.515625 40.671875 11.671875 48.328125 \r\nQ 17.828125 56 27.875 56 \r\nQ 33.9375 56 38.28125 53.609375 \r\nQ 42.625 51.21875 45.40625 46.390625 \r\nL 45.40625 54.6875 \r\nL 54.390625 54.6875 \r\nz\r\n\" id=\"DejaVuSans-103\"/>\r\n      </defs>\r\n      <use xlink:href=\"#DejaVuSans-109\"/>\r\n      <use x=\"97.412109\" xlink:href=\"#DejaVuSans-105\"/>\r\n      <use x=\"125.195312\" xlink:href=\"#DejaVuSans-99\"/>\r\n      <use x=\"180.175781\" xlink:href=\"#DejaVuSans-114\"/>\r\n      <use x=\"219.039062\" xlink:href=\"#DejaVuSans-111\"/>\r\n      <use x=\"282.095703\" xlink:href=\"#DejaVuSans-45\"/>\r\n      <use x=\"318.179688\" xlink:href=\"#DejaVuSans-97\"/>\r\n      <use x=\"379.458984\" xlink:href=\"#DejaVuSans-118\"/>\r\n      <use x=\"438.638672\" xlink:href=\"#DejaVuSans-101\"/>\r\n      <use x=\"500.162109\" xlink:href=\"#DejaVuSans-114\"/>\r\n      <use x=\"541.275391\" xlink:href=\"#DejaVuSans-97\"/>\r\n      <use x=\"602.554688\" xlink:href=\"#DejaVuSans-103\"/>\r\n      <use x=\"666.03125\" xlink:href=\"#DejaVuSans-101\"/>\r\n      <use x=\"727.554688\" xlink:href=\"#DejaVuSans-32\"/>\r\n      <use x=\"759.341797\" xlink:href=\"#DejaVuSans-82\"/>\r\n      <use x=\"828.824219\" xlink:href=\"#DejaVuSans-79\"/>\r\n      <use x=\"907.535156\" xlink:href=\"#DejaVuSans-67\"/>\r\n      <use x=\"977.359375\" xlink:href=\"#DejaVuSans-32\"/>\r\n      <use x=\"1009.146484\" xlink:href=\"#DejaVuSans-99\"/>\r\n      <use x=\"1064.126953\" xlink:href=\"#DejaVuSans-117\"/>\r\n      <use x=\"1127.505859\" xlink:href=\"#DejaVuSans-114\"/>\r\n      <use x=\"1168.619141\" xlink:href=\"#DejaVuSans-118\"/>\r\n      <use x=\"1227.798828\" xlink:href=\"#DejaVuSans-101\"/>\r\n      <use x=\"1289.322266\" xlink:href=\"#DejaVuSans-32\"/>\r\n      <use x=\"1321.109375\" xlink:href=\"#DejaVuSans-40\"/>\r\n      <use x=\"1360.123047\" xlink:href=\"#DejaVuSans-97\"/>\r\n      <use x=\"1421.402344\" xlink:href=\"#DejaVuSans-114\"/>\r\n      <use x=\"1460.265625\" xlink:href=\"#DejaVuSans-101\"/>\r\n      <use x=\"1521.789062\" xlink:href=\"#DejaVuSans-97\"/>\r\n      <use x=\"1583.068359\" xlink:href=\"#DejaVuSans-32\"/>\r\n      <use x=\"1614.855469\" xlink:href=\"#DejaVuSans-61\"/>\r\n      <use x=\"1698.644531\" xlink:href=\"#DejaVuSans-32\"/>\r\n      <use x=\"1730.431641\" xlink:href=\"#DejaVuSans-48\"/>\r\n      <use x=\"1794.054688\" xlink:href=\"#DejaVuSans-46\"/>\r\n      <use x=\"1825.841797\" xlink:href=\"#DejaVuSans-57\"/>\r\n      <use x=\"1889.464844\" xlink:href=\"#DejaVuSans-56\"/>\r\n      <use x=\"1953.087891\" xlink:href=\"#DejaVuSans-41\"/>\r\n     </g>\r\n    </g>\r\n    <g id=\"line2d_30\">\r\n     <path d=\"M 139.017188 225.178437 \r\nL 159.017188 225.178437 \r\n\" style=\"fill:none;stroke:#000080;stroke-dasharray:4,6.6;stroke-dashoffset:0;stroke-width:4;\"/>\r\n    </g>\r\n    <g id=\"line2d_31\"/>\r\n    <g id=\"text_21\">\r\n     <!-- macro-average ROC curve (area = 0.99) -->\r\n     <g transform=\"translate(167.017188 228.678437)scale(0.1 -0.1)\">\r\n      <use xlink:href=\"#DejaVuSans-109\"/>\r\n      <use x=\"97.412109\" xlink:href=\"#DejaVuSans-97\"/>\r\n      <use x=\"158.691406\" xlink:href=\"#DejaVuSans-99\"/>\r\n      <use x=\"213.671875\" xlink:href=\"#DejaVuSans-114\"/>\r\n      <use x=\"252.535156\" xlink:href=\"#DejaVuSans-111\"/>\r\n      <use x=\"315.591797\" xlink:href=\"#DejaVuSans-45\"/>\r\n      <use x=\"351.675781\" xlink:href=\"#DejaVuSans-97\"/>\r\n      <use x=\"412.955078\" xlink:href=\"#DejaVuSans-118\"/>\r\n      <use x=\"472.134766\" xlink:href=\"#DejaVuSans-101\"/>\r\n      <use x=\"533.658203\" xlink:href=\"#DejaVuSans-114\"/>\r\n      <use x=\"574.771484\" xlink:href=\"#DejaVuSans-97\"/>\r\n      <use x=\"636.050781\" xlink:href=\"#DejaVuSans-103\"/>\r\n      <use x=\"699.527344\" xlink:href=\"#DejaVuSans-101\"/>\r\n      <use x=\"761.050781\" xlink:href=\"#DejaVuSans-32\"/>\r\n      <use x=\"792.837891\" xlink:href=\"#DejaVuSans-82\"/>\r\n      <use x=\"862.320312\" xlink:href=\"#DejaVuSans-79\"/>\r\n      <use x=\"941.03125\" xlink:href=\"#DejaVuSans-67\"/>\r\n      <use x=\"1010.855469\" xlink:href=\"#DejaVuSans-32\"/>\r\n      <use x=\"1042.642578\" xlink:href=\"#DejaVuSans-99\"/>\r\n      <use x=\"1097.623047\" xlink:href=\"#DejaVuSans-117\"/>\r\n      <use x=\"1161.001953\" xlink:href=\"#DejaVuSans-114\"/>\r\n      <use x=\"1202.115234\" xlink:href=\"#DejaVuSans-118\"/>\r\n      <use x=\"1261.294922\" xlink:href=\"#DejaVuSans-101\"/>\r\n      <use x=\"1322.818359\" xlink:href=\"#DejaVuSans-32\"/>\r\n      <use x=\"1354.605469\" xlink:href=\"#DejaVuSans-40\"/>\r\n      <use x=\"1393.619141\" xlink:href=\"#DejaVuSans-97\"/>\r\n      <use x=\"1454.898438\" xlink:href=\"#DejaVuSans-114\"/>\r\n      <use x=\"1493.761719\" xlink:href=\"#DejaVuSans-101\"/>\r\n      <use x=\"1555.285156\" xlink:href=\"#DejaVuSans-97\"/>\r\n      <use x=\"1616.564453\" xlink:href=\"#DejaVuSans-32\"/>\r\n      <use x=\"1648.351562\" xlink:href=\"#DejaVuSans-61\"/>\r\n      <use x=\"1732.140625\" xlink:href=\"#DejaVuSans-32\"/>\r\n      <use x=\"1763.927734\" xlink:href=\"#DejaVuSans-48\"/>\r\n      <use x=\"1827.550781\" xlink:href=\"#DejaVuSans-46\"/>\r\n      <use x=\"1859.337891\" xlink:href=\"#DejaVuSans-57\"/>\r\n      <use x=\"1922.960938\" xlink:href=\"#DejaVuSans-57\"/>\r\n      <use x=\"1986.583984\" xlink:href=\"#DejaVuSans-41\"/>\r\n     </g>\r\n    </g>\r\n   </g>\r\n  </g>\r\n </g>\r\n <defs>\r\n  <clipPath id=\"p78c648ae2e\">\r\n   <rect height=\"217.44\" width=\"334.8\" x=\"43.78125\" y=\"22.318125\"/>\r\n  </clipPath>\r\n </defs>\r\n</svg>\r\n",
      "image/png": "[encoded data removed]"
     },
     "metadata": {
      "needs_background": "light"
     }
    }
   ],
   "source": [
    "pred = eclf.predict(X_test)\n",
    "probas = eclf.predict_proba(X_test)\n",
    "skplt.metrics.plot_roc(y_true=y_test, y_probas=probas)\n"
   ]
  },
  {
   "cell_type": "code",
   "execution_count": null,
   "metadata": {
    "tags": []
   },
   "outputs": [],
   "source": []
  },
  {
   "cell_type": "code",
   "execution_count": 8,
   "metadata": {},
   "outputs": [
    {
     "output_type": "execute_result",
     "data": {
      "text/plain": "(273, 11352)"
     },
     "metadata": {},
     "execution_count": 8
    },
    {
     "output_type": "execute_result",
     "data": {
      "text/plain": "(281, 11352)"
     },
     "metadata": {},
     "execution_count": 8
    }
   ],
   "source": [
    "feature_mat.shape\n",
    "eval_feature_mat.shape\n"
   ]
  },
  {
   "cell_type": "code",
   "execution_count": 20,
   "metadata": {
    "scrolled": true
   },
   "outputs": [
    {
     "output_type": "execute_result",
     "data": {
      "text/plain": "(273, 11352)"
     },
     "metadata": {},
     "execution_count": 20
    },
    {
     "output_type": "execute_result",
     "data": {
      "text/plain": "(281, 11352)"
     },
     "metadata": {},
     "execution_count": 20
    },
    {
     "output_type": "execute_result",
     "data": {
      "text/plain": "(273, 11352, 1)"
     },
     "metadata": {},
     "execution_count": 20
    },
    {
     "output_type": "execute_result",
     "data": {
      "text/plain": "(273,)"
     },
     "metadata": {},
     "execution_count": 20
    },
    {
     "output_type": "execute_result",
     "data": {
      "text/plain": "(281, 11352, 1)"
     },
     "metadata": {},
     "execution_count": 20
    },
    {
     "output_type": "execute_result",
     "data": {
      "text/plain": "(281,)"
     },
     "metadata": {},
     "execution_count": 20
    }
   ],
   "source": [
    "from keras.utils.np_utils import to_categorical\n",
    "from sklearn.preprocessing import OneHotEncoder\n",
    "\n",
    "seq_length = 0\n",
    "\n",
    "X_train = feature_mat\n",
    "X_test = eval_feature_mat\n",
    "y_train = train_label[seq_length:]\n",
    "y_test = eval_label[seq_length:]\n",
    "\n",
    "y_train = y_train-1\n",
    "y_test = y_test-1\n",
    "\n",
    "# enc = OneHotEncoder(handle_unknown='ignore')\n",
    "# y_train_oneHot, y_test_oneHot = enc.fit_transform(y_train.reshape(-1, 1)), enc.transform(y_test.reshape(-1, 1))\n",
    "y_train_oneHot, y_test_oneHot = to_categorical(y_train), to_categorical(y_test)\n",
    "\n",
    "# seqLen=60\n",
    "# seq_train=sequence.pad_sequences(sequences=X_train, maxlen=seqLen, padding='post', dtype='float32', truncating='post')\n",
    "# seq_test=sequence.pad_sequences(sequences=X_test, maxlen=seqLen, padding='post', dtype='float32', truncating='post')\n",
    "\n",
    "\n",
    "\n",
    "\n",
    "# def build_dataset(time_series, seq_length = seq_length):\n",
    "#     dataX = []\n",
    "#     for i in range(0, len(time_series) - seq_length):\n",
    "#         _x = time_series[i:i + seq_length]\n",
    "# #         print(_x, \"->\", _y)\n",
    "#         dataX.append(_x)\n",
    "#     return np.array(dataX)\n",
    "\n",
    "# x_train = build_dataset(X_train)\n",
    "# x_test = build_dataset(X_test)\n",
    "\n",
    "x_train = X_train\n",
    "x_test = X_test\n",
    "\n",
    "x_train.shape\n",
    "x_test.shape\n",
    "\n",
    "x_train = np.reshape(x_train, (x_train.shape[0], x_train.shape[1], 1))\n",
    "x_test  = np.reshape(x_test,  (x_test.shape[0], x_test.shape[1], 1))\n",
    "\n",
    "x_train.shape\n",
    "y_train.shape\n",
    "\n",
    "x_test.shape\n",
    "y_test.shape"
   ]
  },
  {
   "cell_type": "code",
   "execution_count": 17,
   "metadata": {},
   "outputs": [
    {
     "output_type": "execute_result",
     "data": {
      "text/plain": "array([[0., 0., 0., 1.],\n       [0., 0., 1., 0.],\n       [0., 1., 0., 0.],\n       ...,\n       [0., 0., 1., 0.],\n       [1., 0., 0., 0.],\n       [0., 1., 0., 0.]], dtype=float32)"
     },
     "metadata": {},
     "execution_count": 17
    }
   ],
   "source": []
  },
  {
   "cell_type": "code",
   "execution_count": 21,
   "metadata": {},
   "outputs": [
    {
     "output_type": "execute_result",
     "data": {
      "text/plain": "(273, 11352, 1)"
     },
     "metadata": {},
     "execution_count": 21
    }
   ],
   "source": [
    "## X_train = X_train.T\n",
    "## X_test = X_test.T\n",
    "\n",
    "# seq_train, seq_test = [], []\n",
    "# seqLen = 60\n",
    "# for i in range(seqLen, X_train.shape[0]):\n",
    "#     seq_train.append(X_train[i-seqLen:i,0])\n",
    "\n",
    "# for z in range(seqLen, X_test.shape[0]):\n",
    "#     seq_test.append(X_test[z-seqLen:z,0])\n",
    "\n",
    "# seq_train, seq_test = np.array(seq_train), np.array(seq_test)\n",
    "\n",
    "# seq_train=np.reshape(seq_train, (seq_train.shape[0], seq_train.shape[1],1))\n",
    "# seq_test=np.reshape(seq_test, (seq_test.shape[0], seq_test.shape[1],1))\n",
    "\n",
    "\n",
    "x_train.shape"
   ]
  },
  {
   "cell_type": "code",
   "execution_count": 31,
   "metadata": {},
   "outputs": [],
   "source": [
    "model = Sequential()\n",
    "model.add(LSTM(64, stateful=False, return_sequences=False)) # ,return_sequences=True is need for deep (\"stacked\") # stateful=False\n",
    "model.add(BatchNormalization())\n",
    "# model.add(LSTM(150, stateful=True, return_sequences=True)) # ,return_sequences=True is need for deep (\"stacked\")\n",
    "# model.add(LSTM(75,  stateful=True, return_sequences=False)) # ,return_sequences=True is need for deep (\"stacked\")\n",
    "# model.add(BatchNormalization())\n",
    "model.add(Dense(32, activation='relu'))\n",
    "\n",
    "model.add(Dense(4, activation='softmax'))\n",
    "\n",
    "opt = tf.optimizers.RMSprop(0.001)\n",
    "model.compile(loss='categorical_crossentropy', optimizer=opt, metrics=['accuracy']) # , metrics=['accuracy']  # sparse_ # categorical_accuracy\n",
    "\n",
    "#  input_shape=(y_train.shape[0], y_train.shape[1], None)\n",
    "# model.summary()"
   ]
  },
  {
   "cell_type": "code",
   "execution_count": 47,
   "metadata": {
    "tags": []
   },
   "outputs": [
    {
     "output_type": "stream",
     "name": "stdout",
     "text": "Epoch 1/15\n"
    },
    {
     "output_type": "error",
     "ename": "KeyboardInterrupt",
     "evalue": "",
     "traceback": [
      "\u001b[1;31m---------------------------------------------------------------------------\u001b[0m",
      "\u001b[1;31mKeyboardInterrupt\u001b[0m                         Traceback (most recent call last)",
      "\u001b[1;32m<ipython-input-47-e2125262a695>\u001b[0m in \u001b[0;36m<module>\u001b[1;34m\u001b[0m\n\u001b[0;32m      1\u001b[0m \u001b[1;31m# history = model.fit(x_train, y_train_oneHot, epochs=10, batch_size=18, validation_data=(x_test, y_test_oneHot)).history #\u001b[0m\u001b[1;33m\u001b[0m\u001b[1;33m\u001b[0m\u001b[1;33m\u001b[0m\u001b[0m\n\u001b[0;32m      2\u001b[0m \u001b[1;33m\u001b[0m\u001b[0m\n\u001b[1;32m----> 3\u001b[1;33m \u001b[0mhistory\u001b[0m \u001b[1;33m=\u001b[0m \u001b[0mmodel\u001b[0m\u001b[1;33m.\u001b[0m\u001b[0mfit\u001b[0m\u001b[1;33m(\u001b[0m\u001b[0mx_train\u001b[0m\u001b[1;33m,\u001b[0m \u001b[0my_train_oneHot\u001b[0m\u001b[1;33m,\u001b[0m \u001b[0mepochs\u001b[0m\u001b[1;33m=\u001b[0m\u001b[1;36m15\u001b[0m\u001b[1;33m,\u001b[0m \u001b[0mbatch_size\u001b[0m\u001b[1;33m=\u001b[0m\u001b[1;36m64\u001b[0m\u001b[1;33m)\u001b[0m \u001b[1;31m# , validation_data=(x_test, y_test)).history #\u001b[0m\u001b[1;33m\u001b[0m\u001b[1;33m\u001b[0m\u001b[0m\n\u001b[0m",
      "\u001b[1;32m~\\AppData\\Roaming\\Python\\Python38\\site-packages\\tensorflow\\python\\keras\\engine\\training.py\u001b[0m in \u001b[0;36m_method_wrapper\u001b[1;34m(self, *args, **kwargs)\u001b[0m\n",
      "\u001b[1;32m~\\AppData\\Roaming\\Python\\Python38\\site-packages\\tensorflow\\python\\keras\\engine\\training.py\u001b[0m in \u001b[0;36mfit\u001b[1;34m(self, x, y, batch_size, epochs, verbose, callbacks, validation_split, validation_data, shuffle, class_weight, sample_weight, initial_epoch, steps_per_epoch, validation_steps, validation_batch_size, validation_freq, max_queue_size, workers, use_multiprocessing)\u001b[0m\n",
      "\u001b[1;32m~\\AppData\\Roaming\\Python\\Python38\\site-packages\\tensorflow\\python\\eager\\def_function.py\u001b[0m in \u001b[0;36m__call__\u001b[1;34m(self, *args, **kwds)\u001b[0m\n",
      "\u001b[1;32m~\\AppData\\Roaming\\Python\\Python38\\site-packages\\tensorflow\\python\\eager\\def_function.py\u001b[0m in \u001b[0;36m_call\u001b[1;34m(self, *args, **kwds)\u001b[0m\n",
      "\u001b[1;32m~\\AppData\\Roaming\\Python\\Python38\\site-packages\\tensorflow\\python\\eager\\function.py\u001b[0m in \u001b[0;36m__call__\u001b[1;34m(self, *args, **kwargs)\u001b[0m\n",
      "\u001b[1;32m~\\AppData\\Roaming\\Python\\Python38\\site-packages\\tensorflow\\python\\eager\\function.py\u001b[0m in \u001b[0;36m_filtered_call\u001b[1;34m(self, args, kwargs, cancellation_manager)\u001b[0m\n",
      "\u001b[1;32m~\\AppData\\Roaming\\Python\\Python38\\site-packages\\tensorflow\\python\\eager\\function.py\u001b[0m in \u001b[0;36m_call_flat\u001b[1;34m(self, args, captured_inputs, cancellation_manager)\u001b[0m\n",
      "\u001b[1;32m~\\AppData\\Roaming\\Python\\Python38\\site-packages\\tensorflow\\python\\eager\\function.py\u001b[0m in \u001b[0;36mcall\u001b[1;34m(self, ctx, args, cancellation_manager)\u001b[0m\n",
      "\u001b[1;32m~\\AppData\\Roaming\\Python\\Python38\\site-packages\\tensorflow\\python\\eager\\execute.py\u001b[0m in \u001b[0;36mquick_execute\u001b[1;34m(op_name, num_outputs, inputs, attrs, ctx, name)\u001b[0m\n",
      "\u001b[1;31mKeyboardInterrupt\u001b[0m: "
     ]
    }
   ],
   "source": [
    "# history = model.fit(x_train, y_train_oneHot, epochs=10, batch_size=18, validation_data=(x_test, y_test_oneHot)).history #\n",
    "\n",
    "history = model.fit(x_train, y_train_oneHot, epochs=5, batch_size=64) # , validation_data=(x_test, y_test)).history #"
   ]
  },
  {
   "cell_type": "code",
   "execution_count": 29,
   "metadata": {},
   "outputs": [
    {
     "output_type": "error",
     "ename": "ValueError",
     "evalue": "The truth value of an array with more than one element is ambiguous. Use a.any() or a.all()",
     "traceback": [
      "\u001b[1;31m---------------------------------------------------------------------------\u001b[0m",
      "\u001b[1;31mValueError\u001b[0m                                Traceback (most recent call last)",
      "\u001b[1;32m<ipython-input-29-d61af97d5abb>\u001b[0m in \u001b[0;36m<module>\u001b[1;34m\u001b[0m\n\u001b[0;32m      3\u001b[0m \u001b[1;33m\u001b[0m\u001b[0m\n\u001b[0;32m      4\u001b[0m \u001b[1;31m# pred = model.predict(x_test, y_test_oneHot)\u001b[0m\u001b[1;33m\u001b[0m\u001b[1;33m\u001b[0m\u001b[1;33m\u001b[0m\u001b[0m\n\u001b[1;32m----> 5\u001b[1;33m \u001b[0mpred\u001b[0m \u001b[1;33m=\u001b[0m \u001b[0mmodel\u001b[0m\u001b[1;33m.\u001b[0m\u001b[0mpredict\u001b[0m\u001b[1;33m(\u001b[0m\u001b[0mx_train\u001b[0m\u001b[1;33m,\u001b[0m \u001b[0my_train_oneHot\u001b[0m\u001b[1;33m)\u001b[0m\u001b[1;33m\u001b[0m\u001b[1;33m\u001b[0m\u001b[0m\n\u001b[0m",
      "\u001b[1;32m~\\AppData\\Roaming\\Python\\Python38\\site-packages\\tensorflow\\python\\keras\\engine\\training.py\u001b[0m in \u001b[0;36m_method_wrapper\u001b[1;34m(self, *args, **kwargs)\u001b[0m\n\u001b[0;32m    128\u001b[0m       raise ValueError('{} is not supported in multi-worker mode.'.format(\n\u001b[0;32m    129\u001b[0m           method.__name__))\n\u001b[1;32m--> 130\u001b[1;33m     \u001b[1;32mreturn\u001b[0m \u001b[0mmethod\u001b[0m\u001b[1;33m(\u001b[0m\u001b[0mself\u001b[0m\u001b[1;33m,\u001b[0m \u001b[1;33m*\u001b[0m\u001b[0margs\u001b[0m\u001b[1;33m,\u001b[0m \u001b[1;33m**\u001b[0m\u001b[0mkwargs\u001b[0m\u001b[1;33m)\u001b[0m\u001b[1;33m\u001b[0m\u001b[1;33m\u001b[0m\u001b[0m\n\u001b[0m\u001b[0;32m    131\u001b[0m \u001b[1;33m\u001b[0m\u001b[0m\n\u001b[0;32m    132\u001b[0m   return tf_decorator.make_decorator(\n",
      "\u001b[1;32m~\\AppData\\Roaming\\Python\\Python38\\site-packages\\tensorflow\\python\\keras\\engine\\training.py\u001b[0m in \u001b[0;36mpredict\u001b[1;34m(self, x, batch_size, verbose, steps, callbacks, max_queue_size, workers, use_multiprocessing)\u001b[0m\n\u001b[0;32m   1567\u001b[0m     \u001b[1;32mwith\u001b[0m \u001b[0mself\u001b[0m\u001b[1;33m.\u001b[0m\u001b[0mdistribute_strategy\u001b[0m\u001b[1;33m.\u001b[0m\u001b[0mscope\u001b[0m\u001b[1;33m(\u001b[0m\u001b[1;33m)\u001b[0m\u001b[1;33m:\u001b[0m\u001b[1;33m\u001b[0m\u001b[1;33m\u001b[0m\u001b[0m\n\u001b[0;32m   1568\u001b[0m       \u001b[1;31m# Creates a `tf.data.Dataset` and handles batch and epoch iteration.\u001b[0m\u001b[1;33m\u001b[0m\u001b[1;33m\u001b[0m\u001b[1;33m\u001b[0m\u001b[0m\n\u001b[1;32m-> 1569\u001b[1;33m       data_handler = data_adapter.DataHandler(\n\u001b[0m\u001b[0;32m   1570\u001b[0m           \u001b[0mx\u001b[0m\u001b[1;33m=\u001b[0m\u001b[0mx\u001b[0m\u001b[1;33m,\u001b[0m\u001b[1;33m\u001b[0m\u001b[1;33m\u001b[0m\u001b[0m\n\u001b[0;32m   1571\u001b[0m           \u001b[0mbatch_size\u001b[0m\u001b[1;33m=\u001b[0m\u001b[0mbatch_size\u001b[0m\u001b[1;33m,\u001b[0m\u001b[1;33m\u001b[0m\u001b[1;33m\u001b[0m\u001b[0m\n",
      "\u001b[1;32m~\\AppData\\Roaming\\Python\\Python38\\site-packages\\tensorflow\\python\\keras\\engine\\data_adapter.py\u001b[0m in \u001b[0;36m__init__\u001b[1;34m(self, x, y, sample_weight, batch_size, steps_per_epoch, initial_epoch, epochs, shuffle, class_weight, max_queue_size, workers, use_multiprocessing, model, steps_per_execution)\u001b[0m\n\u001b[0;32m   1103\u001b[0m \u001b[1;33m\u001b[0m\u001b[0m\n\u001b[0;32m   1104\u001b[0m     \u001b[0madapter_cls\u001b[0m \u001b[1;33m=\u001b[0m \u001b[0mselect_data_adapter\u001b[0m\u001b[1;33m(\u001b[0m\u001b[0mx\u001b[0m\u001b[1;33m,\u001b[0m \u001b[0my\u001b[0m\u001b[1;33m)\u001b[0m\u001b[1;33m\u001b[0m\u001b[1;33m\u001b[0m\u001b[0m\n\u001b[1;32m-> 1105\u001b[1;33m     self._adapter = adapter_cls(\n\u001b[0m\u001b[0;32m   1106\u001b[0m         \u001b[0mx\u001b[0m\u001b[1;33m,\u001b[0m\u001b[1;33m\u001b[0m\u001b[1;33m\u001b[0m\u001b[0m\n\u001b[0;32m   1107\u001b[0m         \u001b[0my\u001b[0m\u001b[1;33m,\u001b[0m\u001b[1;33m\u001b[0m\u001b[1;33m\u001b[0m\u001b[0m\n",
      "\u001b[1;32m~\\AppData\\Roaming\\Python\\Python38\\site-packages\\tensorflow\\python\\keras\\engine\\data_adapter.py\u001b[0m in \u001b[0;36m__init__\u001b[1;34m(self, x, y, sample_weights, sample_weight_modes, batch_size, epochs, steps, shuffle, **kwargs)\u001b[0m\n\u001b[0;32m    285\u001b[0m     \u001b[1;31m# If batch_size is not passed but steps is, calculate from the input data.\u001b[0m\u001b[1;33m\u001b[0m\u001b[1;33m\u001b[0m\u001b[1;33m\u001b[0m\u001b[0m\n\u001b[0;32m    286\u001b[0m     \u001b[1;31m# Default to 32 for backwards compat.\u001b[0m\u001b[1;33m\u001b[0m\u001b[1;33m\u001b[0m\u001b[1;33m\u001b[0m\u001b[0m\n\u001b[1;32m--> 287\u001b[1;33m     \u001b[1;32mif\u001b[0m \u001b[1;32mnot\u001b[0m \u001b[0mbatch_size\u001b[0m\u001b[1;33m:\u001b[0m\u001b[1;33m\u001b[0m\u001b[1;33m\u001b[0m\u001b[0m\n\u001b[0m\u001b[0;32m    288\u001b[0m       \u001b[0mbatch_size\u001b[0m \u001b[1;33m=\u001b[0m \u001b[0mint\u001b[0m\u001b[1;33m(\u001b[0m\u001b[0mmath\u001b[0m\u001b[1;33m.\u001b[0m\u001b[0mceil\u001b[0m\u001b[1;33m(\u001b[0m\u001b[0mnum_samples\u001b[0m \u001b[1;33m/\u001b[0m \u001b[0msteps\u001b[0m\u001b[1;33m)\u001b[0m\u001b[1;33m)\u001b[0m \u001b[1;32mif\u001b[0m \u001b[0msteps\u001b[0m \u001b[1;32melse\u001b[0m \u001b[1;36m32\u001b[0m\u001b[1;33m\u001b[0m\u001b[1;33m\u001b[0m\u001b[0m\n\u001b[0;32m    289\u001b[0m \u001b[1;33m\u001b[0m\u001b[0m\n",
      "\u001b[1;31mValueError\u001b[0m: The truth value of an array with more than one element is ambiguous. Use a.any() or a.all()"
     ]
    }
   ],
   "source": [
    "# pred = model.evaluate(x_train, y_train)\n",
    "# pred\n",
    "\n",
    "# pred = model.predict(x_test, y_test_oneHot)\n",
    "pred = model.predict(x_train, y_train_oneHot)"
   ]
  },
  {
   "cell_type": "code",
   "execution_count": null,
   "metadata": {},
   "outputs": [],
   "source": []
  },
  {
   "cell_type": "code",
   "execution_count": 45,
   "metadata": {
    "tags": []
   },
   "outputs": [
    {
     "output_type": "error",
     "ename": "NameError",
     "evalue": "name 'a' is not defined",
     "traceback": [
      "\u001b[1;31m---------------------------------------------------------------------------\u001b[0m",
      "\u001b[1;31mNameError\u001b[0m                                 Traceback (most recent call last)",
      "\u001b[1;32m<ipython-input-45-3f786850e387>\u001b[0m in \u001b[0;36m<module>\u001b[1;34m\u001b[0m\n\u001b[1;32m----> 1\u001b[1;33m \u001b[0ma\u001b[0m\u001b[1;33m\u001b[0m\u001b[1;33m\u001b[0m\u001b[0m\n\u001b[0m",
      "\u001b[1;31mNameError\u001b[0m: name 'a' is not defined"
     ]
    }
   ],
   "source": []
  },
  {
   "cell_type": "code",
   "execution_count": 46,
   "metadata": {
    "tags": []
   },
   "outputs": [
    {
     "output_type": "stream",
     "name": "stdout",
     "text": "Num GPUs Available:  0\n"
    }
   ],
   "source": [
    "import tensorflow as tf\n",
    "print(\"Num GPUs Available: \", len(tf.config.experimental.list_physical_devices('GPU')))"
   ]
  },
  {
   "cell_type": "code",
   "execution_count": null,
   "metadata": {},
   "outputs": [],
   "source": []
  },
  {
   "cell_type": "code",
   "execution_count": 40,
   "metadata": {
    "tags": []
   },
   "outputs": [
    {
     "output_type": "stream",
     "name": "stdout",
     "text": "^C\n"
    }
   ],
   "source": []
  },
  {
   "cell_type": "code",
   "execution_count": null,
   "metadata": {},
   "outputs": [],
   "source": []
  },
  {
   "cell_type": "code",
   "execution_count": null,
   "metadata": {},
   "outputs": [],
   "source": []
  },
  {
   "cell_type": "code",
   "execution_count": null,
   "metadata": {},
   "outputs": [],
   "source": []
  },
  {
   "cell_type": "code",
   "execution_count": null,
   "metadata": {},
   "outputs": [],
   "source": []
  },
  {
   "cell_type": "code",
   "execution_count": null,
   "metadata": {},
   "outputs": [],
   "source": []
  },
  {
   "cell_type": "code",
   "execution_count": null,
   "metadata": {},
   "outputs": [],
   "source": []
  },
  {
   "cell_type": "code",
   "execution_count": null,
   "metadata": {},
   "outputs": [],
   "source": []
  },
  {
   "cell_type": "code",
   "execution_count": null,
   "metadata": {},
   "outputs": [],
   "source": []
  },
  {
   "cell_type": "code",
   "execution_count": null,
   "metadata": {},
   "outputs": [],
   "source": []
  },
  {
   "cell_type": "code",
   "execution_count": null,
   "metadata": {},
   "outputs": [],
   "source": []
  }
 ],
 "metadata": {
  "kernelspec": {
   "display_name": "Python 3",
   "language": "python",
   "name": "python3"
  },
  "language_info": {
   "codemirror_mode": {
    "name": "ipython",
    "version": 3
   },
   "file_extension": ".py",
   "mimetype": "text/x-python",
   "name": "python",
   "nbconvert_exporter": "python",
   "pygments_lexer": "ipython3",
   "version": "3.8.5-final"
  }
 },
 "nbformat": 4,
 "nbformat_minor": 4
}