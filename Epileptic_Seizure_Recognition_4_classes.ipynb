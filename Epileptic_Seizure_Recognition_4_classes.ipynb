{
 "cells": [
  {
   "cell_type": "markdown",
   "metadata": {
    "colab_type": "text",
    "id": "view-in-github"
   },
   "source": [
    "<a href=\"https://colab.research.google.com/github/alik604/MNIST_Brain/blob/master/Epileptic_Seizure_Recognition_4_classes.ipynb\" target=\"_parent\"><img src=\"https://colab.research.google.com/assets/colab-badge.svg\" alt=\"Open In Colab\"/></a>"
   ]
  },
  {
   "cell_type": "markdown",
   "metadata": {
    "colab_type": "text",
    "id": "YrapXDwG_ujP"
   },
   "source": [
    "# Epileptic Seizure Recognition - 4 classes \n",
    "\n",
    "### By Khizr Ali Pardhan [alik604](https://github.com/alik604/ReadMe)\n",
    "\n",
    "converting to Tensorflow.keras cause my NN to 30% acc -> 20% acc.... \n"
   ]
  },
  {
   "cell_type": "code",
   "execution_count": 52,
   "metadata": {
    "colab": {
     "base_uri": "https://localhost:8080/",
     "height": 80
    },
    "colab_type": "code",
    "id": "afMXefyR_xHN",
    "outputId": "4d1ef61e-7f98-4436-8930-474e96e3632b"
   },
   "outputs": [],
   "source": [
    "import pandas as pd \n",
    "import numpy as np \n",
    "\n",
    "from sklearn.preprocessing import MinMaxScaler, OneHotEncoder\n",
    "from sklearn.model_selection import train_test_split\n",
    "from sklearn.feature_extraction.text import CountVectorizer\n",
    "from sklearn.tree import DecisionTreeClassifier\n",
    "from sklearn.ensemble import RandomForestClassifier, ExtraTreesClassifier, VotingClassifier\n",
    "from sklearn.neural_network import MLPClassifier\n",
    "from sklearn.metrics import * \n",
    "\n",
    "import matplotlib.pyplot as plt\n",
    "%matplotlib inline\n",
    "\n",
    "import tensorflow as tf\n",
    "\n",
    "from tensorflow.keras import regularizers\n",
    "from tensorflow.keras.models import Model, load_model, Sequential\n",
    "from tensorflow.keras.layers import *\n",
    "from tensorflow.keras.callbacks import ModelCheckpoint, TensorBoard\n",
    "from tensorflow.keras.constraints import max_norm\n",
    "from tensorflow.keras.preprocessing import sequence\n",
    "from tensorflow.keras.utils import to_categorical\n",
    "\n",
    "from IPython.core.interactiveshell import InteractiveShell\n",
    "InteractiveShell.ast_node_interactivity = \"all\"\n",
    "\n",
    "import os\n",
    "os.environ['TF_CPP_MIN_LOG_LEVEL'] = '3' "
   ]
  },
  {
   "cell_type": "code",
   "execution_count": 53,
   "metadata": {
    "colab": {},
    "colab_type": "code",
    "id": "6sj6jkqg_xKE"
   },
   "outputs": [],
   "source": [
    "url = 'https://raw.githubusercontent.com/alik604/MNIST_Brain/master/Data/Epileptic%20Seizure%20Recognition.csv'\n",
    "hddr = ['username','X1','X2','X3','X4','X5','X6','X7','X8','X9','X10','X11','X12','X13','X14','X15','X16','X17','X18','X19','X20','X21','X22','X23','X24','X25','X26','X27','X28','X29','X30','X31','X32','X33','X34','X35','X36','X37','X38','X39','X40','X41','X42','X43','X44','X45','X46','X47','X48','X49','X50','X51','X52','X53','X54','X55','X56','X57','X58','X59','X60','X61','X62','X63','X64','X65','X66','X67','X68','X69','X70','X71','X72','X73','X74','X75','X76','X77','X78','X79','X80','X81','X82','X83','X84','X85','X86','X87','X88','X89','X90','X91','X92','X93','X94','X95','X96','X97','X98','X99','X100','X101','X102','X103','X104','X105','X106','X107','X108','X109','X110','X111','X112','X113','X114','X115','X116','X117','X118','X119','X120','X121','X122','X123','X124','X125','X126','X127','X128','X129','X130','X131','X132','X133','X134','X135','X136','X137','X138','X139','X140','X141','X142','X143','X144','X145','X146','X147','X148','X149','X150','X151','X152','X153','X154','X155','X156','X157','X158','X159','X160','X161','X162','X163','X164','X165','X166','X167','X168','X169','X170','X171','X172','X173','X174','X175','X176','X177','X178','y']\n",
    "\n",
    "raw = pd.read_csv(url, low_memory=False)\n",
    "raw.columns = hddr"
   ]
  },
  {
   "cell_type": "code",
   "execution_count": 54,
   "metadata": {
    "colab": {
     "base_uri": "https://localhost:8080/",
     "height": 253
    },
    "colab_type": "code",
    "id": "49OAhDrR_xNK",
    "outputId": "e43fa05c-9ec8-4663-8cfb-8f8af5590076"
   },
   "outputs": [
    {
     "data": {
      "text/html": [
       "<div>\n",
       "<style scoped>\n",
       "    .dataframe tbody tr th:only-of-type {\n",
       "        vertical-align: middle;\n",
       "    }\n",
       "\n",
       "    .dataframe tbody tr th {\n",
       "        vertical-align: top;\n",
       "    }\n",
       "\n",
       "    .dataframe thead th {\n",
       "        text-align: right;\n",
       "    }\n",
       "</style>\n",
       "<table border=\"1\" class=\"dataframe\">\n",
       "  <thead>\n",
       "    <tr style=\"text-align: right;\">\n",
       "      <th></th>\n",
       "      <th>username</th>\n",
       "      <th>X1</th>\n",
       "      <th>X2</th>\n",
       "      <th>X3</th>\n",
       "      <th>X4</th>\n",
       "      <th>X5</th>\n",
       "      <th>X6</th>\n",
       "      <th>X7</th>\n",
       "      <th>X8</th>\n",
       "      <th>X9</th>\n",
       "      <th>...</th>\n",
       "      <th>X170</th>\n",
       "      <th>X171</th>\n",
       "      <th>X172</th>\n",
       "      <th>X173</th>\n",
       "      <th>X174</th>\n",
       "      <th>X175</th>\n",
       "      <th>X176</th>\n",
       "      <th>X177</th>\n",
       "      <th>X178</th>\n",
       "      <th>y</th>\n",
       "    </tr>\n",
       "  </thead>\n",
       "  <tbody>\n",
       "    <tr>\n",
       "      <th>0</th>\n",
       "      <td>X21.V1.791</td>\n",
       "      <td>135</td>\n",
       "      <td>190</td>\n",
       "      <td>229</td>\n",
       "      <td>223</td>\n",
       "      <td>192</td>\n",
       "      <td>125</td>\n",
       "      <td>55</td>\n",
       "      <td>-9</td>\n",
       "      <td>-33</td>\n",
       "      <td>...</td>\n",
       "      <td>-17</td>\n",
       "      <td>-15</td>\n",
       "      <td>-31</td>\n",
       "      <td>-77</td>\n",
       "      <td>-103</td>\n",
       "      <td>-127</td>\n",
       "      <td>-116</td>\n",
       "      <td>-83</td>\n",
       "      <td>-51</td>\n",
       "      <td>4</td>\n",
       "    </tr>\n",
       "    <tr>\n",
       "      <th>1</th>\n",
       "      <td>X15.V1.924</td>\n",
       "      <td>386</td>\n",
       "      <td>382</td>\n",
       "      <td>356</td>\n",
       "      <td>331</td>\n",
       "      <td>320</td>\n",
       "      <td>315</td>\n",
       "      <td>307</td>\n",
       "      <td>272</td>\n",
       "      <td>244</td>\n",
       "      <td>...</td>\n",
       "      <td>164</td>\n",
       "      <td>150</td>\n",
       "      <td>146</td>\n",
       "      <td>152</td>\n",
       "      <td>157</td>\n",
       "      <td>156</td>\n",
       "      <td>154</td>\n",
       "      <td>143</td>\n",
       "      <td>129</td>\n",
       "      <td>1</td>\n",
       "    </tr>\n",
       "    <tr>\n",
       "      <th>2</th>\n",
       "      <td>X8.V1.1</td>\n",
       "      <td>-32</td>\n",
       "      <td>-39</td>\n",
       "      <td>-47</td>\n",
       "      <td>-37</td>\n",
       "      <td>-32</td>\n",
       "      <td>-36</td>\n",
       "      <td>-57</td>\n",
       "      <td>-73</td>\n",
       "      <td>-85</td>\n",
       "      <td>...</td>\n",
       "      <td>57</td>\n",
       "      <td>64</td>\n",
       "      <td>48</td>\n",
       "      <td>19</td>\n",
       "      <td>-12</td>\n",
       "      <td>-30</td>\n",
       "      <td>-35</td>\n",
       "      <td>-35</td>\n",
       "      <td>-36</td>\n",
       "      <td>5</td>\n",
       "    </tr>\n",
       "    <tr>\n",
       "      <th>3</th>\n",
       "      <td>X16.V1.60</td>\n",
       "      <td>-105</td>\n",
       "      <td>-101</td>\n",
       "      <td>-96</td>\n",
       "      <td>-92</td>\n",
       "      <td>-89</td>\n",
       "      <td>-95</td>\n",
       "      <td>-102</td>\n",
       "      <td>-100</td>\n",
       "      <td>-87</td>\n",
       "      <td>...</td>\n",
       "      <td>-82</td>\n",
       "      <td>-81</td>\n",
       "      <td>-80</td>\n",
       "      <td>-77</td>\n",
       "      <td>-85</td>\n",
       "      <td>-77</td>\n",
       "      <td>-72</td>\n",
       "      <td>-69</td>\n",
       "      <td>-65</td>\n",
       "      <td>5</td>\n",
       "    </tr>\n",
       "    <tr>\n",
       "      <th>4</th>\n",
       "      <td>X20.V1.54</td>\n",
       "      <td>-9</td>\n",
       "      <td>-65</td>\n",
       "      <td>-98</td>\n",
       "      <td>-102</td>\n",
       "      <td>-78</td>\n",
       "      <td>-48</td>\n",
       "      <td>-16</td>\n",
       "      <td>0</td>\n",
       "      <td>-21</td>\n",
       "      <td>...</td>\n",
       "      <td>4</td>\n",
       "      <td>2</td>\n",
       "      <td>-12</td>\n",
       "      <td>-32</td>\n",
       "      <td>-41</td>\n",
       "      <td>-65</td>\n",
       "      <td>-83</td>\n",
       "      <td>-89</td>\n",
       "      <td>-73</td>\n",
       "      <td>5</td>\n",
       "    </tr>\n",
       "  </tbody>\n",
       "</table>\n",
       "<p>5 rows × 180 columns</p>\n",
       "</div>"
      ],
      "text/plain": [
       "     username   X1   X2   X3   X4   X5   X6   X7   X8   X9  ...  X170  X171  \\\n",
       "0  X21.V1.791  135  190  229  223  192  125   55   -9  -33  ...   -17   -15   \n",
       "1  X15.V1.924  386  382  356  331  320  315  307  272  244  ...   164   150   \n",
       "2     X8.V1.1  -32  -39  -47  -37  -32  -36  -57  -73  -85  ...    57    64   \n",
       "3   X16.V1.60 -105 -101  -96  -92  -89  -95 -102 -100  -87  ...   -82   -81   \n",
       "4   X20.V1.54   -9  -65  -98 -102  -78  -48  -16    0  -21  ...     4     2   \n",
       "\n",
       "   X172  X173  X174  X175  X176  X177  X178  y  \n",
       "0   -31   -77  -103  -127  -116   -83   -51  4  \n",
       "1   146   152   157   156   154   143   129  1  \n",
       "2    48    19   -12   -30   -35   -35   -36  5  \n",
       "3   -80   -77   -85   -77   -72   -69   -65  5  \n",
       "4   -12   -32   -41   -65   -83   -89   -73  5  \n",
       "\n",
       "[5 rows x 180 columns]"
      ]
     },
     "execution_count": 54,
     "metadata": {},
     "output_type": "execute_result"
    }
   ],
   "source": [
    "raw.head()"
   ]
  },
  {
   "cell_type": "markdown",
   "metadata": {
    "colab_type": "text",
    "id": "ceYeTGSI_xQJ"
   },
   "source": [
    "[Data source - kaggle](https://www.kaggle.com/harunshimanto/epileptic-seizure-recognition)\n",
    "* [Data creator - university](https://archive.ics.uci.edu/ml/datasets/Epileptic+Seizure+Recognition)  \n",
    "* [Full Data](http://epileptologie-bonn.de/cms/front_content.php?idcat=193&lang=3&changelang=3) \n",
    "\n",
    "```\n",
    "y contains the category of the 178-dimensional input vector. Specifically y in {1, 2, 3, 4, 5}:\n",
    "  5 - eyes open, means when they were recording the EEG signal of the brain the patient had their eyes open\n",
    "  4 - eyes closed, means when they were recording the EEG signal the patient had their eyes closed\n",
    "  3 - Yes they identify where the region of the tumor was in the brain and recording the EEG activity from the healthy brain area\n",
    "  2 - They recorder the EEG from the area where the tumor was located\n",
    "  1 - Recording of seizure activity\n",
    "```\n",
    "I aussume first column is 'username' not 'Unnamed', sample cell `X8.V1.322\t`"
   ]
  },
  {
   "cell_type": "code",
   "execution_count": 55,
   "metadata": {
    "colab": {
     "base_uri": "https://localhost:8080/",
     "height": 253
    },
    "colab_type": "code",
    "id": "4cAI8UhG_xcZ",
    "outputId": "bf5570d2-47f9-48c7-ffef-85df29b799ee"
   },
   "outputs": [
    {
     "data": {
      "text/html": [
       "<div>\n",
       "<style scoped>\n",
       "    .dataframe tbody tr th:only-of-type {\n",
       "        vertical-align: middle;\n",
       "    }\n",
       "\n",
       "    .dataframe tbody tr th {\n",
       "        vertical-align: top;\n",
       "    }\n",
       "\n",
       "    .dataframe thead th {\n",
       "        text-align: right;\n",
       "    }\n",
       "</style>\n",
       "<table border=\"1\" class=\"dataframe\">\n",
       "  <thead>\n",
       "    <tr style=\"text-align: right;\">\n",
       "      <th></th>\n",
       "      <th>username</th>\n",
       "      <th>X1</th>\n",
       "      <th>X2</th>\n",
       "      <th>X3</th>\n",
       "      <th>X4</th>\n",
       "      <th>X5</th>\n",
       "      <th>X6</th>\n",
       "      <th>X7</th>\n",
       "      <th>X8</th>\n",
       "      <th>X9</th>\n",
       "      <th>...</th>\n",
       "      <th>X170</th>\n",
       "      <th>X171</th>\n",
       "      <th>X172</th>\n",
       "      <th>X173</th>\n",
       "      <th>X174</th>\n",
       "      <th>X175</th>\n",
       "      <th>X176</th>\n",
       "      <th>X177</th>\n",
       "      <th>X178</th>\n",
       "      <th>y</th>\n",
       "    </tr>\n",
       "  </thead>\n",
       "  <tbody>\n",
       "    <tr>\n",
       "      <th>0</th>\n",
       "      <td>13</td>\n",
       "      <td>135</td>\n",
       "      <td>190</td>\n",
       "      <td>229</td>\n",
       "      <td>223</td>\n",
       "      <td>192</td>\n",
       "      <td>125</td>\n",
       "      <td>55</td>\n",
       "      <td>-9</td>\n",
       "      <td>-33</td>\n",
       "      <td>...</td>\n",
       "      <td>-17</td>\n",
       "      <td>-15</td>\n",
       "      <td>-31</td>\n",
       "      <td>-77</td>\n",
       "      <td>-103</td>\n",
       "      <td>-127</td>\n",
       "      <td>-116</td>\n",
       "      <td>-83</td>\n",
       "      <td>-51</td>\n",
       "      <td>4</td>\n",
       "    </tr>\n",
       "  </tbody>\n",
       "</table>\n",
       "<p>1 rows × 180 columns</p>\n",
       "</div>"
      ],
      "text/plain": [
       "   username   X1   X2   X3   X4   X5   X6  X7  X8  X9  ...  X170  X171  X172  \\\n",
       "0        13  135  190  229  223  192  125  55  -9 -33  ...   -17   -15   -31   \n",
       "\n",
       "   X173  X174  X175  X176  X177  X178  y  \n",
       "0   -77  -103  -127  -116   -83   -51  4  \n",
       "\n",
       "[1 rows x 180 columns]"
      ]
     },
     "execution_count": 55,
     "metadata": {},
     "output_type": "execute_result"
    }
   ],
   "source": [
    "s = raw['username'].str.split('.')\n",
    "people = [i[0] for i in s.values]\n",
    "raw['username'] = [i.argmax() for i in CountVectorizer().fit_transform(people).toarray()]\n",
    "\n",
    "\n",
    "raw.head(1)"
   ]
  },
  {
   "cell_type": "code",
   "execution_count": 86,
   "metadata": {
    "colab": {},
    "colab_type": "code",
    "id": "1rLnkmo7_xfb"
   },
   "outputs": [],
   "source": [
    "X = raw.drop(['y' , 'username'], axis = 1) # would be nice to keep 'username', but i need a sequence \n",
    "y = raw.y\n",
    "X_train, X_test, y_train, y_test = train_test_split(X, y, test_size=0.25, random_state=42)"
   ]
  },
  {
   "cell_type": "code",
   "execution_count": 87,
   "metadata": {
    "colab": {},
    "colab_type": "code",
    "id": "1MObv06NISGb"
   },
   "outputs": [],
   "source": [
    "y_train , y_test = y_train.to_numpy(), y_test.to_numpy()\n",
    "\n",
    "mms = MinMaxScaler()\n",
    "X_train_trans = mms.fit_transform(X_train)\n",
    "X_test_trans = mms.transform(X_test)\n",
    "\n",
    "maxlen = 50#240\n",
    "seqTrain=sequence.pad_sequences(sequences= X_train_trans, maxlen=maxlen, padding='post', dtype='float32', truncating='post')\n",
    "seqTest=sequence.pad_sequences(sequences= X_test_trans, maxlen=maxlen, padding='post', dtype='float32', truncating='post')\n",
    "\n",
    "seqTrain = seqTrain.reshape(seqTrain.shape[0],seqTrain.shape[1],1)\n",
    "seqTest = seqTest.reshape(seqTest.shape[0],seqTest.shape[1],1)\n",
    "\n",
    "enc = OneHotEncoder(handle_unknown='ignore')\n",
    "y_train_oneHot, y_test_oneHot = enc.fit_transform(y_train.reshape(-1, 1)), enc.transform(y_test.reshape(-1, 1))\n",
    "\n",
    "# y_train_c, y_test_c= to_categorical(y_train), to_categorical(y_test)"
   ]
  },
  {
   "cell_type": "markdown",
   "metadata": {
    "colab_type": "text",
    "id": "3bWe1NMkISJW"
   },
   "source": [
    "## ML - Basic & vanilla_ANN"
   ]
  },
  {
   "cell_type": "code",
   "execution_count": 66,
   "metadata": {
    "colab": {
     "base_uri": "https://localhost:8080/",
     "height": 85
    },
    "colab_type": "code",
    "id": "QLIGaezJISQX",
    "outputId": "7aff302e-318b-4c9e-df0d-1fa15342cf42"
   },
   "outputs": [
    {
     "name": "stdout",
     "output_type": "stream",
     "text": [
      "Acc: 0.6111304348 [DecisionTreeClassifier]\n",
      "Acc: 0.6166956522 [RandomForestClassifier]\n",
      "Acc: 0.6041739130 [ExtraTreesClassifier]\n",
      "Acc: 0.6146086957 [Ensemble]\n"
     ]
    }
   ],
   "source": [
    "from sklearn.tree import DecisionTreeClassifier\n",
    "from sklearn.ensemble import RandomForestClassifier, ExtraTreesClassifier, VotingClassifier\n",
    "\n",
    "DTC = DecisionTreeClassifier() \n",
    "RFC = RandomForestClassifier(n_estimators=25, random_state=1)\n",
    "ETC = ExtraTreesClassifier(n_estimators=10, criterion='gini', max_features='auto', bootstrap=False)\n",
    "\n",
    "eclf = VotingClassifier(estimators=[('DecisionTreeClassifier', DTC), ('RandomForestClassifier', RFC),('ExtraTreesClassifier',ETC)], voting='hard')\n",
    "for clf, label in zip([DTC, RFC,ETC, eclf], ['DecisionTreeClassifier', 'RandomForestClassifier', 'ExtraTreesClassifier', 'Ensemble']): \n",
    "    _ = eclf.fit(X_train_trans,y_train)\n",
    "    pred = eclf.score(X_test_trans,y_test)\n",
    "    print(\"Acc: %0.10f [%s]\" % (pred,label))"
   ]
  },
  {
   "cell_type": "markdown",
   "metadata": {
    "colab_type": "text",
    "id": "eVI4Q5p1N5od"
   },
   "source": [
    "```\n",
    "Acc: 0.6184347826 [DecisionTreeClassifier]\n",
    "Acc: 0.6250434783 [RandomForestClassifier]\n",
    "Acc: 0.6139130435 [ExtraTreesClassifier]\n",
    "Acc: 0.6146086957 [Ensemble]\n",
    "```\n",
    "better that if we did not use `MinMaxScaler`\n"
   ]
  },
  {
   "cell_type": "code",
   "execution_count": 59,
   "metadata": {
    "colab": {},
    "colab_type": "code",
    "id": "by0AASG9ISTq"
   },
   "outputs": [],
   "source": [
    "!pip3 install xgboost\n",
    "from xgboost import XGBClassifier\n",
    "gb = XGBClassifier(tree_method='gpu_hist',n_jobs =8, max_depth=8,learning_rate=0.01,verbosity=0,n_estimators=300)\n",
    "f = gb.fit(X_train_trans,y_train)\n",
    "\n",
    "pred = gb.predict(X_test_trans)\n",
    "\n",
    "def benchmark(pred, y_test = y_test):\n",
    "  print( \"hamming_loss: \\t\\t\"    ,round(hamming_loss(y_test,pred),3))\n",
    "  print( \"precision_score: \\t\"   ,round(precision_score(y_test,pred,average='micro'),3))\n",
    "  print( \"recall_score: \\t\\t\"    ,round(recall_score(y_test,pred ,average='micro'),3))\n",
    "  print(\"------------------------------\")\n",
    "  print( \"accuracy_score: \\t\"    ,round(accuracy_score(y_test,pred),3))\n",
    "\n",
    "benchmark(pred)\n",
    "# 0.607"
   ]
  },
  {
   "cell_type": "code",
   "execution_count": 88,
   "metadata": {
    "colab": {},
    "colab_type": "code",
    "id": "VCVBo7wEPg-H"
   },
   "outputs": [
    {
     "data": {
      "text/plain": [
       "178"
      ]
     },
     "execution_count": 88,
     "metadata": {},
     "output_type": "execute_result"
    }
   ],
   "source": [
    "from tensorflow.keras.utils import to_categorical\n",
    "y_train = to_categorical(y_train)#y_train.reshape(-1, 1))\n",
    "y_test = to_categorical(y_test)\n",
    "\n",
    "dim = X_train_trans.shape[1]\n",
    "dim"
   ]
  },
  {
   "cell_type": "code",
   "execution_count": 72,
   "metadata": {
    "colab": {},
    "colab_type": "code",
    "id": "aPK3_ZYcISaS"
   },
   "outputs": [
    {
     "name": "stdout",
     "output_type": "stream",
     "text": [
      "Train on 8625 samples, validate on 2875 samples\n",
      "Epoch 1/10\n",
      "8625/8625 [==============================] - 2s 200us/sample - loss: 1.6120 - accuracy: 0.1988 - val_loss: 1.6094 - val_accuracy: 0.1993\n",
      "Epoch 2/10\n",
      "8625/8625 [==============================] - 2s 175us/sample - loss: 1.6095 - accuracy: 0.2020 - val_loss: 1.6094 - val_accuracy: 0.1993\n",
      "Epoch 3/10\n",
      "8625/8625 [==============================] - 1s 173us/sample - loss: 1.6095 - accuracy: 0.2008 - val_loss: 1.6094 - val_accuracy: 0.1927\n",
      "Epoch 4/10\n",
      "8625/8625 [==============================] - 2s 175us/sample - loss: 1.6094 - accuracy: 0.1983 - val_loss: 1.6094 - val_accuracy: 0.1927\n",
      "Epoch 5/10\n",
      "8625/8625 [==============================] - 2s 180us/sample - loss: 1.6094 - accuracy: 0.2024 - val_loss: 1.6094 - val_accuracy: 0.1927\n",
      "Epoch 6/10\n",
      "8625/8625 [==============================] - 2s 178us/sample - loss: 1.6094 - accuracy: 0.2028 - val_loss: 1.6094 - val_accuracy: 0.1927\n",
      "Epoch 7/10\n",
      "8625/8625 [==============================] - 2s 200us/sample - loss: 1.6094 - accuracy: 0.2010 - val_loss: 1.6094 - val_accuracy: 0.1878\n",
      "Epoch 8/10\n",
      "8625/8625 [==============================] - 2s 204us/sample - loss: 1.6094 - accuracy: 0.2019 - val_loss: 1.6094 - val_accuracy: 0.1927\n",
      "Epoch 9/10\n",
      "8625/8625 [==============================] - 2s 202us/sample - loss: 1.6094 - accuracy: 0.2024 - val_loss: 1.6094 - val_accuracy: 0.1927\n",
      "Epoch 10/10\n",
      "8625/8625 [==============================] - 2s 198us/sample - loss: 1.6097 - accuracy: 0.2022 - val_loss: 1.6094 - val_accuracy: 0.2028\n"
     ]
    }
   ],
   "source": [
    "classifier = Sequential()\n",
    "\n",
    "classifier.add(Dense(175, activation='relu', input_dim=dim))\n",
    "classifier.add(Dense(80, activation='relu'))\n",
    "classifier.add(Dense(40, activation='relu'))\n",
    "classifier.add(Dense(6, activation='sigmoid'))\n",
    "\n",
    "classifier.compile(optimizer ='adam',loss='categorical_crossentropy', metrics =['accuracy'])\n",
    "\n",
    "history = classifier.fit(X_train_trans,y_train, batch_size=8, epochs=10, validation_data=(X_test_trans,y_test)).history\n",
    "# epoch = 30\n",
    "# 2s 252us/step - loss: 1.4459 - acc: 0.3089 - val_loss: 1.4135 - val_acc: 0.3273\n"
   ]
  },
  {
   "cell_type": "markdown",
   "metadata": {
    "colab_type": "text",
    "id": "kFk4Vm7qISdn"
   },
   "source": [
    "## ML - Fancy architextures"
   ]
  },
  {
   "cell_type": "code",
   "execution_count": 70,
   "metadata": {
    "colab": {},
    "colab_type": "code",
    "id": "zQnv1xCFISrS"
   },
   "outputs": [
    {
     "name": "stdout",
     "output_type": "stream",
     "text": [
      "Train on 8625 samples, validate on 2875 samples\n",
      "Epoch 1/30\n",
      "8625/8625 [==============================] - 2s 247us/sample - loss: 4.3934 - accuracy: 0.2016 - val_loss: 4.3778 - val_accuracy: 0.2052\n",
      "Epoch 2/30\n",
      "8625/8625 [==============================] - 2s 225us/sample - loss: 4.3208 - accuracy: 0.2003 - val_loss: 4.3729 - val_accuracy: 0.2000\n",
      "Epoch 3/30\n",
      "8625/8625 [==============================] - 2s 232us/sample - loss: 4.3195 - accuracy: 0.1991 - val_loss: 4.3738 - val_accuracy: 0.2000\n",
      "Epoch 4/30\n",
      "8625/8625 [==============================] - 2s 232us/sample - loss: 4.3200 - accuracy: 0.2026 - val_loss: 4.3816 - val_accuracy: 0.1927\n",
      "Epoch 5/30\n",
      "8625/8625 [==============================] - 2s 275us/sample - loss: 4.3200 - accuracy: 0.1976 - val_loss: 4.3734 - val_accuracy: 0.2000\n",
      "Epoch 6/30\n",
      "8625/8625 [==============================] - 2s 267us/sample - loss: 4.3202 - accuracy: 0.1991 - val_loss: 4.3742 - val_accuracy: 0.2000\n",
      "Epoch 7/30\n",
      "8625/8625 [==============================] - 2s 268us/sample - loss: 4.3201 - accuracy: 0.1968 - val_loss: 4.3738 - val_accuracy: 0.1993\n",
      "Epoch 8/30\n",
      "8625/8625 [==============================] - 2s 267us/sample - loss: 4.3195 - accuracy: 0.2089 - val_loss: 4.3756 - val_accuracy: 0.2052\n",
      "Epoch 9/30\n",
      "8625/8625 [==============================] - 2s 271us/sample - loss: 4.3199 - accuracy: 0.2013 - val_loss: 4.3750 - val_accuracy: 0.1993\n",
      "Epoch 10/30\n",
      "8625/8625 [==============================] - 2s 266us/sample - loss: 4.3200 - accuracy: 0.1952 - val_loss: 4.3745 - val_accuracy: 0.1927\n",
      "Epoch 11/30\n",
      "8625/8625 [==============================] - 2s 262us/sample - loss: 4.3199 - accuracy: 0.2000 - val_loss: 4.3734 - val_accuracy: 0.2052\n",
      "Epoch 12/30\n",
      "8625/8625 [==============================] - 2s 271us/sample - loss: 4.3198 - accuracy: 0.2053 - val_loss: 4.3752 - val_accuracy: 0.1927\n",
      "Epoch 13/30\n",
      "8625/8625 [==============================] - 2s 269us/sample - loss: 4.3200 - accuracy: 0.2008 - val_loss: 4.3730 - val_accuracy: 0.2052\n",
      "Epoch 14/30\n",
      "8625/8625 [==============================] - 2s 264us/sample - loss: 10.0848 - accuracy: 0.2063 - val_loss: 12.8110 - val_accuracy: 0.2049\n",
      "Epoch 15/30\n",
      "8625/8625 [==============================] - 2s 264us/sample - loss: 12.9225 - accuracy: 0.1983 - val_loss: 12.8110 - val_accuracy: 0.2049\n",
      "Epoch 16/30\n",
      "8625/8625 [==============================] - 2s 259us/sample - loss: 12.9225 - accuracy: 0.1983 - val_loss: 12.8110 - val_accuracy: 0.2049\n",
      "Epoch 17/30\n",
      "8625/8625 [==============================] - 2s 268us/sample - loss: 12.9225 - accuracy: 0.1983 - val_loss: 12.8110 - val_accuracy: 0.2049\n",
      "Epoch 18/30\n",
      "8625/8625 [==============================] - 2s 263us/sample - loss: 12.9225 - accuracy: 0.1983 - val_loss: 12.8110 - val_accuracy: 0.2049\n",
      "Epoch 19/30\n",
      "8625/8625 [==============================] - 2s 263us/sample - loss: 12.9225 - accuracy: 0.1983 - val_loss: 12.8110 - val_accuracy: 0.2049\n",
      "Epoch 20/30\n",
      "8625/8625 [==============================] - 2s 259us/sample - loss: 12.9225 - accuracy: 0.1983 - val_loss: 12.8110 - val_accuracy: 0.2049\n",
      "Epoch 21/30\n",
      "8625/8625 [==============================] - 2s 267us/sample - loss: 12.9225 - accuracy: 0.1983 - val_loss: 12.8110 - val_accuracy: 0.2049\n",
      "Epoch 22/30\n",
      "8625/8625 [==============================] - 2s 267us/sample - loss: 12.9225 - accuracy: 0.1983 - val_loss: 12.8110 - val_accuracy: 0.2049\n",
      "Epoch 23/30\n",
      "8625/8625 [==============================] - 2s 262us/sample - loss: 12.9225 - accuracy: 0.1983 - val_loss: 12.8110 - val_accuracy: 0.2049\n",
      "Epoch 24/30\n",
      "8625/8625 [==============================] - 2s 263us/sample - loss: 12.9225 - accuracy: 0.1983 - val_loss: 12.8110 - val_accuracy: 0.2049\n",
      "Epoch 25/30\n",
      "8625/8625 [==============================] - 2s 265us/sample - loss: 12.9225 - accuracy: 0.1983 - val_loss: 12.8110 - val_accuracy: 0.2049\n",
      "Epoch 26/30\n",
      "8625/8625 [==============================] - 2s 261us/sample - loss: 12.9225 - accuracy: 0.1983 - val_loss: 12.8110 - val_accuracy: 0.2049\n",
      "Epoch 27/30\n",
      "8625/8625 [==============================] - 2s 258us/sample - loss: 12.9225 - accuracy: 0.1983 - val_loss: 12.8110 - val_accuracy: 0.2049\n",
      "Epoch 28/30\n",
      "8625/8625 [==============================] - 2s 263us/sample - loss: 12.9225 - accuracy: 0.1983 - val_loss: 12.8110 - val_accuracy: 0.2049\n",
      "Epoch 29/30\n",
      "8625/8625 [==============================] - 2s 276us/sample - loss: 12.9225 - accuracy: 0.1983 - val_loss: 12.8110 - val_accuracy: 0.2049\n",
      "Epoch 30/30\n",
      "8625/8625 [==============================] - 2s 274us/sample - loss: 12.9225 - accuracy: 0.1983 - val_loss: 12.8110 - val_accuracy: 0.2049\n"
     ]
    }
   ],
   "source": [
    "classifier = Sequential()\n",
    "\n",
    "classifier.add(Dense(175, activation='relu', input_dim=dim))\n",
    "classifier.add(Dense(250, activation='relu'))\n",
    "classifier.add(Dense(250, activation='relu'))\n",
    "classifier.add(Dense(50, activation='relu'))\n",
    "classifier.add(Dense(6, activation='sigmoid'))\n",
    "\n",
    "classifier.compile(optimizer ='adam',loss='categorical_crossentropy', metrics =['accuracy'])\n",
    "\n",
    "history = classifier.fit(X_train_trans,y_train, batch_size=8, epochs=30, validation_data=(X_test_trans,y_test)).history\n",
    "# epoch = 30\n",
    "# 2s 252us/step - loss: 1.4459 - acc: 0.3089 - val_loss: 1.4135 - val_acc: 0.3273\n"
   ]
  },
  {
   "cell_type": "code",
   "execution_count": 92,
   "metadata": {
    "colab": {},
    "colab_type": "code",
    "id": "rVUvAVDMISus"
   },
   "outputs": [
    {
     "name": "stdout",
     "output_type": "stream",
     "text": [
      "Train on 8625 samples, validate on 2875 samples\n",
      "Epoch 1/5\n",
      "8625/8625 [==============================] - 11s 1ms/sample - loss: 1.6192 - accuracy: 0.1998 - val_loss: 1.6094 - val_accuracy: 0.2052\n",
      "Epoch 2/5\n",
      "8625/8625 [==============================] - 15s 2ms/sample - loss: 1.6094 - accuracy: 0.1983 - val_loss: 1.6094 - val_accuracy: 0.2052\n",
      "Epoch 3/5\n",
      "8625/8625 [==============================] - 14s 2ms/sample - loss: 1.6094 - accuracy: 0.1983 - val_loss: 1.6094 - val_accuracy: 0.2052\n",
      "Epoch 4/5\n",
      "8625/8625 [==============================] - 14s 2ms/sample - loss: 1.6094 - accuracy: 0.1983 - val_loss: 1.6094 - val_accuracy: 0.2052\n",
      "Epoch 5/5\n",
      "8625/8625 [==============================] - 14s 2ms/sample - loss: 1.6094 - accuracy: 0.1983 - val_loss: 1.6094 - val_accuracy: 0.2052\n"
     ]
    }
   ],
   "source": [
    "classifier = Sequential()\n",
    "\n",
    "classifier.add(LSTM(175,  activation='relu'))\n",
    "classifier.add(Dense(250, activation='relu'))\n",
    "classifier.add(Dense(250, activation='relu'))\n",
    "classifier.add(Dense(50,  activation='relu'))\n",
    "classifier.add(Dense(6,   activation='sigmoid'))\n",
    "\n",
    "classifier.compile(optimizer ='adam',loss='categorical_crossentropy', metrics =['accuracy'])\n",
    "\n",
    "history = classifier.fit(seqTrain,y_train, batch_size=32, epochs=5, validation_data=(seqTest,y_test)).history\n",
    "# epoch = 30\n",
    "# 2s 252us/step - loss: 1.4459 - acc: 0.3089 - val_loss: 1.4135 - val_acc: 0.3273\n"
   ]
  },
  {
   "cell_type": "code",
   "execution_count": 93,
   "metadata": {
    "colab": {},
    "colab_type": "code",
    "id": "rNk7ATuWISxk"
   },
   "outputs": [
    {
     "data": {
      "text/plain": [
       "(8625, 50, 1)"
      ]
     },
     "execution_count": 93,
     "metadata": {},
     "output_type": "execute_result"
    }
   ],
   "source": [
    "seqTrain.shape"
   ]
  },
  {
   "cell_type": "code",
   "execution_count": null,
   "metadata": {
    "colab": {},
    "colab_type": "code",
    "id": "Y0YjoAjWIS0m"
   },
   "outputs": [],
   "source": []
  },
  {
   "cell_type": "code",
   "execution_count": null,
   "metadata": {
    "colab": {},
    "colab_type": "code",
    "id": "d-bcxRKjIS3_"
   },
   "outputs": [],
   "source": []
  },
  {
   "cell_type": "code",
   "execution_count": null,
   "metadata": {
    "colab": {},
    "colab_type": "code",
    "id": "uRPoBJcAIS67"
   },
   "outputs": [],
   "source": []
  },
  {
   "cell_type": "code",
   "execution_count": null,
   "metadata": {
    "colab": {},
    "colab_type": "code",
    "id": "d0t9CNPwISCf"
   },
   "outputs": [],
   "source": []
  },
  {
   "cell_type": "code",
   "execution_count": null,
   "metadata": {
    "colab": {},
    "colab_type": "code",
    "id": "DgAk311xIR_d"
   },
   "outputs": [],
   "source": []
  },
  {
   "cell_type": "code",
   "execution_count": null,
   "metadata": {
    "colab": {},
    "colab_type": "code",
    "id": "Gs_-aH45IR74"
   },
   "outputs": [],
   "source": []
  },
  {
   "cell_type": "code",
   "execution_count": null,
   "metadata": {
    "colab": {},
    "colab_type": "code",
    "id": "wFqJo_QxIR48"
   },
   "outputs": [],
   "source": []
  }
 ],
 "metadata": {
  "accelerator": "GPU",
  "colab": {
   "collapsed_sections": [],
   "include_colab_link": true,
   "name": "Epileptic Seizure Recognition - 4 classes",
   "provenance": []
  },
  "kernelspec": {
   "display_name": "Python 3",
   "language": "python",
   "name": "python3"
  },
  "language_info": {
   "codemirror_mode": {
    "name": "ipython",
    "version": 3
   },
   "file_extension": ".py",
   "mimetype": "text/x-python",
   "name": "python",
   "nbconvert_exporter": "python",
   "pygments_lexer": "ipython3",
   "version": "3.7.6"
  }
 },
 "nbformat": 4,
 "nbformat_minor": 1
}
